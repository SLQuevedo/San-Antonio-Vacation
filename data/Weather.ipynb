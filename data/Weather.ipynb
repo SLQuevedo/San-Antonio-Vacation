{
 "cells": [
  {
   "cell_type": "code",
   "execution_count": 113,
   "metadata": {},
   "outputs": [],
   "source": [
    "# Dependencies\n",
    "import csv\n",
    "import requests\n",
    "import pandas\n",
    "import json\n",
    "import requests\n",
    "from config import api_key"
   ]
  },
  {
   "cell_type": "code",
   "execution_count": 114,
   "metadata": {},
   "outputs": [],
   "source": [
    "# Save config information\n",
    "url = \"https://api.openweathermap.org/data/2.5/weather?\"\n",
    "units = \"imperial\"\n",
    "\n",
    "\n",
    "# Build partial query URL\n",
    "query_url = f\"{url}appid={api_key}&units={units}&q=\""
   ]
  },
  {
   "cell_type": "code",
   "execution_count": 115,
   "metadata": {},
   "outputs": [
    {
     "name": "stdout",
     "output_type": "stream",
     "text": [
      "The latitude information received is: [38.8339, 39.9523, 40.7357, 38.6273, 39.0376, 37.7749, 31.8001, 20.6667, 29.7633, 39.0997, 36.175, 21.1167, 34.0522, 25.7743, 19.4285, 25.6667, 44.98, 29.9547, 36.1659, 38.6273, 27.9475, 32.7153, 40.6255, 35.5501, 28.5383, 35.0845, 33.749, 39.2904, 42.3584, 21.1743, 35.2271, 41.85, 32.7668, 39.7392, 42.3314, 29.4241, 47.6062]\n",
      "The temperature information received is: [47.53, 52.66, 54.64, 48.61, 50.72, 61.14, 67.23, 60.57, 72.73, 54.5, 69.44, 60.26, 64.02, 79.63, 61.05, 74.57, 44.17, 67.95, 58.53, 48.61, 72.27, 63.45, 53.69, 62.04, 69.37, 58.98, 59.07, 52.45, 49.57, 80.06, 57.7, 46.89, 77.83, 50.68, 42.26, 73.72, 58.53]\n"
     ]
    }
   ],
   "source": [
    "cities = [\"Colorado Springs\", \"Philadelphia\", \"Newark\", \"St Louis\", \"Dulles\", \"San Francisco\", \"El Paso\", \"Guadalajara\", \"Houston\", \"Kansas City\", \"Las Vegas\", \"Leon\", \"Los Angeles\", \"Miami\", \"Mexico City\", \"Monterrey\", \"Minneapolis\", \"New Orleans\", \"Nashville\", \"St. Louis\", \"Tampa\", \"San Diego\", \"Salt Lake\", \"Oklahoma\", \"Orlando\", \"Albuquerque\", \"Atlanta\", \"Baltimore\", \"Boston\", \"Cancun\", \"Charlotte\", \"Chicago\", \"Dallas\", \"Denver\", \"Detroit\", \"San Antonio\", \"Seattle\"]\n",
    "# set up lists to hold reponse info\n",
    "lat = []\n",
    "temp = []\n",
    "\n",
    "# Loop through the list of cities and perform a request for data on each\n",
    "for city in cities:\n",
    "    response = requests.get(query_url + city).json()\n",
    "    lat.append(response['coord']['lat'])\n",
    "    temp.append(response['main']['temp'])\n",
    "\n",
    "print(f\"The latitude information received is: {lat}\")\n",
    "print(f\"The temperature information received is: {temp}\")"
   ]
  },
  {
   "cell_type": "code",
   "execution_count": 116,
   "metadata": {},
   "outputs": [
    {
     "name": "stdout",
     "output_type": "stream",
     "text": [
      "37 37 37\n"
     ]
    }
   ],
   "source": [
    "print(len(lat), len(temp), len(cities))"
   ]
  },
  {
   "cell_type": "code",
   "execution_count": 117,
   "metadata": {},
   "outputs": [
    {
     "data": {
      "text/html": [
       "<div>\n",
       "<style scoped>\n",
       "    .dataframe tbody tr th:only-of-type {\n",
       "        vertical-align: middle;\n",
       "    }\n",
       "\n",
       "    .dataframe tbody tr th {\n",
       "        vertical-align: top;\n",
       "    }\n",
       "\n",
       "    .dataframe thead th {\n",
       "        text-align: right;\n",
       "    }\n",
       "</style>\n",
       "<table border=\"1\" class=\"dataframe\">\n",
       "  <thead>\n",
       "    <tr style=\"text-align: right;\">\n",
       "      <th></th>\n",
       "      <th>city</th>\n",
       "      <th>lat</th>\n",
       "      <th>temp</th>\n",
       "    </tr>\n",
       "  </thead>\n",
       "  <tbody>\n",
       "    <tr>\n",
       "      <th>0</th>\n",
       "      <td>Colorado Springs</td>\n",
       "      <td>38.8339</td>\n",
       "      <td>47.53</td>\n",
       "    </tr>\n",
       "    <tr>\n",
       "      <th>1</th>\n",
       "      <td>Philadelphia</td>\n",
       "      <td>39.9523</td>\n",
       "      <td>52.66</td>\n",
       "    </tr>\n",
       "    <tr>\n",
       "      <th>2</th>\n",
       "      <td>Newark</td>\n",
       "      <td>40.7357</td>\n",
       "      <td>54.64</td>\n",
       "    </tr>\n",
       "    <tr>\n",
       "      <th>3</th>\n",
       "      <td>St Louis</td>\n",
       "      <td>38.6273</td>\n",
       "      <td>48.61</td>\n",
       "    </tr>\n",
       "    <tr>\n",
       "      <th>4</th>\n",
       "      <td>Dulles</td>\n",
       "      <td>39.0376</td>\n",
       "      <td>50.72</td>\n",
       "    </tr>\n",
       "  </tbody>\n",
       "</table>\n",
       "</div>"
      ],
      "text/plain": [
       "               city      lat   temp\n",
       "0  Colorado Springs  38.8339  47.53\n",
       "1      Philadelphia  39.9523  52.66\n",
       "2            Newark  40.7357  54.64\n",
       "3          St Louis  38.6273  48.61\n",
       "4            Dulles  39.0376  50.72"
      ]
     },
     "execution_count": 117,
     "metadata": {},
     "output_type": "execute_result"
    }
   ],
   "source": [
    "# create a data frame from cities, lat, and temp\n",
    "weather_dict = {\n",
    "    \"city\": cities,\n",
    "    \"lat\": lat,\n",
    "    \"temp\": temp\n",
    "}\n",
    "weather_data = pd.DataFrame(weather_dict)\n",
    "weather_data.head()"
   ]
  },
  {
   "cell_type": "code",
   "execution_count": 124,
   "metadata": {},
   "outputs": [
    {
     "name": "stdout",
     "output_type": "stream",
     "text": [
      "The actual temperature of Cities are 47.53\n"
     ]
    }
   ],
   "source": [
    "# Use API to determine actual temperature\n",
    "response = requests.get(query_url + \"Colorado Springs\").json()\n",
    "actual_temp = response['main']['temp']\n",
    "\n",
    "print(f\"The actual temperature of Cities are {actual_temp}\")"
   ]
  },
  {
   "cell_type": "code",
   "execution_count": 122,
   "metadata": {},
   "outputs": [],
   "source": [
    "weather_data.to_csv(\"Weather.csv\")"
   ]
  },
  {
   "cell_type": "code",
   "execution_count": null,
   "metadata": {},
   "outputs": [],
   "source": []
  },
  {
   "cell_type": "code",
   "execution_count": null,
   "metadata": {},
   "outputs": [],
   "source": []
  }
 ],
 "metadata": {
  "kernelspec": {
   "display_name": "Python 3 (ipykernel)",
   "language": "python",
   "name": "python3"
  },
  "language_info": {
   "codemirror_mode": {
    "name": "ipython",
    "version": 3
   },
   "file_extension": ".py",
   "mimetype": "text/x-python",
   "name": "python",
   "nbconvert_exporter": "python",
   "pygments_lexer": "ipython3",
   "version": "3.9.12"
  },
  "varInspector": {
   "cols": {
    "lenName": 16,
    "lenType": 16,
    "lenVar": 40
   },
   "kernels_config": {
    "python": {
     "delete_cmd_postfix": "",
     "delete_cmd_prefix": "del ",
     "library": "var_list.py",
     "varRefreshCmd": "print(var_dic_list())"
    },
    "r": {
     "delete_cmd_postfix": ") ",
     "delete_cmd_prefix": "rm(",
     "library": "var_list.r",
     "varRefreshCmd": "cat(var_dic_list()) "
    }
   },
   "types_to_exclude": [
    "module",
    "function",
    "builtin_function_or_method",
    "instance",
    "_Feature"
   ],
   "window_display": false
  }
 },
 "nbformat": 4,
 "nbformat_minor": 2
}
