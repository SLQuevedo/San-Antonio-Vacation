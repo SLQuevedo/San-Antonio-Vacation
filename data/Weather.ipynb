{
 "cells": [
  {
   "cell_type": "code",
   "execution_count": 113,
   "metadata": {},
   "outputs": [],
   "source": [
    "# Dependencies\n",
    "import csv\n",
    "import requests\n",
    "import pandas\n",
    "import json\n",
    "import requests\n",
    "from config import api_key"
   ]
  },
  {
   "cell_type": "code",
   "execution_count": 127,
   "metadata": {},
   "outputs": [],
   "source": [
    "# Save config information\n",
    "url = \"https://api.openweathermap.org/data/2.5/weather?\"\n",
    "units = \"imperial\"\n",
    "\n",
    "\n",
    "# Build partial query URL\n",
    "query_url = f\"{url}appid={api_key}&units={units}&q=\""
   ]
  },
  {
   "cell_type": "code",
   "execution_count": 128,
   "metadata": {},
   "outputs": [
    {
     "name": "stdout",
     "output_type": "stream",
     "text": [
      "The latitude information received is: [35.0845, 33.749, 39.2904, 42.3584, 21.1743, 35.2271, 41.85, 38.8339, 32.7668, 32.7254, 39.7392, 42.3314, 31.8001, 20.6667, 29.7633, 29.7633, 39.0997, 36.175, 21.1167, 34.0522, 19.4285, 25.7743, 44.98, 25.6667, 36.1659, 29.9547, 40.7143, 40.7143, 35.4676, 28.5383, 39.9523, 33.4484, 40.7608, 32.7153, 37.7749, 47.6062, 38.6273, 27.9475, 38.8951]\n",
      "The temperature information received is: [56.01, 56.64, 53.96, 49.5, 78.73, 57.2, 46.08, 46.9, 76.96, 76.59, 50.34, 41.99, 66.83, 62.37, 72.25, 72.25, 53.89, 68.99, 64.45, 63.9, 60.19, 79.32, 43.03, 73.56, 59.38, 67.21, 56.01, 56.01, 62.58, 69.08, 52.38, 65.86, 53.33, 63.37, 61.16, 57.69, 48.47, 71.33, 53.4]\n"
     ]
    }
   ],
   "source": [
    "#Direct Flight Weather API\n",
    "cities = [\"Albuquerque\", \"Atlanta\", \"Baltimore\", \"Boston\", \"Cancun\",\n",
    "\"Charlotte\", \"Chicago\", \"Colorado Springs\", \"Dallas\",\"Fort Worth\",\"Denver\", \"Detroit\", \"El Paso\", \"Guadalajara\", \"Houston\", \"Houston\", \"Kansas City\", \"Las Vegas\",\n",
    "\"Leon\", \"Los Angeles\" ,\"Mexico City\", \"Miami\", \"Minneapolis\", \"Monterrey\", \"Nashville\", \"New Orleans\",\"New York City\", \"New York City\",\n",
    "\"Oklahoma City\",\"Orlando\", \"Philadelphia\",\"Phoenix\",\"Salt Lake City\", \"San Diego\",\"San Francisco\",\"Seattle\",\n",
    "\"St. Louis\", \"Tampa\", \"Washington DC\"]\n",
    "# set up lists to hold reponse info\n",
    "lat = []\n",
    "temp = []\n",
    "\n",
    "# Loop through the list of cities and perform a request for data on each\n",
    "for city in cities:\n",
    "    response = requests.get(query_url + city).json()\n",
    "    lat.append(response['coord']['lat'])\n",
    "    temp.append(response['main']['temp'])\n",
    "\n",
    "print(f\"The latitude information received is: {lat}\")\n",
    "print(f\"The temperature information received is: {temp}\")"
   ]
  },
  {
   "cell_type": "code",
   "execution_count": 129,
   "metadata": {},
   "outputs": [
    {
     "name": "stdout",
     "output_type": "stream",
     "text": [
      "39 39 39\n"
     ]
    }
   ],
   "source": [
    "print(len(lat), len(temp), len(cities))"
   ]
  },
  {
   "cell_type": "code",
   "execution_count": 130,
   "metadata": {},
   "outputs": [
    {
     "data": {
      "text/html": [
       "<div>\n",
       "<style scoped>\n",
       "    .dataframe tbody tr th:only-of-type {\n",
       "        vertical-align: middle;\n",
       "    }\n",
       "\n",
       "    .dataframe tbody tr th {\n",
       "        vertical-align: top;\n",
       "    }\n",
       "\n",
       "    .dataframe thead th {\n",
       "        text-align: right;\n",
       "    }\n",
       "</style>\n",
       "<table border=\"1\" class=\"dataframe\">\n",
       "  <thead>\n",
       "    <tr style=\"text-align: right;\">\n",
       "      <th></th>\n",
       "      <th>city</th>\n",
       "      <th>lat</th>\n",
       "      <th>temp</th>\n",
       "    </tr>\n",
       "  </thead>\n",
       "  <tbody>\n",
       "    <tr>\n",
       "      <th>0</th>\n",
       "      <td>Albuquerque</td>\n",
       "      <td>35.0845</td>\n",
       "      <td>56.01</td>\n",
       "    </tr>\n",
       "    <tr>\n",
       "      <th>1</th>\n",
       "      <td>Atlanta</td>\n",
       "      <td>33.7490</td>\n",
       "      <td>56.64</td>\n",
       "    </tr>\n",
       "    <tr>\n",
       "      <th>2</th>\n",
       "      <td>Baltimore</td>\n",
       "      <td>39.2904</td>\n",
       "      <td>53.96</td>\n",
       "    </tr>\n",
       "    <tr>\n",
       "      <th>3</th>\n",
       "      <td>Boston</td>\n",
       "      <td>42.3584</td>\n",
       "      <td>49.50</td>\n",
       "    </tr>\n",
       "    <tr>\n",
       "      <th>4</th>\n",
       "      <td>Cancun</td>\n",
       "      <td>21.1743</td>\n",
       "      <td>78.73</td>\n",
       "    </tr>\n",
       "  </tbody>\n",
       "</table>\n",
       "</div>"
      ],
      "text/plain": [
       "          city      lat   temp\n",
       "0  Albuquerque  35.0845  56.01\n",
       "1      Atlanta  33.7490  56.64\n",
       "2    Baltimore  39.2904  53.96\n",
       "3       Boston  42.3584  49.50\n",
       "4       Cancun  21.1743  78.73"
      ]
     },
     "execution_count": 130,
     "metadata": {},
     "output_type": "execute_result"
    }
   ],
   "source": [
    "# create a data frame from cities, lat, and temp\n",
    "weather_dict = {\n",
    "    \"city\": cities,\n",
    "    \"lat\": lat,\n",
    "    \"temp\": temp\n",
    "}\n",
    "weather_data = pd.DataFrame(weather_dict)\n",
    "weather_data.head()"
   ]
  },
  {
   "cell_type": "code",
   "execution_count": 131,
   "metadata": {},
   "outputs": [
    {
     "name": "stdout",
     "output_type": "stream",
     "text": [
      "The actual temperature of Cities are 46.9\n"
     ]
    }
   ],
   "source": [
    "# Use API to determine actual temperature\n",
    "response = requests.get(query_url + \"Colorado Springs\").json()\n",
    "actual_temp = response['main']['temp']\n",
    "\n",
    "print(f\"The actual temperature of Cities are {actual_temp}\")"
   ]
  },
  {
   "cell_type": "code",
   "execution_count": 132,
   "metadata": {},
   "outputs": [],
   "source": [
    "weather_data.to_csv(\"direct.csv\")"
   ]
  },
  {
   "cell_type": "code",
   "execution_count": 133,
   "metadata": {},
   "outputs": [
    {
     "name": "stdout",
     "output_type": "stream",
     "text": [
      "The latitude information received is: [35.0845, 33.749, 39.2904, 42.3584, 21.1743, 35.2271, 41.85, 38.8339, 32.7668, 32.7254, 39.7392, 42.3314, 31.8001, 20.6667, 29.7633, 29.7633, 39.0997, 36.175, 21.1167, 34.0522, 19.4285, 25.7743, 44.98, 25.6667, 36.1659, 29.9547, 40.7143, 40.7143, 35.4676, 28.5383, 39.9523, 33.4484, 40.7608, 32.7153, 37.7749, 47.6062, 38.6273, 27.9475, 38.8951]\n",
      "The temperature information received is: [56.01, 56.64, 53.96, 49.5, 78.73, 56.95, 46.08, 46.9, 76.96, 76.59, 50.34, 41.99, 66.83, 62.37, 72.25, 72.25, 53.89, 68.99, 64.45, 63.9, 60.19, 79.29, 42.76, 73.56, 59.18, 67.21, 56.03, 56.03, 62.58, 69.08, 52.38, 65.86, 53.33, 63.37, 61.16, 57.69, 48.47, 71.33, 53.4]\n"
     ]
    }
   ],
   "source": [
    "#Indirect Flight Weather API\n",
    "cities2 = ['Fort Lauderdale','Honolulu','Portland','Tampa','Cincinnati','Oakland','Pittsburgh','San Jose','Raleigh','Memphis',\n",
    " 'Santa Ana','Cleveland','Indianapolis','Columbus','Tucson','Buffalo','Anchorage','Jacksonville','Hartford','West Palm Beach','Kahului','Sacramento','Norfolk','Reno','Burbank','Long Beach','Providence','Oshkosh','Omaha','Louisville','Ontario','Syracuse','White Plains','Albany','Charleston','Birmingham','Richmond','Rochester','Savannah','Dayton','Spokane','Boise','Manchester',\n",
    " 'Fort Myers','Portland','Santa Barbara','Wichita','Palm Springs','Madison','Grand Rapids','Des Moines','Burlington','Little Rock','Greensboro','Tulsa','Kailua','Santa Monica','Pensacola','Teterboro','Van Nuys','Rapid City','Knoxville','Tallahassee','Fresno','Sarasota']\n",
    "# set up lists to hold reponse info\n",
    "lat = []\n",
    "temp = []\n",
    "\n",
    "# Loop through the list of cities and perform a request for data on each\n",
    "for city in cities:\n",
    "    response = requests.get(query_url + city).json()\n",
    "    lat.append(response['coord']['lat'])\n",
    "    temp.append(response['main']['temp'])\n",
    "\n",
    "print(f\"The latitude information received is: {lat}\")\n",
    "print(f\"The temperature information received is: {temp}\")"
   ]
  },
  {
   "cell_type": "code",
   "execution_count": 136,
   "metadata": {},
   "outputs": [
    {
     "name": "stdout",
     "output_type": "stream",
     "text": [
      "39 39 39\n"
     ]
    }
   ],
   "source": [
    "print(len(lat), len(temp), len(cities))"
   ]
  },
  {
   "cell_type": "code",
   "execution_count": 134,
   "metadata": {},
   "outputs": [
    {
     "data": {
      "text/html": [
       "<div>\n",
       "<style scoped>\n",
       "    .dataframe tbody tr th:only-of-type {\n",
       "        vertical-align: middle;\n",
       "    }\n",
       "\n",
       "    .dataframe tbody tr th {\n",
       "        vertical-align: top;\n",
       "    }\n",
       "\n",
       "    .dataframe thead th {\n",
       "        text-align: right;\n",
       "    }\n",
       "</style>\n",
       "<table border=\"1\" class=\"dataframe\">\n",
       "  <thead>\n",
       "    <tr style=\"text-align: right;\">\n",
       "      <th></th>\n",
       "      <th>city</th>\n",
       "      <th>lat</th>\n",
       "      <th>temp</th>\n",
       "    </tr>\n",
       "  </thead>\n",
       "  <tbody>\n",
       "    <tr>\n",
       "      <th>0</th>\n",
       "      <td>Albuquerque</td>\n",
       "      <td>35.0845</td>\n",
       "      <td>56.01</td>\n",
       "    </tr>\n",
       "    <tr>\n",
       "      <th>1</th>\n",
       "      <td>Atlanta</td>\n",
       "      <td>33.7490</td>\n",
       "      <td>56.64</td>\n",
       "    </tr>\n",
       "    <tr>\n",
       "      <th>2</th>\n",
       "      <td>Baltimore</td>\n",
       "      <td>39.2904</td>\n",
       "      <td>53.96</td>\n",
       "    </tr>\n",
       "    <tr>\n",
       "      <th>3</th>\n",
       "      <td>Boston</td>\n",
       "      <td>42.3584</td>\n",
       "      <td>49.50</td>\n",
       "    </tr>\n",
       "    <tr>\n",
       "      <th>4</th>\n",
       "      <td>Cancun</td>\n",
       "      <td>21.1743</td>\n",
       "      <td>78.73</td>\n",
       "    </tr>\n",
       "  </tbody>\n",
       "</table>\n",
       "</div>"
      ],
      "text/plain": [
       "          city      lat   temp\n",
       "0  Albuquerque  35.0845  56.01\n",
       "1      Atlanta  33.7490  56.64\n",
       "2    Baltimore  39.2904  53.96\n",
       "3       Boston  42.3584  49.50\n",
       "4       Cancun  21.1743  78.73"
      ]
     },
     "execution_count": 134,
     "metadata": {},
     "output_type": "execute_result"
    }
   ],
   "source": [
    "# create a data frame from cities, lat, and temp\n",
    "weather_dict2 = {\n",
    "    \"city\": cities,\n",
    "    \"lat\": lat,\n",
    "    \"temp\": temp\n",
    "}\n",
    "weather_data2 = pd.DataFrame(weather_dict2)\n",
    "weather_data2.head()"
   ]
  },
  {
   "cell_type": "code",
   "execution_count": 135,
   "metadata": {},
   "outputs": [],
   "source": [
    "weather_data.to_csv(\"Indirect.csv\")"
   ]
  },
  {
   "cell_type": "code",
   "execution_count": null,
   "metadata": {},
   "outputs": [],
   "source": []
  }
 ],
 "metadata": {
  "kernelspec": {
   "display_name": "Python 3 (ipykernel)",
   "language": "python",
   "name": "python3"
  },
  "language_info": {
   "codemirror_mode": {
    "name": "ipython",
    "version": 3
   },
   "file_extension": ".py",
   "mimetype": "text/x-python",
   "name": "python",
   "nbconvert_exporter": "python",
   "pygments_lexer": "ipython3",
   "version": "3.9.12"
  },
  "varInspector": {
   "cols": {
    "lenName": 16,
    "lenType": 16,
    "lenVar": 40
   },
   "kernels_config": {
    "python": {
     "delete_cmd_postfix": "",
     "delete_cmd_prefix": "del ",
     "library": "var_list.py",
     "varRefreshCmd": "print(var_dic_list())"
    },
    "r": {
     "delete_cmd_postfix": ") ",
     "delete_cmd_prefix": "rm(",
     "library": "var_list.r",
     "varRefreshCmd": "cat(var_dic_list()) "
    }
   },
   "types_to_exclude": [
    "module",
    "function",
    "builtin_function_or_method",
    "instance",
    "_Feature"
   ],
   "window_display": false
  }
 },
 "nbformat": 4,
 "nbformat_minor": 2
}
