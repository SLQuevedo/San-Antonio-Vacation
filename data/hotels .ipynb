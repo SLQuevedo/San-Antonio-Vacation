{
 "cells": [
  {
   "cell_type": "code",
   "execution_count": 1,
   "id": "42002471",
   "metadata": {},
   "outputs": [],
   "source": [
    "\n",
    "# Dependencies\n",
    "import requests\n",
    "import json\n",
    "\n",
    "import requests\n",
    "import gmaps\n",
    "import os\n",
    "import pandas as pd"
   ]
  },
  {
   "cell_type": "code",
   "execution_count": 2,
   "id": "53a97ab1",
   "metadata": {},
   "outputs": [],
   "source": [
    "L = open(\"airports.json\")"
   ]
  },
  {
   "cell_type": "code",
   "execution_count": 3,
   "id": "893d340a",
   "metadata": {},
   "outputs": [],
   "source": [
    "data = json.load(L)"
   ]
  },
  {
   "cell_type": "code",
   "execution_count": 4,
   "id": "fd2c9615",
   "metadata": {},
   "outputs": [
    {
     "data": {
      "text/plain": [
       "{'GMT': '-7',\n",
       " 'airportId': 41,\n",
       " 'codeIataAirport': 'ABQ',\n",
       " 'codeIataCity': 'ABQ',\n",
       " 'codeIcaoAirport': 'KABQ',\n",
       " 'codeIso2Country': 'US',\n",
       " 'geonameId': '5454724',\n",
       " 'latitudeAirport': 35.049625,\n",
       " 'longitudeAirport': -106.617195,\n",
       " 'nameAirport': 'Albuquerque International',\n",
       " 'nameCountry': 'United States',\n",
       " 'phone': '505-244-7700',\n",
       " 'timezone': 'America/Denver'}"
      ]
     },
     "execution_count": 4,
     "metadata": {},
     "output_type": "execute_result"
    }
   ],
   "source": [
    "data[0][0]"
   ]
  },
  {
   "cell_type": "code",
   "execution_count": 5,
   "id": "c6b84abb",
   "metadata": {},
   "outputs": [
    {
     "data": {
      "text/plain": [
       "40"
      ]
     },
     "execution_count": 5,
     "metadata": {},
     "output_type": "execute_result"
    }
   ],
   "source": [
    "len(data)"
   ]
  },
  {
   "cell_type": "code",
   "execution_count": 6,
   "id": "8431932d",
   "metadata": {},
   "outputs": [
    {
     "name": "stdout",
     "output_type": "stream",
     "text": [
      "Empty DataFrame\n",
      "Columns: [Hotel Name, Rating, Address, City Code, Place ID]\n",
      "Index: []\n"
     ]
    }
   ],
   "source": [
    "hotels_df = pd.DataFrame(columns = ['Hotel Name', 'Rating', 'Address', 'City Code', 'Place ID'])\n",
    "  \n",
    "print(hotels_df)"
   ]
  },
  {
   "cell_type": "code",
   "execution_count": 8,
   "id": "1f206d69",
   "metadata": {},
   "outputs": [
    {
     "name": "stdout",
     "output_type": "stream",
     "text": [
      "Retrieving results for index 0 : ABQ\n",
      "ABQ\n",
      "{'business_status': 'OPERATIONAL', 'geometry': {'location': {'lat': 35.049534, 'lng': -106.632888}, 'viewport': {'northeast': {'lat': 35.0509709802915, 'lng': -106.6314329697085}, 'southwest': {'lat': 35.0482730197085, 'lng': -106.6341309302915}}}, 'icon': 'https://maps.gstatic.com/mapfiles/place_api/icons/v1/png_71/lodging-71.png', 'icon_background_color': '#909CE1', 'icon_mask_base_uri': 'https://maps.gstatic.com/mapfiles/place_api/icons/v2/hotel_pinlet', 'name': 'Holiday Inn & Suites Albuquerque Airport, an IHG Hotel', 'photos': [{'height': 1365, 'html_attributions': ['<a href=\"https://maps.google.com/maps/contrib/107177585320794269780\">Holiday Inn &amp; Suites Albuquerque Airport, an IHG Hotel</a>'], 'photo_reference': 'AcYSjRjC_UY6Bc1lT6OD2ZNFCqgZG7bwhEQWzk_7ZTNX_-6CecTeaGM9qWZgz6LWVvMwC5Dza4NGv6k_SZIeNpRjaeQoXLlCdjgmVBIQcXodUUVM0-F5ts7vxFmx_7zdsUdwHiMm2IbmQwjUJYE1UpqlFbAeB2Vo0QWFQPBmOVhVs4o0qmn_', 'width': 2048}], 'place_id': 'ChIJWSNsYHcMIocRAEwTzmc2p4Q', 'plus_code': {'compound_code': '29X8+RR Albuquerque, NM, USA', 'global_code': '857M29X8+RR'}, 'rating': 3.7, 'reference': 'ChIJWSNsYHcMIocRAEwTzmc2p4Q', 'scope': 'GOOGLE', 'types': ['lodging', 'point_of_interest', 'establishment'], 'user_ratings_total': 915, 'vicinity': '1501 Sunport Place Southeast, Albuquerque'}\n"
     ]
    },
    {
     "name": "stderr",
     "output_type": "stream",
     "text": [
      "C:\\Users\\Owner\\AppData\\Local\\Temp\\ipykernel_15040\\3651341654.py:36: FutureWarning: The frame.append method is deprecated and will be removed from pandas in a future version. Use pandas.concat instead.\n",
      "  hotels_df = hotels_df.append({'Hotel Name': name, 'Rating': rating, 'Address': vicinity, 'City Code': city_code, 'Place ID': place_ID}, ignore_index = True)\n",
      "C:\\Users\\Owner\\AppData\\Local\\Temp\\ipykernel_15040\\3651341654.py:36: FutureWarning: The frame.append method is deprecated and will be removed from pandas in a future version. Use pandas.concat instead.\n",
      "  hotels_df = hotels_df.append({'Hotel Name': name, 'Rating': rating, 'Address': vicinity, 'City Code': city_code, 'Place ID': place_ID}, ignore_index = True)\n",
      "C:\\Users\\Owner\\AppData\\Local\\Temp\\ipykernel_15040\\3651341654.py:36: FutureWarning: The frame.append method is deprecated and will be removed from pandas in a future version. Use pandas.concat instead.\n",
      "  hotels_df = hotels_df.append({'Hotel Name': name, 'Rating': rating, 'Address': vicinity, 'City Code': city_code, 'Place ID': place_ID}, ignore_index = True)\n",
      "C:\\Users\\Owner\\AppData\\Local\\Temp\\ipykernel_15040\\3651341654.py:36: FutureWarning: The frame.append method is deprecated and will be removed from pandas in a future version. Use pandas.concat instead.\n",
      "  hotels_df = hotels_df.append({'Hotel Name': name, 'Rating': rating, 'Address': vicinity, 'City Code': city_code, 'Place ID': place_ID}, ignore_index = True)\n",
      "C:\\Users\\Owner\\AppData\\Local\\Temp\\ipykernel_15040\\3651341654.py:36: FutureWarning: The frame.append method is deprecated and will be removed from pandas in a future version. Use pandas.concat instead.\n",
      "  hotels_df = hotels_df.append({'Hotel Name': name, 'Rating': rating, 'Address': vicinity, 'City Code': city_code, 'Place ID': place_ID}, ignore_index = True)\n"
     ]
    },
    {
     "name": "stdout",
     "output_type": "stream",
     "text": [
      "Retrieving results for index 1 : ATL\n",
      "ATL\n",
      "{'business_status': 'OPERATIONAL', 'geometry': {'location': {'lat': 33.6442308, 'lng': -84.4553054}, 'viewport': {'northeast': {'lat': 33.64541268029149, 'lng': -84.4543060197085}, 'southwest': {'lat': 33.64271471970849, 'lng': -84.4570039802915}}}, 'icon': 'https://maps.gstatic.com/mapfiles/place_api/icons/v1/png_71/lodging-71.png', 'icon_background_color': '#909CE1', 'icon_mask_base_uri': 'https://maps.gstatic.com/mapfiles/place_api/icons/v2/hotel_pinlet', 'name': 'Atlanta Airport Marriott Gateway', 'photos': [{'height': 320, 'html_attributions': ['<a href=\"https://maps.google.com/maps/contrib/112762566673772510340\">Atlanta Airport Marriott Gateway</a>'], 'photo_reference': 'AcYSjRgIJ-SGHZ1cpsNr-ObeamTNM8v-1a4tkuHzJeGEzedpoZBb7s9UPqr2wDb5JdOYR1JC7MbPVabmqYbf0qigDcfKa_4Si9HZfZTIa9Yld3WyKR_QyAvXGitAjgMEXzbmAW-T7CE6iqouKI0_U4FP3lB2BT4gHa5Q0neIY49qeytm8sk2', 'width': 480}], 'place_id': 'ChIJh9qjPsLi9IgRiBpQaVMRTmM', 'plus_code': {'compound_code': 'JGVV+MV Atlanta, GA, USA', 'global_code': '865QJGVV+MV'}, 'rating': 4.4, 'reference': 'ChIJh9qjPsLi9IgRiBpQaVMRTmM', 'scope': 'GOOGLE', 'types': ['lodging', 'point_of_interest', 'establishment'], 'user_ratings_total': 2509, 'vicinity': '2020 Convention Center Concourse, Atlanta'}\n",
      "Retrieving results for index 2 : BWI\n"
     ]
    },
    {
     "name": "stderr",
     "output_type": "stream",
     "text": [
      "C:\\Users\\Owner\\AppData\\Local\\Temp\\ipykernel_15040\\3651341654.py:36: FutureWarning: The frame.append method is deprecated and will be removed from pandas in a future version. Use pandas.concat instead.\n",
      "  hotels_df = hotels_df.append({'Hotel Name': name, 'Rating': rating, 'Address': vicinity, 'City Code': city_code, 'Place ID': place_ID}, ignore_index = True)\n",
      "C:\\Users\\Owner\\AppData\\Local\\Temp\\ipykernel_15040\\3651341654.py:36: FutureWarning: The frame.append method is deprecated and will be removed from pandas in a future version. Use pandas.concat instead.\n",
      "  hotels_df = hotels_df.append({'Hotel Name': name, 'Rating': rating, 'Address': vicinity, 'City Code': city_code, 'Place ID': place_ID}, ignore_index = True)\n",
      "C:\\Users\\Owner\\AppData\\Local\\Temp\\ipykernel_15040\\3651341654.py:36: FutureWarning: The frame.append method is deprecated and will be removed from pandas in a future version. Use pandas.concat instead.\n",
      "  hotels_df = hotels_df.append({'Hotel Name': name, 'Rating': rating, 'Address': vicinity, 'City Code': city_code, 'Place ID': place_ID}, ignore_index = True)\n",
      "C:\\Users\\Owner\\AppData\\Local\\Temp\\ipykernel_15040\\3651341654.py:36: FutureWarning: The frame.append method is deprecated and will be removed from pandas in a future version. Use pandas.concat instead.\n",
      "  hotels_df = hotels_df.append({'Hotel Name': name, 'Rating': rating, 'Address': vicinity, 'City Code': city_code, 'Place ID': place_ID}, ignore_index = True)\n",
      "C:\\Users\\Owner\\AppData\\Local\\Temp\\ipykernel_15040\\3651341654.py:36: FutureWarning: The frame.append method is deprecated and will be removed from pandas in a future version. Use pandas.concat instead.\n",
      "  hotels_df = hotels_df.append({'Hotel Name': name, 'Rating': rating, 'Address': vicinity, 'City Code': city_code, 'Place ID': place_ID}, ignore_index = True)\n"
     ]
    },
    {
     "name": "stdout",
     "output_type": "stream",
     "text": [
      "BWI\n",
      "{'business_status': 'OPERATIONAL', 'geometry': {'location': {'lat': 39.195435, 'lng': -76.67943}, 'viewport': {'northeast': {'lat': 39.19675588029149, 'lng': -76.6781502197085}, 'southwest': {'lat': 39.19405791970849, 'lng': -76.6808481802915}}}, 'icon': 'https://maps.gstatic.com/mapfiles/place_api/icons/v1/png_71/lodging-71.png', 'icon_background_color': '#909CE1', 'icon_mask_base_uri': 'https://maps.gstatic.com/mapfiles/place_api/icons/v2/hotel_pinlet', 'name': 'Aloft BWI Baltimore Washington International Airport', 'photos': [{'height': 1366, 'html_attributions': ['<a href=\"https://maps.google.com/maps/contrib/117517436580170774899\">Aloft BWI Baltimore Washington International Airport</a>'], 'photo_reference': 'AcYSjRjx2khGzAGz10H1TCsLX0S_tbAYC7zVLXrnq1WNAKWvHkSrdUr1h1Xx11_FWwX7RDid17CcqBReeO8Nkc9-LJ5FZCayQ3mcRAspwgzDHSw-W6DZrGWcPXqEaiwxkIG-iou0yoGiLUl3r6KVDje_OGGuwhSoDUSB6TqQNEJpizs820FF', 'width': 2048}], 'place_id': 'ChIJUdwkj4zit4kRVFdQFZcppG4', 'plus_code': {'compound_code': '58WC+56 Linthicum Heights, MD, USA', 'global_code': '87F558WC+56'}, 'rating': 3.7, 'reference': 'ChIJUdwkj4zit4kRVFdQFZcppG4', 'scope': 'GOOGLE', 'types': ['lodging', 'point_of_interest', 'establishment'], 'user_ratings_total': 1373, 'vicinity': '1741 West Nursery Road, Linthicum Heights'}\n",
      "Retrieving results for index 3 : BOS\n"
     ]
    },
    {
     "name": "stderr",
     "output_type": "stream",
     "text": [
      "C:\\Users\\Owner\\AppData\\Local\\Temp\\ipykernel_15040\\3651341654.py:36: FutureWarning: The frame.append method is deprecated and will be removed from pandas in a future version. Use pandas.concat instead.\n",
      "  hotels_df = hotels_df.append({'Hotel Name': name, 'Rating': rating, 'Address': vicinity, 'City Code': city_code, 'Place ID': place_ID}, ignore_index = True)\n",
      "C:\\Users\\Owner\\AppData\\Local\\Temp\\ipykernel_15040\\3651341654.py:36: FutureWarning: The frame.append method is deprecated and will be removed from pandas in a future version. Use pandas.concat instead.\n",
      "  hotels_df = hotels_df.append({'Hotel Name': name, 'Rating': rating, 'Address': vicinity, 'City Code': city_code, 'Place ID': place_ID}, ignore_index = True)\n",
      "C:\\Users\\Owner\\AppData\\Local\\Temp\\ipykernel_15040\\3651341654.py:36: FutureWarning: The frame.append method is deprecated and will be removed from pandas in a future version. Use pandas.concat instead.\n",
      "  hotels_df = hotels_df.append({'Hotel Name': name, 'Rating': rating, 'Address': vicinity, 'City Code': city_code, 'Place ID': place_ID}, ignore_index = True)\n",
      "C:\\Users\\Owner\\AppData\\Local\\Temp\\ipykernel_15040\\3651341654.py:36: FutureWarning: The frame.append method is deprecated and will be removed from pandas in a future version. Use pandas.concat instead.\n",
      "  hotels_df = hotels_df.append({'Hotel Name': name, 'Rating': rating, 'Address': vicinity, 'City Code': city_code, 'Place ID': place_ID}, ignore_index = True)\n",
      "C:\\Users\\Owner\\AppData\\Local\\Temp\\ipykernel_15040\\3651341654.py:36: FutureWarning: The frame.append method is deprecated and will be removed from pandas in a future version. Use pandas.concat instead.\n",
      "  hotels_df = hotels_df.append({'Hotel Name': name, 'Rating': rating, 'Address': vicinity, 'City Code': city_code, 'Place ID': place_ID}, ignore_index = True)\n"
     ]
    },
    {
     "name": "stdout",
     "output_type": "stream",
     "text": [
      "BOS\n",
      "{'business_status': 'OPERATIONAL', 'geometry': {'location': {'lat': 42.3675085, 'lng': -71.0229555}, 'viewport': {'northeast': {'lat': 42.3687558302915, 'lng': -71.02171726970849}, 'southwest': {'lat': 42.3660578697085, 'lng': -71.0244152302915}}}, 'icon': 'https://maps.gstatic.com/mapfiles/place_api/icons/v1/png_71/lodging-71.png', 'icon_background_color': '#909CE1', 'icon_mask_base_uri': 'https://maps.gstatic.com/mapfiles/place_api/icons/v2/hotel_pinlet', 'name': 'Hilton Boston Logan Airport', 'photos': [{'height': 4320, 'html_attributions': ['<a href=\"https://maps.google.com/maps/contrib/114066130981216032728\">Hilton Boston Logan Airport</a>'], 'photo_reference': 'AcYSjRh8wvav3PGbBSYMkHQh9U4ZRKpfTZ8pbFUFzPeOC06B-HNrxoufst7jjUF5ePqDwTGO6UL9tsJhqUlyBgy7157yQYtboI_1HbGZNZ-WId54uh7Ytb4dx392laMpDRTLOaXWmC7qRAR_xtF7DHjOpmzAY1cTBGl5X4noiuYmzcccb2tS', 'width': 6480}], 'place_id': 'ChIJc9thrD9w44kRLRAPv-EXzT8', 'plus_code': {'compound_code': '9X9G+2R Boston, MA, USA', 'global_code': '87JC9X9G+2R'}, 'rating': 4.1, 'reference': 'ChIJc9thrD9w44kRLRAPv-EXzT8', 'scope': 'GOOGLE', 'types': ['lodging', 'point_of_interest', 'establishment'], 'user_ratings_total': 2817, 'vicinity': 'One Hotel Drive, Boston'}\n",
      "Retrieving results for index 4 : CUN\n"
     ]
    },
    {
     "name": "stderr",
     "output_type": "stream",
     "text": [
      "C:\\Users\\Owner\\AppData\\Local\\Temp\\ipykernel_15040\\3651341654.py:36: FutureWarning: The frame.append method is deprecated and will be removed from pandas in a future version. Use pandas.concat instead.\n",
      "  hotels_df = hotels_df.append({'Hotel Name': name, 'Rating': rating, 'Address': vicinity, 'City Code': city_code, 'Place ID': place_ID}, ignore_index = True)\n",
      "C:\\Users\\Owner\\AppData\\Local\\Temp\\ipykernel_15040\\3651341654.py:36: FutureWarning: The frame.append method is deprecated and will be removed from pandas in a future version. Use pandas.concat instead.\n",
      "  hotels_df = hotels_df.append({'Hotel Name': name, 'Rating': rating, 'Address': vicinity, 'City Code': city_code, 'Place ID': place_ID}, ignore_index = True)\n",
      "C:\\Users\\Owner\\AppData\\Local\\Temp\\ipykernel_15040\\3651341654.py:36: FutureWarning: The frame.append method is deprecated and will be removed from pandas in a future version. Use pandas.concat instead.\n",
      "  hotels_df = hotels_df.append({'Hotel Name': name, 'Rating': rating, 'Address': vicinity, 'City Code': city_code, 'Place ID': place_ID}, ignore_index = True)\n",
      "C:\\Users\\Owner\\AppData\\Local\\Temp\\ipykernel_15040\\3651341654.py:36: FutureWarning: The frame.append method is deprecated and will be removed from pandas in a future version. Use pandas.concat instead.\n",
      "  hotels_df = hotels_df.append({'Hotel Name': name, 'Rating': rating, 'Address': vicinity, 'City Code': city_code, 'Place ID': place_ID}, ignore_index = True)\n",
      "C:\\Users\\Owner\\AppData\\Local\\Temp\\ipykernel_15040\\3651341654.py:36: FutureWarning: The frame.append method is deprecated and will be removed from pandas in a future version. Use pandas.concat instead.\n",
      "  hotels_df = hotels_df.append({'Hotel Name': name, 'Rating': rating, 'Address': vicinity, 'City Code': city_code, 'Place ID': place_ID}, ignore_index = True)\n"
     ]
    },
    {
     "name": "stdout",
     "output_type": "stream",
     "text": [
      "CUN\n",
      "{'business_status': 'OPERATIONAL', 'geometry': {'location': {'lat': 21.1175523, 'lng': -86.7567656}, 'viewport': {'northeast': {'lat': 21.1189093302915, 'lng': -86.75554401970848}, 'southwest': {'lat': 21.11621136970849, 'lng': -86.7582419802915}}}, 'icon': 'https://maps.gstatic.com/mapfiles/place_api/icons/v1/png_71/lodging-71.png', 'icon_background_color': '#909CE1', 'icon_mask_base_uri': 'https://maps.gstatic.com/mapfiles/place_api/icons/v2/hotel_pinlet', 'name': 'Hotel Flamingo Cancun Resort', 'photos': [{'height': 3935, 'html_attributions': ['<a href=\"https://maps.google.com/maps/contrib/114615778165535781433\">Hotel Flamingo Cancun Resort</a>'], 'photo_reference': 'AcYSjRgri64_9O-Gmx_A1zd69vAPCTqhiW7ZNX2UyQU5bcdKOYcV_S7g2Q88lxXz6ihFPaVDkrSd7FgUAazoKtuQTpUiJupHj_-L_phB9NpGtfPLxxbYSrXu6F3S3eyqvWkU_gvNxhz8Y5V2amBAHT8dCnWN4Uz-aCyS5XLF-6XkVEXji0uj', 'width': 5902}], 'place_id': 'ChIJq6qqYQ0rTI8RZeqGQ9iCIZc', 'plus_code': {'compound_code': '469V+27 Cancún, Quintana Roo, Mexico', 'global_code': '76HM469V+27'}, 'rating': 3.9, 'reference': 'ChIJq6qqYQ0rTI8RZeqGQ9iCIZc', 'scope': 'GOOGLE', 'types': ['lodging', 'point_of_interest', 'establishment'], 'user_ratings_total': 5441, 'vicinity': 'Boulevard Kukulcan km 11.5, Zona Hotelera, Cancún'}\n",
      "Retrieving results for index 5 : CLT\n"
     ]
    },
    {
     "name": "stderr",
     "output_type": "stream",
     "text": [
      "C:\\Users\\Owner\\AppData\\Local\\Temp\\ipykernel_15040\\3651341654.py:36: FutureWarning: The frame.append method is deprecated and will be removed from pandas in a future version. Use pandas.concat instead.\n",
      "  hotels_df = hotels_df.append({'Hotel Name': name, 'Rating': rating, 'Address': vicinity, 'City Code': city_code, 'Place ID': place_ID}, ignore_index = True)\n",
      "C:\\Users\\Owner\\AppData\\Local\\Temp\\ipykernel_15040\\3651341654.py:36: FutureWarning: The frame.append method is deprecated and will be removed from pandas in a future version. Use pandas.concat instead.\n",
      "  hotels_df = hotels_df.append({'Hotel Name': name, 'Rating': rating, 'Address': vicinity, 'City Code': city_code, 'Place ID': place_ID}, ignore_index = True)\n",
      "C:\\Users\\Owner\\AppData\\Local\\Temp\\ipykernel_15040\\3651341654.py:36: FutureWarning: The frame.append method is deprecated and will be removed from pandas in a future version. Use pandas.concat instead.\n",
      "  hotels_df = hotels_df.append({'Hotel Name': name, 'Rating': rating, 'Address': vicinity, 'City Code': city_code, 'Place ID': place_ID}, ignore_index = True)\n",
      "C:\\Users\\Owner\\AppData\\Local\\Temp\\ipykernel_15040\\3651341654.py:36: FutureWarning: The frame.append method is deprecated and will be removed from pandas in a future version. Use pandas.concat instead.\n",
      "  hotels_df = hotels_df.append({'Hotel Name': name, 'Rating': rating, 'Address': vicinity, 'City Code': city_code, 'Place ID': place_ID}, ignore_index = True)\n",
      "C:\\Users\\Owner\\AppData\\Local\\Temp\\ipykernel_15040\\3651341654.py:36: FutureWarning: The frame.append method is deprecated and will be removed from pandas in a future version. Use pandas.concat instead.\n",
      "  hotels_df = hotels_df.append({'Hotel Name': name, 'Rating': rating, 'Address': vicinity, 'City Code': city_code, 'Place ID': place_ID}, ignore_index = True)\n"
     ]
    },
    {
     "name": "stdout",
     "output_type": "stream",
     "text": [
      "CLT\n",
      "{'business_status': 'OPERATIONAL', 'geometry': {'location': {'lat': 35.2375077, 'lng': -80.9226235}, 'viewport': {'northeast': {'lat': 35.2391213302915, 'lng': -80.9212007197085}, 'southwest': {'lat': 35.2364233697085, 'lng': -80.92389868029152}}}, 'icon': 'https://maps.gstatic.com/mapfiles/place_api/icons/v1/png_71/lodging-71.png', 'icon_background_color': '#909CE1', 'icon_mask_base_uri': 'https://maps.gstatic.com/mapfiles/place_api/icons/v2/hotel_pinlet', 'name': 'Sheraton Charlotte Airport Hotel', 'photos': [{'height': 810, 'html_attributions': ['<a href=\"https://maps.google.com/maps/contrib/117150506215914830826\">Sheraton Charlotte Airport Hotel</a>'], 'photo_reference': 'AcYSjRgszqz2SGlHS_rcHIvy5_XQE2jxq4f4V19G31KeDKXKv_pH-gH_EOq4SsGHnArW55pze5w4Pvsn-x63_Iad_4fxaPZzKyDGQKG1XVFBgv19yY89PRe4Zzjk0-usWq8um_JznWOkIA8n6P6mUkMNt8cigXZqkMokdUeS1IqZDWHutQGV', 'width': 1440}], 'place_id': 'ChIJbZ-wtxKiVogROzKJ8Fze8FM', 'plus_code': {'compound_code': '63QG+2X Charlotte, NC, USA', 'global_code': '867X63QG+2X'}, 'rating': 4.3, 'reference': 'ChIJbZ-wtxKiVogROzKJ8Fze8FM', 'scope': 'GOOGLE', 'types': ['lodging', 'point_of_interest', 'establishment'], 'user_ratings_total': 1491, 'vicinity': '3315 Scott Futrell Drive, Charlotte'}\n",
      "Retrieving results for index 6 : ORD\n"
     ]
    },
    {
     "name": "stderr",
     "output_type": "stream",
     "text": [
      "C:\\Users\\Owner\\AppData\\Local\\Temp\\ipykernel_15040\\3651341654.py:36: FutureWarning: The frame.append method is deprecated and will be removed from pandas in a future version. Use pandas.concat instead.\n",
      "  hotels_df = hotels_df.append({'Hotel Name': name, 'Rating': rating, 'Address': vicinity, 'City Code': city_code, 'Place ID': place_ID}, ignore_index = True)\n",
      "C:\\Users\\Owner\\AppData\\Local\\Temp\\ipykernel_15040\\3651341654.py:36: FutureWarning: The frame.append method is deprecated and will be removed from pandas in a future version. Use pandas.concat instead.\n",
      "  hotels_df = hotels_df.append({'Hotel Name': name, 'Rating': rating, 'Address': vicinity, 'City Code': city_code, 'Place ID': place_ID}, ignore_index = True)\n",
      "C:\\Users\\Owner\\AppData\\Local\\Temp\\ipykernel_15040\\3651341654.py:36: FutureWarning: The frame.append method is deprecated and will be removed from pandas in a future version. Use pandas.concat instead.\n",
      "  hotels_df = hotels_df.append({'Hotel Name': name, 'Rating': rating, 'Address': vicinity, 'City Code': city_code, 'Place ID': place_ID}, ignore_index = True)\n",
      "C:\\Users\\Owner\\AppData\\Local\\Temp\\ipykernel_15040\\3651341654.py:36: FutureWarning: The frame.append method is deprecated and will be removed from pandas in a future version. Use pandas.concat instead.\n",
      "  hotels_df = hotels_df.append({'Hotel Name': name, 'Rating': rating, 'Address': vicinity, 'City Code': city_code, 'Place ID': place_ID}, ignore_index = True)\n",
      "C:\\Users\\Owner\\AppData\\Local\\Temp\\ipykernel_15040\\3651341654.py:36: FutureWarning: The frame.append method is deprecated and will be removed from pandas in a future version. Use pandas.concat instead.\n",
      "  hotels_df = hotels_df.append({'Hotel Name': name, 'Rating': rating, 'Address': vicinity, 'City Code': city_code, 'Place ID': place_ID}, ignore_index = True)\n"
     ]
    },
    {
     "name": "stdout",
     "output_type": "stream",
     "text": [
      "CHI\n",
      "{'business_status': 'OPERATIONAL', 'geometry': {'location': {'lat': 41.9775409, 'lng': -87.9041655}, 'viewport': {'northeast': {'lat': 41.9790088802915, 'lng': -87.9027680197085}, 'southwest': {'lat': 41.9763109197085, 'lng': -87.90546598029151}}}, 'icon': 'https://maps.gstatic.com/mapfiles/place_api/icons/v1/png_71/lodging-71.png', 'icon_background_color': '#909CE1', 'icon_mask_base_uri': 'https://maps.gstatic.com/mapfiles/place_api/icons/v2/hotel_pinlet', 'name': \"Hilton Chicago O'Hare Airport\", 'photos': [{'height': 3000, 'html_attributions': ['<a href=\"https://maps.google.com/maps/contrib/102307008296941836056\">Hilton Chicago O&#39;Hare Airport</a>'], 'photo_reference': 'AcYSjRiQEDQ-I22VC6aMtqmaHXH66cny3sl8GNPKX9qKySvZiEXEcZrM9pAEC3UnSdA06k-0nGyFa9rtXaPH1EZ_gyc2lX0hF7OfT376AfGOai5AWzMNV_Gk5IzdoEabXM3PPsVQMMwIqq2c_U9ByQdKQizFk1zbhHsPTG4c1AVu19mVVNE2', 'width': 4308}], 'place_id': 'ChIJkQT6kAe2D4gR52GlJt1dD0A', 'plus_code': {'compound_code': 'X3HW+28 Chicago, IL, USA', 'global_code': '86HJX3HW+28'}, 'rating': 3.8, 'reference': 'ChIJkQT6kAe2D4gR52GlJt1dD0A', 'scope': 'GOOGLE', 'types': ['lodging', 'point_of_interest', 'establishment'], 'user_ratings_total': 4701, 'vicinity': '10000 West Balmoral Avenue, Chicago'}\n",
      "Retrieving results for index 7 : MDW\n"
     ]
    },
    {
     "name": "stderr",
     "output_type": "stream",
     "text": [
      "C:\\Users\\Owner\\AppData\\Local\\Temp\\ipykernel_15040\\3651341654.py:36: FutureWarning: The frame.append method is deprecated and will be removed from pandas in a future version. Use pandas.concat instead.\n",
      "  hotels_df = hotels_df.append({'Hotel Name': name, 'Rating': rating, 'Address': vicinity, 'City Code': city_code, 'Place ID': place_ID}, ignore_index = True)\n",
      "C:\\Users\\Owner\\AppData\\Local\\Temp\\ipykernel_15040\\3651341654.py:36: FutureWarning: The frame.append method is deprecated and will be removed from pandas in a future version. Use pandas.concat instead.\n",
      "  hotels_df = hotels_df.append({'Hotel Name': name, 'Rating': rating, 'Address': vicinity, 'City Code': city_code, 'Place ID': place_ID}, ignore_index = True)\n",
      "C:\\Users\\Owner\\AppData\\Local\\Temp\\ipykernel_15040\\3651341654.py:36: FutureWarning: The frame.append method is deprecated and will be removed from pandas in a future version. Use pandas.concat instead.\n",
      "  hotels_df = hotels_df.append({'Hotel Name': name, 'Rating': rating, 'Address': vicinity, 'City Code': city_code, 'Place ID': place_ID}, ignore_index = True)\n",
      "C:\\Users\\Owner\\AppData\\Local\\Temp\\ipykernel_15040\\3651341654.py:36: FutureWarning: The frame.append method is deprecated and will be removed from pandas in a future version. Use pandas.concat instead.\n",
      "  hotels_df = hotels_df.append({'Hotel Name': name, 'Rating': rating, 'Address': vicinity, 'City Code': city_code, 'Place ID': place_ID}, ignore_index = True)\n",
      "C:\\Users\\Owner\\AppData\\Local\\Temp\\ipykernel_15040\\3651341654.py:36: FutureWarning: The frame.append method is deprecated and will be removed from pandas in a future version. Use pandas.concat instead.\n",
      "  hotels_df = hotels_df.append({'Hotel Name': name, 'Rating': rating, 'Address': vicinity, 'City Code': city_code, 'Place ID': place_ID}, ignore_index = True)\n"
     ]
    },
    {
     "name": "stdout",
     "output_type": "stream",
     "text": [
      "CHI\n",
      "{'business_status': 'OPERATIONAL', 'geometry': {'location': {'lat': 41.7743519, 'lng': -87.7428576}, 'viewport': {'northeast': {'lat': 41.7757745302915, 'lng': -87.74158066970848}, 'southwest': {'lat': 41.7730765697085, 'lng': -87.74427863029149}}}, 'icon': 'https://maps.gstatic.com/mapfiles/place_api/icons/v1/png_71/lodging-71.png', 'icon_background_color': '#909CE1', 'icon_mask_base_uri': 'https://maps.gstatic.com/mapfiles/place_api/icons/v2/hotel_pinlet', 'name': 'Holiday Inn Express & Suites Chicago-Midway Airport, an IHG Hotel', 'photos': [{'height': 1250, 'html_attributions': ['<a href=\"https://maps.google.com/maps/contrib/101147657713652420116\">Holiday Inn Express &amp; Suites Chicago-Midway Airport, an IHG Hotel</a>'], 'photo_reference': 'AcYSjRh466n1ZOqkofgoatNNQlGZjhv3B7a2kNrlYZNbsI8H6ER8vIfE538PMfPPRsYq2ifhfpUQW4HNhUDV0fRioqF5NlVZcZaV1aeBtUuk08la4huAXFpQrh-i_Ngu-SmwIlc8T70diB4X1VRCsus4Q_EjxNO3IdvkgcJkBQr99z8qmusX', 'width': 4000}], 'place_id': 'ChIJ6dTsFPwwDogRKHrBt08Kolw', 'plus_code': {'compound_code': 'Q7F4+PV Chicago, IL, USA', 'global_code': '86HJQ7F4+PV'}, 'rating': 4.2, 'reference': 'ChIJ6dTsFPwwDogRKHrBt08Kolw', 'scope': 'GOOGLE', 'types': ['lodging', 'point_of_interest', 'establishment'], 'user_ratings_total': 589, 'vicinity': '6500 South Cicero Avenue, Chicago'}\n",
      "Retrieving results for index 8 : COS\n"
     ]
    },
    {
     "name": "stderr",
     "output_type": "stream",
     "text": [
      "C:\\Users\\Owner\\AppData\\Local\\Temp\\ipykernel_15040\\3651341654.py:36: FutureWarning: The frame.append method is deprecated and will be removed from pandas in a future version. Use pandas.concat instead.\n",
      "  hotels_df = hotels_df.append({'Hotel Name': name, 'Rating': rating, 'Address': vicinity, 'City Code': city_code, 'Place ID': place_ID}, ignore_index = True)\n",
      "C:\\Users\\Owner\\AppData\\Local\\Temp\\ipykernel_15040\\3651341654.py:36: FutureWarning: The frame.append method is deprecated and will be removed from pandas in a future version. Use pandas.concat instead.\n",
      "  hotels_df = hotels_df.append({'Hotel Name': name, 'Rating': rating, 'Address': vicinity, 'City Code': city_code, 'Place ID': place_ID}, ignore_index = True)\n",
      "C:\\Users\\Owner\\AppData\\Local\\Temp\\ipykernel_15040\\3651341654.py:36: FutureWarning: The frame.append method is deprecated and will be removed from pandas in a future version. Use pandas.concat instead.\n",
      "  hotels_df = hotels_df.append({'Hotel Name': name, 'Rating': rating, 'Address': vicinity, 'City Code': city_code, 'Place ID': place_ID}, ignore_index = True)\n",
      "C:\\Users\\Owner\\AppData\\Local\\Temp\\ipykernel_15040\\3651341654.py:36: FutureWarning: The frame.append method is deprecated and will be removed from pandas in a future version. Use pandas.concat instead.\n",
      "  hotels_df = hotels_df.append({'Hotel Name': name, 'Rating': rating, 'Address': vicinity, 'City Code': city_code, 'Place ID': place_ID}, ignore_index = True)\n",
      "C:\\Users\\Owner\\AppData\\Local\\Temp\\ipykernel_15040\\3651341654.py:36: FutureWarning: The frame.append method is deprecated and will be removed from pandas in a future version. Use pandas.concat instead.\n",
      "  hotels_df = hotels_df.append({'Hotel Name': name, 'Rating': rating, 'Address': vicinity, 'City Code': city_code, 'Place ID': place_ID}, ignore_index = True)\n"
     ]
    },
    {
     "name": "stdout",
     "output_type": "stream",
     "text": [
      "COS\n",
      "{'business_status': 'OPERATIONAL', 'geometry': {'location': {'lat': 38.8010723, 'lng': -104.7320276}, 'viewport': {'northeast': {'lat': 38.8023906302915, 'lng': -104.7308798197085}, 'southwest': {'lat': 38.7996926697085, 'lng': -104.7335777802915}}}, 'icon': 'https://maps.gstatic.com/mapfiles/place_api/icons/v1/png_71/lodging-71.png', 'icon_background_color': '#909CE1', 'icon_mask_base_uri': 'https://maps.gstatic.com/mapfiles/place_api/icons/v2/hotel_pinlet', 'name': 'Hilton Garden Inn Colorado Springs Airport', 'photos': [{'height': 3140, 'html_attributions': ['<a href=\"https://maps.google.com/maps/contrib/103499238158725235445\">Hilton Garden Inn Colorado Springs Airport</a>'], 'photo_reference': 'AcYSjRijkRFJWp6YewPYdsCJ8mYK7glNzn7ItkQ56O7kDDwbAP-wj03S_kTYw-s9w8K8hl_53rwheDC6OJlGvB9IJlnsFKyDIt_zZsYMZkR2wEGwO3MCSkv8iCjLs_r23qfP34UrO6aAvi24vsgA13HddNtsLokdgyw6RTHFbNnURDVnEaaj', 'width': 4717}], 'place_id': 'ChIJWdkSfbZGE4cR-P352U_H_yQ', 'plus_code': {'compound_code': 'R729+C5 Colorado Springs, CO, USA', 'global_code': '85CQR729+C5'}, 'rating': 4.2, 'reference': 'ChIJWdkSfbZGE4cR-P352U_H_yQ', 'scope': 'GOOGLE', 'types': ['lodging', 'point_of_interest', 'establishment'], 'user_ratings_total': 690, 'vicinity': '2035 Aerotech Drive, Colorado Springs'}\n",
      "Retrieving results for index 9 : DAL\n"
     ]
    },
    {
     "name": "stderr",
     "output_type": "stream",
     "text": [
      "C:\\Users\\Owner\\AppData\\Local\\Temp\\ipykernel_15040\\3651341654.py:36: FutureWarning: The frame.append method is deprecated and will be removed from pandas in a future version. Use pandas.concat instead.\n",
      "  hotels_df = hotels_df.append({'Hotel Name': name, 'Rating': rating, 'Address': vicinity, 'City Code': city_code, 'Place ID': place_ID}, ignore_index = True)\n",
      "C:\\Users\\Owner\\AppData\\Local\\Temp\\ipykernel_15040\\3651341654.py:36: FutureWarning: The frame.append method is deprecated and will be removed from pandas in a future version. Use pandas.concat instead.\n",
      "  hotels_df = hotels_df.append({'Hotel Name': name, 'Rating': rating, 'Address': vicinity, 'City Code': city_code, 'Place ID': place_ID}, ignore_index = True)\n",
      "C:\\Users\\Owner\\AppData\\Local\\Temp\\ipykernel_15040\\3651341654.py:36: FutureWarning: The frame.append method is deprecated and will be removed from pandas in a future version. Use pandas.concat instead.\n",
      "  hotels_df = hotels_df.append({'Hotel Name': name, 'Rating': rating, 'Address': vicinity, 'City Code': city_code, 'Place ID': place_ID}, ignore_index = True)\n",
      "C:\\Users\\Owner\\AppData\\Local\\Temp\\ipykernel_15040\\3651341654.py:36: FutureWarning: The frame.append method is deprecated and will be removed from pandas in a future version. Use pandas.concat instead.\n",
      "  hotels_df = hotels_df.append({'Hotel Name': name, 'Rating': rating, 'Address': vicinity, 'City Code': city_code, 'Place ID': place_ID}, ignore_index = True)\n",
      "C:\\Users\\Owner\\AppData\\Local\\Temp\\ipykernel_15040\\3651341654.py:36: FutureWarning: The frame.append method is deprecated and will be removed from pandas in a future version. Use pandas.concat instead.\n",
      "  hotels_df = hotels_df.append({'Hotel Name': name, 'Rating': rating, 'Address': vicinity, 'City Code': city_code, 'Place ID': place_ID}, ignore_index = True)\n"
     ]
    },
    {
     "name": "stdout",
     "output_type": "stream",
     "text": [
      "DFW\n",
      "{'business_status': 'OPERATIONAL', 'geometry': {'location': {'lat': 32.8610231, 'lng': -96.849916}, 'viewport': {'northeast': {'lat': 32.8624543302915, 'lng': -96.8486436697085}, 'southwest': {'lat': 32.85975636970851, 'lng': -96.8513416302915}}}, 'icon': 'https://maps.gstatic.com/mapfiles/place_api/icons/v1/png_71/lodging-71.png', 'icon_background_color': '#909CE1', 'icon_mask_base_uri': 'https://maps.gstatic.com/mapfiles/place_api/icons/v2/hotel_pinlet', 'name': 'Embassy Suites by Hilton Dallas Love Field', 'photos': [{'height': 3024, 'html_attributions': ['<a href=\"https://maps.google.com/maps/contrib/110978422137596920843\">Caleb Bingham</a>'], 'photo_reference': 'AcYSjRhtcxy9R_nYbbrHw1k9kKDtHILQM1jo5sS7bbRruB8-gR8q09xk4GEbhzDnQrEZBepLmww1u_M71TYKWJaf5gp_xAx2Z0ZyTPMypEUbwmx-7PmQOg8_YfqRLW5UDsjmBmZyYt7tZcPUvauNa5Ol2vLbh4SCYDAS5u-Uo_eUc0FNq28V', 'width': 4032}], 'place_id': 'ChIJv3QIGcSdToYRPI1IP5IcGpk', 'plus_code': {'compound_code': 'V562+C2 Dallas, TX, USA', 'global_code': '8645V562+C2'}, 'rating': 4.3, 'reference': 'ChIJv3QIGcSdToYRPI1IP5IcGpk', 'scope': 'GOOGLE', 'types': ['lodging', 'point_of_interest', 'establishment'], 'user_ratings_total': 1530, 'vicinity': '3880 West Northwest Highway, Dallas'}\n",
      "Retrieving results for index 10 : DFW\n"
     ]
    },
    {
     "name": "stderr",
     "output_type": "stream",
     "text": [
      "C:\\Users\\Owner\\AppData\\Local\\Temp\\ipykernel_15040\\3651341654.py:36: FutureWarning: The frame.append method is deprecated and will be removed from pandas in a future version. Use pandas.concat instead.\n",
      "  hotels_df = hotels_df.append({'Hotel Name': name, 'Rating': rating, 'Address': vicinity, 'City Code': city_code, 'Place ID': place_ID}, ignore_index = True)\n",
      "C:\\Users\\Owner\\AppData\\Local\\Temp\\ipykernel_15040\\3651341654.py:36: FutureWarning: The frame.append method is deprecated and will be removed from pandas in a future version. Use pandas.concat instead.\n",
      "  hotels_df = hotels_df.append({'Hotel Name': name, 'Rating': rating, 'Address': vicinity, 'City Code': city_code, 'Place ID': place_ID}, ignore_index = True)\n",
      "C:\\Users\\Owner\\AppData\\Local\\Temp\\ipykernel_15040\\3651341654.py:36: FutureWarning: The frame.append method is deprecated and will be removed from pandas in a future version. Use pandas.concat instead.\n",
      "  hotels_df = hotels_df.append({'Hotel Name': name, 'Rating': rating, 'Address': vicinity, 'City Code': city_code, 'Place ID': place_ID}, ignore_index = True)\n",
      "C:\\Users\\Owner\\AppData\\Local\\Temp\\ipykernel_15040\\3651341654.py:36: FutureWarning: The frame.append method is deprecated and will be removed from pandas in a future version. Use pandas.concat instead.\n",
      "  hotels_df = hotels_df.append({'Hotel Name': name, 'Rating': rating, 'Address': vicinity, 'City Code': city_code, 'Place ID': place_ID}, ignore_index = True)\n",
      "C:\\Users\\Owner\\AppData\\Local\\Temp\\ipykernel_15040\\3651341654.py:36: FutureWarning: The frame.append method is deprecated and will be removed from pandas in a future version. Use pandas.concat instead.\n",
      "  hotels_df = hotels_df.append({'Hotel Name': name, 'Rating': rating, 'Address': vicinity, 'City Code': city_code, 'Place ID': place_ID}, ignore_index = True)\n"
     ]
    },
    {
     "name": "stdout",
     "output_type": "stream",
     "text": [
      "DFW\n",
      "{'business_status': 'OPERATIONAL', 'geometry': {'location': {'lat': 32.8973898, 'lng': -97.0385536}, 'viewport': {'northeast': {'lat': 32.89875858029151, 'lng': -97.03691981970849}, 'southwest': {'lat': 32.89606061970851, 'lng': -97.03961778029151}}}, 'icon': 'https://maps.gstatic.com/mapfiles/place_api/icons/v1/png_71/lodging-71.png', 'icon_background_color': '#909CE1', 'icon_mask_base_uri': 'https://maps.gstatic.com/mapfiles/place_api/icons/v2/hotel_pinlet', 'name': 'Hyatt Regency Dfw International Airport', 'opening_hours': {'open_now': True}, 'photos': [{'height': 2800, 'html_attributions': ['<a href=\"https://maps.google.com/maps/contrib/100563363503084224564\">Hyatt Regency Dfw International Airport</a>'], 'photo_reference': 'AcYSjRgtVNdxZixtAHSagIrCmJpYUKrJBw4IC7QqdGdQnRWTjznxgBLmtSOK71C57hbQdlp3DnRmAmhJTfa2EH_UwcrRKnFETxcEVxxgXhTmgBYDbAEqlL5WN7nGL8bBx-sRZBAaDKYQBL5sxiyaRGcjrFzuTdcaC-avNebvCA1IYddwxPaK', 'width': 4200}], 'place_id': 'ChIJA6nNJtjGK4YRLtRc_TGYfNI', 'plus_code': {'compound_code': 'VXW6+XH Dallas, TX, USA', 'global_code': '8644VXW6+XH'}, 'rating': 4.3, 'reference': 'ChIJA6nNJtjGK4YRLtRc_TGYfNI', 'scope': 'GOOGLE', 'types': ['lodging', 'point_of_interest', 'establishment'], 'user_ratings_total': 3624, 'vicinity': '2334 North International Parkway, Dallas'}\n",
      "Retrieving results for index 11 : DEN\n"
     ]
    },
    {
     "name": "stderr",
     "output_type": "stream",
     "text": [
      "C:\\Users\\Owner\\AppData\\Local\\Temp\\ipykernel_15040\\3651341654.py:36: FutureWarning: The frame.append method is deprecated and will be removed from pandas in a future version. Use pandas.concat instead.\n",
      "  hotels_df = hotels_df.append({'Hotel Name': name, 'Rating': rating, 'Address': vicinity, 'City Code': city_code, 'Place ID': place_ID}, ignore_index = True)\n",
      "C:\\Users\\Owner\\AppData\\Local\\Temp\\ipykernel_15040\\3651341654.py:36: FutureWarning: The frame.append method is deprecated and will be removed from pandas in a future version. Use pandas.concat instead.\n",
      "  hotels_df = hotels_df.append({'Hotel Name': name, 'Rating': rating, 'Address': vicinity, 'City Code': city_code, 'Place ID': place_ID}, ignore_index = True)\n",
      "C:\\Users\\Owner\\AppData\\Local\\Temp\\ipykernel_15040\\3651341654.py:36: FutureWarning: The frame.append method is deprecated and will be removed from pandas in a future version. Use pandas.concat instead.\n",
      "  hotels_df = hotels_df.append({'Hotel Name': name, 'Rating': rating, 'Address': vicinity, 'City Code': city_code, 'Place ID': place_ID}, ignore_index = True)\n",
      "C:\\Users\\Owner\\AppData\\Local\\Temp\\ipykernel_15040\\3651341654.py:36: FutureWarning: The frame.append method is deprecated and will be removed from pandas in a future version. Use pandas.concat instead.\n",
      "  hotels_df = hotels_df.append({'Hotel Name': name, 'Rating': rating, 'Address': vicinity, 'City Code': city_code, 'Place ID': place_ID}, ignore_index = True)\n",
      "C:\\Users\\Owner\\AppData\\Local\\Temp\\ipykernel_15040\\3651341654.py:36: FutureWarning: The frame.append method is deprecated and will be removed from pandas in a future version. Use pandas.concat instead.\n",
      "  hotels_df = hotels_df.append({'Hotel Name': name, 'Rating': rating, 'Address': vicinity, 'City Code': city_code, 'Place ID': place_ID}, ignore_index = True)\n"
     ]
    },
    {
     "name": "stdout",
     "output_type": "stream",
     "text": [
      "DEN\n",
      "{'business_status': 'OPERATIONAL', 'geometry': {'location': {'lat': 39.847582, 'lng': -104.674165}, 'viewport': {'northeast': {'lat': 39.84882933029149, 'lng': -104.6728272197085}, 'southwest': {'lat': 39.8461313697085, 'lng': -104.6755251802915}}}, 'icon': 'https://maps.gstatic.com/mapfiles/place_api/icons/v1/png_71/lodging-71.png', 'icon_background_color': '#909CE1', 'icon_mask_base_uri': 'https://maps.gstatic.com/mapfiles/place_api/icons/v2/hotel_pinlet', 'name': 'The Westin Denver International Airport', 'photos': [{'height': 1366, 'html_attributions': ['<a href=\"https://maps.google.com/maps/contrib/111279577970262928937\">The Westin Denver International Airport</a>'], 'photo_reference': 'AcYSjRgNZ-sjAeMyMFbce-Mch9N1ppA3m9yJDhuPt7KNHrw7mHEX8tw8UuxRuztm5mwFoc07A0gcCKNI2IdojMg0W0pOVLNckJkOWR5FuFdEHzfIM1FRdaQ6yLl-WA6Rhj70ANDkLEcTa81pOueo37fZIL03rjLsbvT6gnl7fR273cORCtPA', 'width': 2048}], 'place_id': 'ChIJcTeWd-5nbIcRsyz5EkBkup0', 'plus_code': {'compound_code': 'R8XG+28 Denver, CO, USA', 'global_code': '85FQR8XG+28'}, 'rating': 4.4, 'reference': 'ChIJcTeWd-5nbIcRsyz5EkBkup0', 'scope': 'GOOGLE', 'types': ['lodging', 'point_of_interest', 'establishment'], 'user_ratings_total': 2663, 'vicinity': '8300 Peña Boulevard, Denver'}\n",
      "Missing field/result... skipping.\n",
      "-------------\n",
      "Retrieving results for index 12 : DTW\n"
     ]
    },
    {
     "name": "stderr",
     "output_type": "stream",
     "text": [
      "C:\\Users\\Owner\\AppData\\Local\\Temp\\ipykernel_15040\\3651341654.py:36: FutureWarning: The frame.append method is deprecated and will be removed from pandas in a future version. Use pandas.concat instead.\n",
      "  hotels_df = hotels_df.append({'Hotel Name': name, 'Rating': rating, 'Address': vicinity, 'City Code': city_code, 'Place ID': place_ID}, ignore_index = True)\n"
     ]
    },
    {
     "name": "stdout",
     "output_type": "stream",
     "text": [
      "DTT\n",
      "{'business_status': 'OPERATIONAL', 'geometry': {'location': {'lat': 42.24154019999999, 'lng': -83.3379681}, 'viewport': {'northeast': {'lat': 42.24307338029148, 'lng': -83.3363472697085}, 'southwest': {'lat': 42.24037541970849, 'lng': -83.3390452302915}}}, 'icon': 'https://maps.gstatic.com/mapfiles/place_api/icons/v1/png_71/lodging-71.png', 'icon_background_color': '#909CE1', 'icon_mask_base_uri': 'https://maps.gstatic.com/mapfiles/place_api/icons/v2/hotel_pinlet', 'name': 'Detroit Metro Airport Marriott', 'photos': [{'height': 1366, 'html_attributions': ['<a href=\"https://maps.google.com/maps/contrib/116625516898932323646\">Detroit Metro Airport Marriott</a>'], 'photo_reference': 'AcYSjRhiksdzGTFzkxfbSDF5fbN-RcBbYDF5PwMHoprKyYUts2Avhbz7qHzsPUK09-B3HRd8eG_kVX5qUUijGhh3YUNCDBcA4hMCE9ZiY2Rt9r-wVNaEOr_giw-yonlKU9sBH1qXv9MgTnQYH_bPrxAeeE3Gjc53_OK5wRfK5Y4d8N0Uw9sF', 'width': 2048}], 'place_id': 'ChIJYZv8DtVOO4gR11GgOKANvmg', 'plus_code': {'compound_code': '6MR6+JR Romulus, MI, USA', 'global_code': '86JR6MR6+JR'}, 'rating': 4.2, 'reference': 'ChIJYZv8DtVOO4gR11GgOKANvmg', 'scope': 'GOOGLE', 'types': ['lodging', 'point_of_interest', 'establishment'], 'user_ratings_total': 1055, 'vicinity': '30559 Flynn Drive, Romulus'}\n",
      "Retrieving results for index 13 : ELP\n"
     ]
    },
    {
     "name": "stderr",
     "output_type": "stream",
     "text": [
      "C:\\Users\\Owner\\AppData\\Local\\Temp\\ipykernel_15040\\3651341654.py:36: FutureWarning: The frame.append method is deprecated and will be removed from pandas in a future version. Use pandas.concat instead.\n",
      "  hotels_df = hotels_df.append({'Hotel Name': name, 'Rating': rating, 'Address': vicinity, 'City Code': city_code, 'Place ID': place_ID}, ignore_index = True)\n",
      "C:\\Users\\Owner\\AppData\\Local\\Temp\\ipykernel_15040\\3651341654.py:36: FutureWarning: The frame.append method is deprecated and will be removed from pandas in a future version. Use pandas.concat instead.\n",
      "  hotels_df = hotels_df.append({'Hotel Name': name, 'Rating': rating, 'Address': vicinity, 'City Code': city_code, 'Place ID': place_ID}, ignore_index = True)\n",
      "C:\\Users\\Owner\\AppData\\Local\\Temp\\ipykernel_15040\\3651341654.py:36: FutureWarning: The frame.append method is deprecated and will be removed from pandas in a future version. Use pandas.concat instead.\n",
      "  hotels_df = hotels_df.append({'Hotel Name': name, 'Rating': rating, 'Address': vicinity, 'City Code': city_code, 'Place ID': place_ID}, ignore_index = True)\n",
      "C:\\Users\\Owner\\AppData\\Local\\Temp\\ipykernel_15040\\3651341654.py:36: FutureWarning: The frame.append method is deprecated and will be removed from pandas in a future version. Use pandas.concat instead.\n",
      "  hotels_df = hotels_df.append({'Hotel Name': name, 'Rating': rating, 'Address': vicinity, 'City Code': city_code, 'Place ID': place_ID}, ignore_index = True)\n",
      "C:\\Users\\Owner\\AppData\\Local\\Temp\\ipykernel_15040\\3651341654.py:36: FutureWarning: The frame.append method is deprecated and will be removed from pandas in a future version. Use pandas.concat instead.\n",
      "  hotels_df = hotels_df.append({'Hotel Name': name, 'Rating': rating, 'Address': vicinity, 'City Code': city_code, 'Place ID': place_ID}, ignore_index = True)\n"
     ]
    },
    {
     "name": "stdout",
     "output_type": "stream",
     "text": [
      "ELP\n",
      "{'business_status': 'OPERATIONAL', 'geometry': {'location': {'lat': 31.7693748, 'lng': -106.374443}, 'viewport': {'northeast': {'lat': 31.7707856802915, 'lng': -106.3731955197085}, 'southwest': {'lat': 31.7680877197085, 'lng': -106.3758934802915}}}, 'icon': 'https://maps.gstatic.com/mapfiles/place_api/icons/v1/png_71/lodging-71.png', 'icon_background_color': '#909CE1', 'icon_mask_base_uri': 'https://maps.gstatic.com/mapfiles/place_api/icons/v2/hotel_pinlet', 'name': 'Super 8 by Wyndham El Paso Airport', 'opening_hours': {'open_now': True}, 'photos': [{'height': 400, 'html_attributions': ['<a href=\"https://maps.google.com/maps/contrib/111883195227064199285\">Super 8 by Wyndham El Paso Airport</a>'], 'photo_reference': 'AcYSjRjWthPILYm-132ZsL8dmneNLcsd9nvx03qbZejnkGVrLy6QhfsuLDL2HVsV8FxxoN4fYvHjSf4eOwa6wuyoJdlktLmsK_-x87hZ8t-BioTqaeRfqS01a6J5Bc9zZT6HPwfxc2Kh4O9fhIgz1-cmuoqApystp8hvj1E7GJSj7Qv7Y3W4', 'width': 711}], 'place_id': 'ChIJl8xSPBdb54YRNllYE4-xcXs', 'plus_code': {'compound_code': 'QJ9G+P6 El Paso, TX, USA', 'global_code': '853MQJ9G+P6'}, 'rating': 3.4, 'reference': 'ChIJl8xSPBdb54YRNllYE4-xcXs', 'scope': 'GOOGLE', 'types': ['lodging', 'point_of_interest', 'establishment'], 'user_ratings_total': 1978, 'vicinity': '7144 Gateway Boulevard East, El Paso'}\n",
      "Retrieving results for index 14 : GDL\n"
     ]
    },
    {
     "name": "stderr",
     "output_type": "stream",
     "text": [
      "C:\\Users\\Owner\\AppData\\Local\\Temp\\ipykernel_15040\\3651341654.py:36: FutureWarning: The frame.append method is deprecated and will be removed from pandas in a future version. Use pandas.concat instead.\n",
      "  hotels_df = hotels_df.append({'Hotel Name': name, 'Rating': rating, 'Address': vicinity, 'City Code': city_code, 'Place ID': place_ID}, ignore_index = True)\n",
      "C:\\Users\\Owner\\AppData\\Local\\Temp\\ipykernel_15040\\3651341654.py:36: FutureWarning: The frame.append method is deprecated and will be removed from pandas in a future version. Use pandas.concat instead.\n",
      "  hotels_df = hotels_df.append({'Hotel Name': name, 'Rating': rating, 'Address': vicinity, 'City Code': city_code, 'Place ID': place_ID}, ignore_index = True)\n",
      "C:\\Users\\Owner\\AppData\\Local\\Temp\\ipykernel_15040\\3651341654.py:36: FutureWarning: The frame.append method is deprecated and will be removed from pandas in a future version. Use pandas.concat instead.\n",
      "  hotels_df = hotels_df.append({'Hotel Name': name, 'Rating': rating, 'Address': vicinity, 'City Code': city_code, 'Place ID': place_ID}, ignore_index = True)\n",
      "C:\\Users\\Owner\\AppData\\Local\\Temp\\ipykernel_15040\\3651341654.py:36: FutureWarning: The frame.append method is deprecated and will be removed from pandas in a future version. Use pandas.concat instead.\n",
      "  hotels_df = hotels_df.append({'Hotel Name': name, 'Rating': rating, 'Address': vicinity, 'City Code': city_code, 'Place ID': place_ID}, ignore_index = True)\n",
      "C:\\Users\\Owner\\AppData\\Local\\Temp\\ipykernel_15040\\3651341654.py:36: FutureWarning: The frame.append method is deprecated and will be removed from pandas in a future version. Use pandas.concat instead.\n",
      "  hotels_df = hotels_df.append({'Hotel Name': name, 'Rating': rating, 'Address': vicinity, 'City Code': city_code, 'Place ID': place_ID}, ignore_index = True)\n"
     ]
    },
    {
     "name": "stdout",
     "output_type": "stream",
     "text": [
      "GDL\n",
      "{'business_status': 'OPERATIONAL', 'geometry': {'location': {'lat': 20.5294541, 'lng': -103.2910908}, 'viewport': {'northeast': {'lat': 20.53071813029151, 'lng': -103.2897395197085}, 'southwest': {'lat': 20.5280201697085, 'lng': -103.2924374802915}}}, 'icon': 'https://maps.gstatic.com/mapfiles/place_api/icons/v1/png_71/lodging-71.png', 'icon_background_color': '#909CE1', 'icon_mask_base_uri': 'https://maps.gstatic.com/mapfiles/place_api/icons/v2/hotel_pinlet', 'name': 'Hangar Inn Hotel', 'photos': [{'height': 3024, 'html_attributions': ['<a href=\"https://maps.google.com/maps/contrib/115800666885975446444\">D</a>'], 'photo_reference': 'AcYSjRh6UVKuAYGGcvnW6pI1yh0Ge4Mc9KB3_LLTmgGGdrWzowK29Ce0KVkuIXLyuaR7eDrv7G9NLyp3Hx5OuwYhPSbJ4KBYjXOTarroMnvsehgYcLKciJCp09vu6gHdEwiMraYvn7RsJN8XFsYMn8YmPrzh9RrOFQUOJgaYZTOsYbCUioRu', 'width': 4032}], 'place_id': 'ChIJgT32jF9ML4QRVh6IQrX4EkU', 'plus_code': {'compound_code': 'GPH5+QH El Refugio, Jalisco, Mexico', 'global_code': '75GRGPH5+QH'}, 'rating': 4.2, 'reference': 'ChIJgT32jF9ML4QRVh6IQrX4EkU', 'scope': 'GOOGLE', 'types': ['lodging', 'point_of_interest', 'establishment'], 'user_ratings_total': 889, 'vicinity': 'Chapala - Guadalajara No. 8701, El Refugio'}\n",
      "Missing field/result... skipping.\n",
      "-------------\n",
      "Retrieving results for index 15 : IAH\n"
     ]
    },
    {
     "name": "stderr",
     "output_type": "stream",
     "text": [
      "C:\\Users\\Owner\\AppData\\Local\\Temp\\ipykernel_15040\\3651341654.py:36: FutureWarning: The frame.append method is deprecated and will be removed from pandas in a future version. Use pandas.concat instead.\n",
      "  hotels_df = hotels_df.append({'Hotel Name': name, 'Rating': rating, 'Address': vicinity, 'City Code': city_code, 'Place ID': place_ID}, ignore_index = True)\n"
     ]
    },
    {
     "name": "stdout",
     "output_type": "stream",
     "text": [
      "HOU\n",
      "{'business_status': 'OPERATIONAL', 'geometry': {'location': {'lat': 29.9866556, 'lng': -95.34203769999999}, 'viewport': {'northeast': {'lat': 29.9880272302915, 'lng': -95.3408837197085}, 'southwest': {'lat': 29.9853292697085, 'lng': -95.3435816802915}}}, 'icon': 'https://maps.gstatic.com/mapfiles/place_api/icons/v1/png_71/lodging-71.png', 'icon_background_color': '#909CE1', 'icon_mask_base_uri': 'https://maps.gstatic.com/mapfiles/place_api/icons/v2/hotel_pinlet', 'name': 'Houston Airport Marriott at George Bush Intercontinental', 'photos': [{'height': 1366, 'html_attributions': ['<a href=\"https://maps.google.com/maps/contrib/107055672698862696087\">Houston Airport Marriott at George Bush Intercontinental</a>'], 'photo_reference': 'AcYSjRgyaf2VSJwXsIuXOLYhirwTA6-FtGSfUUE845h9CYBPNk5DORqb1TDUbj2s8l_sOnm4X57r_fsVYcwDWpWw62_DucaRSLdc28tptY0FhJKaayX-DwZAmA7qZHYlzo0BRrZybzrF_Yg_MbJh2yiMr5uudL2zPchyBWFPuh8A8dIvOyo', 'width': 2048}], 'place_id': 'ChIJx1VD2SO0QIYRVimPKW3cF1M', 'plus_code': {'compound_code': 'XMP5+M5 Spring, TX, USA', 'global_code': '76X6XMP5+M5'}, 'price_level': 2, 'rating': 4.3, 'reference': 'ChIJx1VD2SO0QIYRVimPKW3cF1M', 'scope': 'GOOGLE', 'types': ['lodging', 'point_of_interest', 'establishment'], 'user_ratings_total': 2083, 'vicinity': '18700 John F Kennedy Boulevard, Houston'}\n",
      "Retrieving results for index 16 : HOU\n"
     ]
    },
    {
     "name": "stderr",
     "output_type": "stream",
     "text": [
      "C:\\Users\\Owner\\AppData\\Local\\Temp\\ipykernel_15040\\3651341654.py:36: FutureWarning: The frame.append method is deprecated and will be removed from pandas in a future version. Use pandas.concat instead.\n",
      "  hotels_df = hotels_df.append({'Hotel Name': name, 'Rating': rating, 'Address': vicinity, 'City Code': city_code, 'Place ID': place_ID}, ignore_index = True)\n",
      "C:\\Users\\Owner\\AppData\\Local\\Temp\\ipykernel_15040\\3651341654.py:36: FutureWarning: The frame.append method is deprecated and will be removed from pandas in a future version. Use pandas.concat instead.\n",
      "  hotels_df = hotels_df.append({'Hotel Name': name, 'Rating': rating, 'Address': vicinity, 'City Code': city_code, 'Place ID': place_ID}, ignore_index = True)\n",
      "C:\\Users\\Owner\\AppData\\Local\\Temp\\ipykernel_15040\\3651341654.py:36: FutureWarning: The frame.append method is deprecated and will be removed from pandas in a future version. Use pandas.concat instead.\n",
      "  hotels_df = hotels_df.append({'Hotel Name': name, 'Rating': rating, 'Address': vicinity, 'City Code': city_code, 'Place ID': place_ID}, ignore_index = True)\n",
      "C:\\Users\\Owner\\AppData\\Local\\Temp\\ipykernel_15040\\3651341654.py:36: FutureWarning: The frame.append method is deprecated and will be removed from pandas in a future version. Use pandas.concat instead.\n",
      "  hotels_df = hotels_df.append({'Hotel Name': name, 'Rating': rating, 'Address': vicinity, 'City Code': city_code, 'Place ID': place_ID}, ignore_index = True)\n",
      "C:\\Users\\Owner\\AppData\\Local\\Temp\\ipykernel_15040\\3651341654.py:36: FutureWarning: The frame.append method is deprecated and will be removed from pandas in a future version. Use pandas.concat instead.\n",
      "  hotels_df = hotels_df.append({'Hotel Name': name, 'Rating': rating, 'Address': vicinity, 'City Code': city_code, 'Place ID': place_ID}, ignore_index = True)\n"
     ]
    },
    {
     "name": "stdout",
     "output_type": "stream",
     "text": [
      "HOU\n",
      "{'business_status': 'OPERATIONAL', 'geometry': {'location': {'lat': 29.6573466, 'lng': -95.25650569999999}, 'viewport': {'northeast': {'lat': 29.6589376302915, 'lng': -95.25515941970849}, 'southwest': {'lat': 29.6562396697085, 'lng': -95.2578573802915}}}, 'icon': 'https://maps.gstatic.com/mapfiles/place_api/icons/v1/png_71/lodging-71.png', 'icon_background_color': '#909CE1', 'icon_mask_base_uri': 'https://maps.gstatic.com/mapfiles/place_api/icons/v2/hotel_pinlet', 'name': 'Houston Marriott South at Hobby Airport', 'photos': [{'height': 4032, 'html_attributions': ['<a href=\"https://maps.google.com/maps/contrib/107738800858673667586\">Stacey Murat</a>'], 'photo_reference': 'AcYSjRjwyGdv9h6HfA0Jql945hhTFYaJqF1vaOmCIlu9kjR08YfOQmkdnIf05GC3EBL8RMgwTTb3hNqiMiVbH7UMDTTgxu5DEK_7OZL5p8thh4j-z2rX4SB-SMPG0WmCNVVdyYcK3qUKq0rymC5XBxO8V7EWsg70hZE-uCv_HGYgA525rBMG', 'width': 3024}], 'place_id': 'ChIJQyH-ibuXQIYRDu7JnrD-pIU', 'plus_code': {'compound_code': 'MP4V+W9 Southeast Houston, Houston, TX, USA', 'global_code': '76X6MP4V+W9'}, 'rating': 4.2, 'reference': 'ChIJQyH-ibuXQIYRDu7JnrD-pIU', 'scope': 'GOOGLE', 'types': ['lodging', 'point_of_interest', 'establishment'], 'user_ratings_total': 1606, 'vicinity': '9100 Gulf Freeway, Houston'}\n",
      "Retrieving results for index 17 : MCI\n"
     ]
    },
    {
     "name": "stderr",
     "output_type": "stream",
     "text": [
      "C:\\Users\\Owner\\AppData\\Local\\Temp\\ipykernel_15040\\3651341654.py:36: FutureWarning: The frame.append method is deprecated and will be removed from pandas in a future version. Use pandas.concat instead.\n",
      "  hotels_df = hotels_df.append({'Hotel Name': name, 'Rating': rating, 'Address': vicinity, 'City Code': city_code, 'Place ID': place_ID}, ignore_index = True)\n",
      "C:\\Users\\Owner\\AppData\\Local\\Temp\\ipykernel_15040\\3651341654.py:36: FutureWarning: The frame.append method is deprecated and will be removed from pandas in a future version. Use pandas.concat instead.\n",
      "  hotels_df = hotels_df.append({'Hotel Name': name, 'Rating': rating, 'Address': vicinity, 'City Code': city_code, 'Place ID': place_ID}, ignore_index = True)\n",
      "C:\\Users\\Owner\\AppData\\Local\\Temp\\ipykernel_15040\\3651341654.py:36: FutureWarning: The frame.append method is deprecated and will be removed from pandas in a future version. Use pandas.concat instead.\n",
      "  hotels_df = hotels_df.append({'Hotel Name': name, 'Rating': rating, 'Address': vicinity, 'City Code': city_code, 'Place ID': place_ID}, ignore_index = True)\n",
      "C:\\Users\\Owner\\AppData\\Local\\Temp\\ipykernel_15040\\3651341654.py:36: FutureWarning: The frame.append method is deprecated and will be removed from pandas in a future version. Use pandas.concat instead.\n",
      "  hotels_df = hotels_df.append({'Hotel Name': name, 'Rating': rating, 'Address': vicinity, 'City Code': city_code, 'Place ID': place_ID}, ignore_index = True)\n",
      "C:\\Users\\Owner\\AppData\\Local\\Temp\\ipykernel_15040\\3651341654.py:36: FutureWarning: The frame.append method is deprecated and will be removed from pandas in a future version. Use pandas.concat instead.\n",
      "  hotels_df = hotels_df.append({'Hotel Name': name, 'Rating': rating, 'Address': vicinity, 'City Code': city_code, 'Place ID': place_ID}, ignore_index = True)\n"
     ]
    },
    {
     "name": "stdout",
     "output_type": "stream",
     "text": [
      "MKC\n",
      "{'business_status': 'OPERATIONAL', 'geometry': {'location': {'lat': 39.29512580000001, 'lng': -94.68305250000002}, 'viewport': {'northeast': {'lat': 39.2961714302915, 'lng': -94.6814314697085}, 'southwest': {'lat': 39.2934734697085, 'lng': -94.6841294302915}}}, 'icon': 'https://maps.gstatic.com/mapfiles/place_api/icons/v1/png_71/lodging-71.png', 'icon_background_color': '#909CE1', 'icon_mask_base_uri': 'https://maps.gstatic.com/mapfiles/place_api/icons/v2/hotel_pinlet', 'name': 'Hilton Kansas City Airport', 'photos': [{'height': 608, 'html_attributions': ['<a href=\"https://maps.google.com/maps/contrib/108771279445517212238\">Hilton Kansas City Airport</a>'], 'photo_reference': 'AcYSjRjgDSmwhvGNKNdLxaSZ_Lcb1sDPbYkELy5rgbUrSqp7cw0D5LY70kHIQ1sCg43YF9lHjY52lHW4T07Mq9Os1-_1jPEqVkxJPRxY-sovgPBbwWEoW6-qnPz7PaIpeCDL0I4EUBtNp00w_qNM26EYoN_H32w8mnvbTVD32xzOPoD7KPVr', 'width': 1080}], 'place_id': 'ChIJgVzzZYlewIcRQKsmlOfawjQ', 'plus_code': {'compound_code': '78W8+3Q Kansas City, MO, USA', 'global_code': '86F778W8+3Q'}, 'rating': 4, 'reference': 'ChIJgVzzZYlewIcRQKsmlOfawjQ', 'scope': 'GOOGLE', 'types': ['lodging', 'point_of_interest', 'establishment'], 'user_ratings_total': 2032, 'vicinity': '8801 Northwest 112th Street, Kansas City'}\n",
      "Retrieving results for index 18 : LAS\n"
     ]
    },
    {
     "name": "stderr",
     "output_type": "stream",
     "text": [
      "C:\\Users\\Owner\\AppData\\Local\\Temp\\ipykernel_15040\\3651341654.py:36: FutureWarning: The frame.append method is deprecated and will be removed from pandas in a future version. Use pandas.concat instead.\n",
      "  hotels_df = hotels_df.append({'Hotel Name': name, 'Rating': rating, 'Address': vicinity, 'City Code': city_code, 'Place ID': place_ID}, ignore_index = True)\n",
      "C:\\Users\\Owner\\AppData\\Local\\Temp\\ipykernel_15040\\3651341654.py:36: FutureWarning: The frame.append method is deprecated and will be removed from pandas in a future version. Use pandas.concat instead.\n",
      "  hotels_df = hotels_df.append({'Hotel Name': name, 'Rating': rating, 'Address': vicinity, 'City Code': city_code, 'Place ID': place_ID}, ignore_index = True)\n",
      "C:\\Users\\Owner\\AppData\\Local\\Temp\\ipykernel_15040\\3651341654.py:36: FutureWarning: The frame.append method is deprecated and will be removed from pandas in a future version. Use pandas.concat instead.\n",
      "  hotels_df = hotels_df.append({'Hotel Name': name, 'Rating': rating, 'Address': vicinity, 'City Code': city_code, 'Place ID': place_ID}, ignore_index = True)\n",
      "C:\\Users\\Owner\\AppData\\Local\\Temp\\ipykernel_15040\\3651341654.py:36: FutureWarning: The frame.append method is deprecated and will be removed from pandas in a future version. Use pandas.concat instead.\n",
      "  hotels_df = hotels_df.append({'Hotel Name': name, 'Rating': rating, 'Address': vicinity, 'City Code': city_code, 'Place ID': place_ID}, ignore_index = True)\n",
      "C:\\Users\\Owner\\AppData\\Local\\Temp\\ipykernel_15040\\3651341654.py:36: FutureWarning: The frame.append method is deprecated and will be removed from pandas in a future version. Use pandas.concat instead.\n",
      "  hotels_df = hotels_df.append({'Hotel Name': name, 'Rating': rating, 'Address': vicinity, 'City Code': city_code, 'Place ID': place_ID}, ignore_index = True)\n"
     ]
    },
    {
     "name": "stdout",
     "output_type": "stream",
     "text": [
      "LAS\n",
      "{'business_status': 'OPERATIONAL', 'geometry': {'location': {'lat': 36.09983510000001, 'lng': -115.148695}, 'viewport': {'northeast': {'lat': 36.1011784802915, 'lng': -115.1475386697085}, 'southwest': {'lat': 36.0984805197085, 'lng': -115.1502366302915}}}, 'icon': 'https://maps.gstatic.com/mapfiles/place_api/icons/v1/png_71/lodging-71.png', 'icon_background_color': '#909CE1', 'icon_mask_base_uri': 'https://maps.gstatic.com/mapfiles/place_api/icons/v2/hotel_pinlet', 'name': 'Best Western Mccarran Inn', 'photos': [{'height': 2160, 'html_attributions': ['<a href=\"https://maps.google.com/maps/contrib/108955804600465229910\">Best Western Mccarran Inn</a>'], 'photo_reference': 'AcYSjRhe9NTmdG3uVcnG3KKYxhI6jN8haQpHB3hhqWLlVRZCmbb6GgtTxnjFokfOPaha-MgbWSUAC0Ekm8IkMmICCdwFMMdMA1rbUDdvB4o-1egPRePr2B-PqoLKOf4RZufwqtfc4BqjG1PAuuwEzbR3vW1YUUI9x-dQ1BUU6C2Ep63VkWH-', 'width': 3840}], 'place_id': 'ChIJQwPVPK_FyIARs0tWbaAaTMY', 'plus_code': {'compound_code': '3VX2+WG Las Vegas, NV, USA', 'global_code': '85863VX2+WG'}, 'rating': 4, 'reference': 'ChIJQwPVPK_FyIARs0tWbaAaTMY', 'scope': 'GOOGLE', 'types': ['lodging', 'point_of_interest', 'establishment'], 'user_ratings_total': 1650, 'vicinity': '4970 Paradise Road, Las Vegas'}\n",
      "Retrieving results for index 19 : BJX\n"
     ]
    },
    {
     "name": "stderr",
     "output_type": "stream",
     "text": [
      "C:\\Users\\Owner\\AppData\\Local\\Temp\\ipykernel_15040\\3651341654.py:36: FutureWarning: The frame.append method is deprecated and will be removed from pandas in a future version. Use pandas.concat instead.\n",
      "  hotels_df = hotels_df.append({'Hotel Name': name, 'Rating': rating, 'Address': vicinity, 'City Code': city_code, 'Place ID': place_ID}, ignore_index = True)\n",
      "C:\\Users\\Owner\\AppData\\Local\\Temp\\ipykernel_15040\\3651341654.py:36: FutureWarning: The frame.append method is deprecated and will be removed from pandas in a future version. Use pandas.concat instead.\n",
      "  hotels_df = hotels_df.append({'Hotel Name': name, 'Rating': rating, 'Address': vicinity, 'City Code': city_code, 'Place ID': place_ID}, ignore_index = True)\n",
      "C:\\Users\\Owner\\AppData\\Local\\Temp\\ipykernel_15040\\3651341654.py:36: FutureWarning: The frame.append method is deprecated and will be removed from pandas in a future version. Use pandas.concat instead.\n",
      "  hotels_df = hotels_df.append({'Hotel Name': name, 'Rating': rating, 'Address': vicinity, 'City Code': city_code, 'Place ID': place_ID}, ignore_index = True)\n",
      "C:\\Users\\Owner\\AppData\\Local\\Temp\\ipykernel_15040\\3651341654.py:36: FutureWarning: The frame.append method is deprecated and will be removed from pandas in a future version. Use pandas.concat instead.\n",
      "  hotels_df = hotels_df.append({'Hotel Name': name, 'Rating': rating, 'Address': vicinity, 'City Code': city_code, 'Place ID': place_ID}, ignore_index = True)\n",
      "C:\\Users\\Owner\\AppData\\Local\\Temp\\ipykernel_15040\\3651341654.py:36: FutureWarning: The frame.append method is deprecated and will be removed from pandas in a future version. Use pandas.concat instead.\n",
      "  hotels_df = hotels_df.append({'Hotel Name': name, 'Rating': rating, 'Address': vicinity, 'City Code': city_code, 'Place ID': place_ID}, ignore_index = True)\n"
     ]
    },
    {
     "name": "stdout",
     "output_type": "stream",
     "text": [
      "BJX\n",
      "{'business_status': 'OPERATIONAL', 'geometry': {'location': {'lat': 20.954033, 'lng': -101.4173186}, 'viewport': {'northeast': {'lat': 20.9554913302915, 'lng': -101.4159471197085}, 'southwest': {'lat': 20.9527933697085, 'lng': -101.4186450802915}}}, 'icon': 'https://maps.gstatic.com/mapfiles/place_api/icons/v1/png_71/lodging-71.png', 'icon_background_color': '#909CE1', 'icon_mask_base_uri': 'https://maps.gstatic.com/mapfiles/place_api/icons/v2/hotel_pinlet', 'name': 'Holiday Inn Express Silao-Aeropuerto Bajio, an IHG Hotel', 'photos': [{'height': 1068, 'html_attributions': ['<a href=\"https://maps.google.com/maps/contrib/114708262792833258059\">Holiday Inn Express Silao-Aeropuerto Bajio, an IHG Hotel</a>'], 'photo_reference': 'AcYSjRhrddqH87GH5EwofXvO24Xnh_nDpi7QzTyUdwxibjrqSv9yc5TFxAmWoMKPOSb7Fn11wIv-TLs5yYNPNdRkvIoqF5dt_H4l5XBpyZG6YYxVZUG55PcgiOVBizpZE4Fz6M-WEBv8OglU3Y7Z6-0qjCrbixny4M74PjT1OvMIm-9sjAOJ', 'width': 1900}], 'place_id': 'ChIJcfKG9am_K4QR7pPwzHoet_Y', 'plus_code': {'compound_code': 'XH3M+J3 Silao, Guanajuato, Mexico', 'global_code': '75GWXH3M+J3'}, 'rating': 4.4, 'reference': 'ChIJcfKG9am_K4QR7pPwzHoet_Y', 'scope': 'GOOGLE', 'types': ['lodging', 'point_of_interest', 'establishment'], 'user_ratings_total': 1277, 'vicinity': 'Libramiento Norte 3360, Col. la Joja, Silao'}\n",
      "Retrieving results for index 20 : LAX\n"
     ]
    },
    {
     "name": "stderr",
     "output_type": "stream",
     "text": [
      "C:\\Users\\Owner\\AppData\\Local\\Temp\\ipykernel_15040\\3651341654.py:36: FutureWarning: The frame.append method is deprecated and will be removed from pandas in a future version. Use pandas.concat instead.\n",
      "  hotels_df = hotels_df.append({'Hotel Name': name, 'Rating': rating, 'Address': vicinity, 'City Code': city_code, 'Place ID': place_ID}, ignore_index = True)\n",
      "C:\\Users\\Owner\\AppData\\Local\\Temp\\ipykernel_15040\\3651341654.py:36: FutureWarning: The frame.append method is deprecated and will be removed from pandas in a future version. Use pandas.concat instead.\n",
      "  hotels_df = hotels_df.append({'Hotel Name': name, 'Rating': rating, 'Address': vicinity, 'City Code': city_code, 'Place ID': place_ID}, ignore_index = True)\n",
      "C:\\Users\\Owner\\AppData\\Local\\Temp\\ipykernel_15040\\3651341654.py:36: FutureWarning: The frame.append method is deprecated and will be removed from pandas in a future version. Use pandas.concat instead.\n",
      "  hotels_df = hotels_df.append({'Hotel Name': name, 'Rating': rating, 'Address': vicinity, 'City Code': city_code, 'Place ID': place_ID}, ignore_index = True)\n",
      "C:\\Users\\Owner\\AppData\\Local\\Temp\\ipykernel_15040\\3651341654.py:36: FutureWarning: The frame.append method is deprecated and will be removed from pandas in a future version. Use pandas.concat instead.\n",
      "  hotels_df = hotels_df.append({'Hotel Name': name, 'Rating': rating, 'Address': vicinity, 'City Code': city_code, 'Place ID': place_ID}, ignore_index = True)\n",
      "C:\\Users\\Owner\\AppData\\Local\\Temp\\ipykernel_15040\\3651341654.py:36: FutureWarning: The frame.append method is deprecated and will be removed from pandas in a future version. Use pandas.concat instead.\n",
      "  hotels_df = hotels_df.append({'Hotel Name': name, 'Rating': rating, 'Address': vicinity, 'City Code': city_code, 'Place ID': place_ID}, ignore_index = True)\n"
     ]
    },
    {
     "name": "stdout",
     "output_type": "stream",
     "text": [
      "LAX\n",
      "{'business_status': 'OPERATIONAL', 'geometry': {'location': {'lat': 33.946854, 'lng': -118.393636}, 'viewport': {'northeast': {'lat': 33.9479977302915, 'lng': -118.3922223697085}, 'southwest': {'lat': 33.94529976970851, 'lng': -118.3949203302915}}}, 'icon': 'https://maps.gstatic.com/mapfiles/place_api/icons/v1/png_71/lodging-71.png', 'icon_background_color': '#909CE1', 'icon_mask_base_uri': 'https://maps.gstatic.com/mapfiles/place_api/icons/v2/hotel_pinlet', 'name': 'Courtyard by Marriott Los Angeles LAX/Century Boulevard', 'photos': [{'height': 1366, 'html_attributions': ['<a href=\"https://maps.google.com/maps/contrib/110989817078882764252\">Courtyard by Marriott Los Angeles LAX/Century Boulevard</a>'], 'photo_reference': 'AcYSjRiRowvr5_PsjZ2XTqYEnj27DB1DQ1A2gsjK05vplTM3ySgzz8cL0WFAO7KxFIPZ_ZdKqM-U10Y2OkPO1zTBsKe8Yy1Qp11tTV1Ed0E3clEeVXaKhN6XBwiCw7nSBm-sFrWPHVDfZA5JrBgXQd5oa6EquNuCFHYDfc6AmFlRLX_LO4Z8', 'width': 2048}], 'place_id': 'ChIJ5-c-ziqxwoAR0PB8w7mx744', 'plus_code': {'compound_code': 'WJW4+PG Los Angeles, CA, USA', 'global_code': '8553WJW4+PG'}, 'rating': 4.1, 'reference': 'ChIJ5-c-ziqxwoAR0PB8w7mx744', 'scope': 'GOOGLE', 'types': ['lodging', 'point_of_interest', 'establishment'], 'user_ratings_total': 1313, 'vicinity': '6161 West Century Boulevard, Los Angeles'}\n",
      "Retrieving results for index 21 : MEX\n"
     ]
    },
    {
     "name": "stderr",
     "output_type": "stream",
     "text": [
      "C:\\Users\\Owner\\AppData\\Local\\Temp\\ipykernel_15040\\3651341654.py:36: FutureWarning: The frame.append method is deprecated and will be removed from pandas in a future version. Use pandas.concat instead.\n",
      "  hotels_df = hotels_df.append({'Hotel Name': name, 'Rating': rating, 'Address': vicinity, 'City Code': city_code, 'Place ID': place_ID}, ignore_index = True)\n",
      "C:\\Users\\Owner\\AppData\\Local\\Temp\\ipykernel_15040\\3651341654.py:36: FutureWarning: The frame.append method is deprecated and will be removed from pandas in a future version. Use pandas.concat instead.\n",
      "  hotels_df = hotels_df.append({'Hotel Name': name, 'Rating': rating, 'Address': vicinity, 'City Code': city_code, 'Place ID': place_ID}, ignore_index = True)\n",
      "C:\\Users\\Owner\\AppData\\Local\\Temp\\ipykernel_15040\\3651341654.py:36: FutureWarning: The frame.append method is deprecated and will be removed from pandas in a future version. Use pandas.concat instead.\n",
      "  hotels_df = hotels_df.append({'Hotel Name': name, 'Rating': rating, 'Address': vicinity, 'City Code': city_code, 'Place ID': place_ID}, ignore_index = True)\n",
      "C:\\Users\\Owner\\AppData\\Local\\Temp\\ipykernel_15040\\3651341654.py:36: FutureWarning: The frame.append method is deprecated and will be removed from pandas in a future version. Use pandas.concat instead.\n",
      "  hotels_df = hotels_df.append({'Hotel Name': name, 'Rating': rating, 'Address': vicinity, 'City Code': city_code, 'Place ID': place_ID}, ignore_index = True)\n",
      "C:\\Users\\Owner\\AppData\\Local\\Temp\\ipykernel_15040\\3651341654.py:36: FutureWarning: The frame.append method is deprecated and will be removed from pandas in a future version. Use pandas.concat instead.\n",
      "  hotels_df = hotels_df.append({'Hotel Name': name, 'Rating': rating, 'Address': vicinity, 'City Code': city_code, 'Place ID': place_ID}, ignore_index = True)\n"
     ]
    },
    {
     "name": "stdout",
     "output_type": "stream",
     "text": [
      "MEX\n",
      "{'business_status': 'OPERATIONAL', 'geometry': {'location': {'lat': 19.4332622, 'lng': -99.08949860000001}, 'viewport': {'northeast': {'lat': 19.4346999302915, 'lng': -99.0880283197085}, 'southwest': {'lat': 19.43200196970849, 'lng': -99.0907262802915}}}, 'icon': 'https://maps.gstatic.com/mapfiles/place_api/icons/v1/png_71/lodging-71.png', 'icon_background_color': '#909CE1', 'icon_mask_base_uri': 'https://maps.gstatic.com/mapfiles/place_api/icons/v2/hotel_pinlet', 'name': 'We Hotel Aeropuerto', 'photos': [{'height': 624, 'html_attributions': ['<a href=\"https://maps.google.com/maps/contrib/103341020073364803448\">We Hotel Aeropuerto</a>'], 'photo_reference': 'AcYSjRgAFWB-5gPGqQ6JQENgXrIxcWK6AjCrRrtyRl-9beocwdWCJFUFaMSkg0fuNXSpybAw9zx_8R6DB44jXror1Ajdkt_yokmxsVbBg-xI36Dxh1sBNOdiSXjqceEW_4HwY7-bT0SjJpJPrCe7CgjaaWVl0b-FF23iVmL0iI6Jr5lI-Ujg', 'width': 1024}], 'place_id': 'ChIJW8MJYwj80YURc0q6XMSv-ks', 'plus_code': {'compound_code': 'CWM6+86 Mexico City, CDMX, Mexico', 'global_code': '76F2CWM6+86'}, 'rating': 4.1, 'reference': 'ChIJW8MJYwj80YURc0q6XMSv-ks', 'scope': 'GOOGLE', 'types': ['lodging', 'point_of_interest', 'establishment'], 'user_ratings_total': 3499, 'vicinity': 'Boulevard Puerto Aéreo 390, Moctezuma 2da Sección, Ciudad de México'}\n",
      "Retrieving results for index 22 : MIA\n"
     ]
    },
    {
     "name": "stderr",
     "output_type": "stream",
     "text": [
      "C:\\Users\\Owner\\AppData\\Local\\Temp\\ipykernel_15040\\3651341654.py:36: FutureWarning: The frame.append method is deprecated and will be removed from pandas in a future version. Use pandas.concat instead.\n",
      "  hotels_df = hotels_df.append({'Hotel Name': name, 'Rating': rating, 'Address': vicinity, 'City Code': city_code, 'Place ID': place_ID}, ignore_index = True)\n",
      "C:\\Users\\Owner\\AppData\\Local\\Temp\\ipykernel_15040\\3651341654.py:36: FutureWarning: The frame.append method is deprecated and will be removed from pandas in a future version. Use pandas.concat instead.\n",
      "  hotels_df = hotels_df.append({'Hotel Name': name, 'Rating': rating, 'Address': vicinity, 'City Code': city_code, 'Place ID': place_ID}, ignore_index = True)\n",
      "C:\\Users\\Owner\\AppData\\Local\\Temp\\ipykernel_15040\\3651341654.py:36: FutureWarning: The frame.append method is deprecated and will be removed from pandas in a future version. Use pandas.concat instead.\n",
      "  hotels_df = hotels_df.append({'Hotel Name': name, 'Rating': rating, 'Address': vicinity, 'City Code': city_code, 'Place ID': place_ID}, ignore_index = True)\n",
      "C:\\Users\\Owner\\AppData\\Local\\Temp\\ipykernel_15040\\3651341654.py:36: FutureWarning: The frame.append method is deprecated and will be removed from pandas in a future version. Use pandas.concat instead.\n",
      "  hotels_df = hotels_df.append({'Hotel Name': name, 'Rating': rating, 'Address': vicinity, 'City Code': city_code, 'Place ID': place_ID}, ignore_index = True)\n",
      "C:\\Users\\Owner\\AppData\\Local\\Temp\\ipykernel_15040\\3651341654.py:36: FutureWarning: The frame.append method is deprecated and will be removed from pandas in a future version. Use pandas.concat instead.\n",
      "  hotels_df = hotels_df.append({'Hotel Name': name, 'Rating': rating, 'Address': vicinity, 'City Code': city_code, 'Place ID': place_ID}, ignore_index = True)\n"
     ]
    },
    {
     "name": "stdout",
     "output_type": "stream",
     "text": [
      "MIA\n",
      "{'business_status': 'OPERATIONAL', 'geometry': {'location': {'lat': 25.7951211, 'lng': -80.2785835}, 'viewport': {'northeast': {'lat': 25.7967551302915, 'lng': -80.27715396970848}, 'southwest': {'lat': 25.7940571697085, 'lng': -80.2798519302915}}}, 'icon': 'https://maps.gstatic.com/mapfiles/place_api/icons/v1/png_71/lodging-71.png', 'icon_background_color': '#909CE1', 'icon_mask_base_uri': 'https://maps.gstatic.com/mapfiles/place_api/icons/v2/hotel_pinlet', 'name': 'Miami International Airport Hotel', 'opening_hours': {'open_now': True}, 'photos': [{'height': 457, 'html_attributions': ['<a href=\"https://maps.google.com/maps/contrib/116770030605467670103\">Miami International Airport Hotel</a>'], 'photo_reference': 'AcYSjRjgqg7L31FXS43xOTb4jWNH7mWOIghGpXVN9D1W4YCJ2BGcyuu7jQ6xSSSDT_CBiNb5qHWWbQXPpppl0tJkeUIJOrVIv5ltxDYn06FlRazVov-V7fZ6uY1UanUenDg0_rUdytflbIRwYmWU99ge6cb3hfFpJAk5lu6StBzaZNKXYVwk', 'width': 812}], 'place_id': 'ChIJe75xWOK52YgRLUnSri2m6qk', 'plus_code': {'compound_code': 'QPWC+2H Miami, FL, USA', 'global_code': '76QXQPWC+2H'}, 'rating': 4.1, 'reference': 'ChIJe75xWOK52YgRLUnSri2m6qk', 'scope': 'GOOGLE', 'types': ['lodging', 'point_of_interest', 'establishment'], 'user_ratings_total': 13537, 'vicinity': 'Miami International Airport Hotel, Le Jeune Rd, Concourse E 2nd Floor, Northwest 20th Street, Miami'}\n",
      "Retrieving results for index 23 : MSP\n"
     ]
    },
    {
     "name": "stderr",
     "output_type": "stream",
     "text": [
      "C:\\Users\\Owner\\AppData\\Local\\Temp\\ipykernel_15040\\3651341654.py:36: FutureWarning: The frame.append method is deprecated and will be removed from pandas in a future version. Use pandas.concat instead.\n",
      "  hotels_df = hotels_df.append({'Hotel Name': name, 'Rating': rating, 'Address': vicinity, 'City Code': city_code, 'Place ID': place_ID}, ignore_index = True)\n",
      "C:\\Users\\Owner\\AppData\\Local\\Temp\\ipykernel_15040\\3651341654.py:36: FutureWarning: The frame.append method is deprecated and will be removed from pandas in a future version. Use pandas.concat instead.\n",
      "  hotels_df = hotels_df.append({'Hotel Name': name, 'Rating': rating, 'Address': vicinity, 'City Code': city_code, 'Place ID': place_ID}, ignore_index = True)\n",
      "C:\\Users\\Owner\\AppData\\Local\\Temp\\ipykernel_15040\\3651341654.py:36: FutureWarning: The frame.append method is deprecated and will be removed from pandas in a future version. Use pandas.concat instead.\n",
      "  hotels_df = hotels_df.append({'Hotel Name': name, 'Rating': rating, 'Address': vicinity, 'City Code': city_code, 'Place ID': place_ID}, ignore_index = True)\n",
      "C:\\Users\\Owner\\AppData\\Local\\Temp\\ipykernel_15040\\3651341654.py:36: FutureWarning: The frame.append method is deprecated and will be removed from pandas in a future version. Use pandas.concat instead.\n",
      "  hotels_df = hotels_df.append({'Hotel Name': name, 'Rating': rating, 'Address': vicinity, 'City Code': city_code, 'Place ID': place_ID}, ignore_index = True)\n",
      "C:\\Users\\Owner\\AppData\\Local\\Temp\\ipykernel_15040\\3651341654.py:36: FutureWarning: The frame.append method is deprecated and will be removed from pandas in a future version. Use pandas.concat instead.\n",
      "  hotels_df = hotels_df.append({'Hotel Name': name, 'Rating': rating, 'Address': vicinity, 'City Code': city_code, 'Place ID': place_ID}, ignore_index = True)\n"
     ]
    },
    {
     "name": "stdout",
     "output_type": "stream",
     "text": [
      "MSP\n",
      "{'business_status': 'OPERATIONAL', 'geometry': {'location': {'lat': 44.86092619999999, 'lng': -93.2184859}, 'viewport': {'northeast': {'lat': 44.86212598029149, 'lng': -93.21713086970851}, 'southwest': {'lat': 44.8594280197085, 'lng': -93.21982883029152}}}, 'icon': 'https://maps.gstatic.com/mapfiles/place_api/icons/v1/png_71/lodging-71.png', 'icon_background_color': '#909CE1', 'icon_mask_base_uri': 'https://maps.gstatic.com/mapfiles/place_api/icons/v2/hotel_pinlet', 'name': 'Hilton Minneapolis-St. Paul Airport', 'photos': [{'height': 2251, 'html_attributions': ['<a href=\"https://maps.google.com/maps/contrib/113462446728077544746\">Hilton Minneapolis-St. Paul Airport</a>'], 'photo_reference': 'AcYSjRhS4pZw2WL45GzRCuBNKmKwByWZlPxFVUyzk7BpH6C4Hsw40lsKynoOb-S1c-5wZkQWOEf9VGaiyPA373wSOOJMQ5jQA0MONSZKsI5t-bmPY_MlUPiKmu0K5JkriNTsEP0tUzGGCszFkK79EhjTHqW1zVJEcel3geE4RvzhoBdV5083', 'width': 3477}], 'place_id': 'ChIJudV85h8v9ocRmpBcgEwXupo', 'plus_code': {'compound_code': 'VQ6J+9J Bloomington, MN, USA', 'global_code': '86P8VQ6J+9J'}, 'rating': 4.2, 'reference': 'ChIJudV85h8v9ocRmpBcgEwXupo', 'scope': 'GOOGLE', 'types': ['lodging', 'point_of_interest', 'establishment'], 'user_ratings_total': 1899, 'vicinity': '3800 American Boulevard East, Bloomington'}\n",
      "Retrieving results for index 24 : MTY\n"
     ]
    },
    {
     "name": "stderr",
     "output_type": "stream",
     "text": [
      "C:\\Users\\Owner\\AppData\\Local\\Temp\\ipykernel_15040\\3651341654.py:36: FutureWarning: The frame.append method is deprecated and will be removed from pandas in a future version. Use pandas.concat instead.\n",
      "  hotels_df = hotels_df.append({'Hotel Name': name, 'Rating': rating, 'Address': vicinity, 'City Code': city_code, 'Place ID': place_ID}, ignore_index = True)\n",
      "C:\\Users\\Owner\\AppData\\Local\\Temp\\ipykernel_15040\\3651341654.py:36: FutureWarning: The frame.append method is deprecated and will be removed from pandas in a future version. Use pandas.concat instead.\n",
      "  hotels_df = hotels_df.append({'Hotel Name': name, 'Rating': rating, 'Address': vicinity, 'City Code': city_code, 'Place ID': place_ID}, ignore_index = True)\n",
      "C:\\Users\\Owner\\AppData\\Local\\Temp\\ipykernel_15040\\3651341654.py:36: FutureWarning: The frame.append method is deprecated and will be removed from pandas in a future version. Use pandas.concat instead.\n",
      "  hotels_df = hotels_df.append({'Hotel Name': name, 'Rating': rating, 'Address': vicinity, 'City Code': city_code, 'Place ID': place_ID}, ignore_index = True)\n",
      "C:\\Users\\Owner\\AppData\\Local\\Temp\\ipykernel_15040\\3651341654.py:36: FutureWarning: The frame.append method is deprecated and will be removed from pandas in a future version. Use pandas.concat instead.\n",
      "  hotels_df = hotels_df.append({'Hotel Name': name, 'Rating': rating, 'Address': vicinity, 'City Code': city_code, 'Place ID': place_ID}, ignore_index = True)\n",
      "C:\\Users\\Owner\\AppData\\Local\\Temp\\ipykernel_15040\\3651341654.py:36: FutureWarning: The frame.append method is deprecated and will be removed from pandas in a future version. Use pandas.concat instead.\n",
      "  hotels_df = hotels_df.append({'Hotel Name': name, 'Rating': rating, 'Address': vicinity, 'City Code': city_code, 'Place ID': place_ID}, ignore_index = True)\n"
     ]
    },
    {
     "name": "stdout",
     "output_type": "stream",
     "text": [
      "MTY\n",
      "{'business_status': 'OPERATIONAL', 'geometry': {'location': {'lat': 25.7853736, 'lng': -100.1343679}, 'viewport': {'northeast': {'lat': 25.7867659302915, 'lng': -100.1328751197085}, 'southwest': {'lat': 25.7840679697085, 'lng': -100.1355730802915}}}, 'icon': 'https://maps.gstatic.com/mapfiles/place_api/icons/v1/png_71/lodging-71.png', 'icon_background_color': '#909CE1', 'icon_mask_base_uri': 'https://maps.gstatic.com/mapfiles/place_api/icons/v2/hotel_pinlet', 'name': 'City Express Monterrey Aeropuerto', 'opening_hours': {'open_now': True}, 'photos': [{'height': 1936, 'html_attributions': ['<a href=\"https://maps.google.com/maps/contrib/104993605458978497408\">City Express Monterrey Aeropuerto</a>'], 'photo_reference': 'AcYSjRgBFlsOB08KkboCPRPoWPd7yNuZIKTNOK1B8YG_w_vHaQ-GOgjnkfYwfAthINtPKDIi8t8_1mx0RYWdN6H6B_zFW46kexhpnKHukMUqH2DfeeIqffEE42I0Z-tygAA1GZpdUMtb9f60vdlOmwIKfSZYEZlx2Ie1ZwMe54MYhI-tQ3JY', 'width': 2900}], 'place_id': 'ChIJI7ClooSVYoYR4qyBX4fZAUE', 'plus_code': {'compound_code': 'QVP8+47 Ciudad Apodaca, Nuevo Leon, Mexico', 'global_code': '75QXQVP8+47'}, 'rating': 4.2, 'reference': 'ChIJI7ClooSVYoYR4qyBX4fZAUE', 'scope': 'GOOGLE', 'types': ['lodging', 'point_of_interest', 'establishment'], 'user_ratings_total': 1897, 'vicinity': 'Boulevard Aeropuerto 5028, Industrial Milenium, Ciudad Apodaca'}\n",
      "Retrieving results for index 25 : BNA\n"
     ]
    },
    {
     "name": "stderr",
     "output_type": "stream",
     "text": [
      "C:\\Users\\Owner\\AppData\\Local\\Temp\\ipykernel_15040\\3651341654.py:36: FutureWarning: The frame.append method is deprecated and will be removed from pandas in a future version. Use pandas.concat instead.\n",
      "  hotels_df = hotels_df.append({'Hotel Name': name, 'Rating': rating, 'Address': vicinity, 'City Code': city_code, 'Place ID': place_ID}, ignore_index = True)\n",
      "C:\\Users\\Owner\\AppData\\Local\\Temp\\ipykernel_15040\\3651341654.py:36: FutureWarning: The frame.append method is deprecated and will be removed from pandas in a future version. Use pandas.concat instead.\n",
      "  hotels_df = hotels_df.append({'Hotel Name': name, 'Rating': rating, 'Address': vicinity, 'City Code': city_code, 'Place ID': place_ID}, ignore_index = True)\n",
      "C:\\Users\\Owner\\AppData\\Local\\Temp\\ipykernel_15040\\3651341654.py:36: FutureWarning: The frame.append method is deprecated and will be removed from pandas in a future version. Use pandas.concat instead.\n",
      "  hotels_df = hotels_df.append({'Hotel Name': name, 'Rating': rating, 'Address': vicinity, 'City Code': city_code, 'Place ID': place_ID}, ignore_index = True)\n",
      "C:\\Users\\Owner\\AppData\\Local\\Temp\\ipykernel_15040\\3651341654.py:36: FutureWarning: The frame.append method is deprecated and will be removed from pandas in a future version. Use pandas.concat instead.\n",
      "  hotels_df = hotels_df.append({'Hotel Name': name, 'Rating': rating, 'Address': vicinity, 'City Code': city_code, 'Place ID': place_ID}, ignore_index = True)\n",
      "C:\\Users\\Owner\\AppData\\Local\\Temp\\ipykernel_15040\\3651341654.py:36: FutureWarning: The frame.append method is deprecated and will be removed from pandas in a future version. Use pandas.concat instead.\n",
      "  hotels_df = hotels_df.append({'Hotel Name': name, 'Rating': rating, 'Address': vicinity, 'City Code': city_code, 'Place ID': place_ID}, ignore_index = True)\n"
     ]
    },
    {
     "name": "stdout",
     "output_type": "stream",
     "text": [
      "BNA\n",
      "{'business_status': 'OPERATIONAL', 'geometry': {'location': {'lat': 36.1465917, 'lng': -86.665555}, 'viewport': {'northeast': {'lat': 36.1478737802915, 'lng': -86.66427711970849}, 'southwest': {'lat': 36.1451758197085, 'lng': -86.66697508029151}}}, 'icon': 'https://maps.gstatic.com/mapfiles/place_api/icons/v1/png_71/lodging-71.png', 'icon_background_color': '#909CE1', 'icon_mask_base_uri': 'https://maps.gstatic.com/mapfiles/place_api/icons/v2/hotel_pinlet', 'name': 'La Quinta Inn & Suites by Wyndham Nashville Airport', 'opening_hours': {'open_now': True}, 'photos': [{'height': 402, 'html_attributions': ['<a href=\"https://maps.google.com/maps/contrib/100627743094635785438\">La Quinta Inn &amp; Suites by Wyndham Nashville Airport</a>'], 'photo_reference': 'AcYSjRicCZg1AyeJep00W233hbJd4zP_wOH8987m4Hav-MAHK660JnP8z7yRKwT2MYE2NaJ-iI5Bji6AMlANBDBw83nCDBseul3uSwFOsA1yivT20_AYSz3F58w9O7LEc3C2bdCIfS40D8E20qd9L0IHCkZc5jGYdbuZyAwzPzQJNXyXiU3N', 'width': 715}], 'place_id': 'ChIJxTeEAVxpZIgRD4evBpoadP4', 'plus_code': {'compound_code': '48WM+JQ Nashville, TN, USA', 'global_code': '868M48WM+JQ'}, 'rating': 3.3, 'reference': 'ChIJxTeEAVxpZIgRD4evBpoadP4', 'scope': 'GOOGLE', 'types': ['lodging', 'point_of_interest', 'establishment'], 'user_ratings_total': 1382, 'vicinity': '531 Donelson Pike, Nashville'}\n",
      "Retrieving results for index 26 : MSY\n"
     ]
    },
    {
     "name": "stderr",
     "output_type": "stream",
     "text": [
      "C:\\Users\\Owner\\AppData\\Local\\Temp\\ipykernel_15040\\3651341654.py:36: FutureWarning: The frame.append method is deprecated and will be removed from pandas in a future version. Use pandas.concat instead.\n",
      "  hotels_df = hotels_df.append({'Hotel Name': name, 'Rating': rating, 'Address': vicinity, 'City Code': city_code, 'Place ID': place_ID}, ignore_index = True)\n",
      "C:\\Users\\Owner\\AppData\\Local\\Temp\\ipykernel_15040\\3651341654.py:36: FutureWarning: The frame.append method is deprecated and will be removed from pandas in a future version. Use pandas.concat instead.\n",
      "  hotels_df = hotels_df.append({'Hotel Name': name, 'Rating': rating, 'Address': vicinity, 'City Code': city_code, 'Place ID': place_ID}, ignore_index = True)\n",
      "C:\\Users\\Owner\\AppData\\Local\\Temp\\ipykernel_15040\\3651341654.py:36: FutureWarning: The frame.append method is deprecated and will be removed from pandas in a future version. Use pandas.concat instead.\n",
      "  hotels_df = hotels_df.append({'Hotel Name': name, 'Rating': rating, 'Address': vicinity, 'City Code': city_code, 'Place ID': place_ID}, ignore_index = True)\n",
      "C:\\Users\\Owner\\AppData\\Local\\Temp\\ipykernel_15040\\3651341654.py:36: FutureWarning: The frame.append method is deprecated and will be removed from pandas in a future version. Use pandas.concat instead.\n",
      "  hotels_df = hotels_df.append({'Hotel Name': name, 'Rating': rating, 'Address': vicinity, 'City Code': city_code, 'Place ID': place_ID}, ignore_index = True)\n",
      "C:\\Users\\Owner\\AppData\\Local\\Temp\\ipykernel_15040\\3651341654.py:36: FutureWarning: The frame.append method is deprecated and will be removed from pandas in a future version. Use pandas.concat instead.\n",
      "  hotels_df = hotels_df.append({'Hotel Name': name, 'Rating': rating, 'Address': vicinity, 'City Code': city_code, 'Place ID': place_ID}, ignore_index = True)\n"
     ]
    },
    {
     "name": "stdout",
     "output_type": "stream",
     "text": [
      "MSY\n",
      "{'business_status': 'OPERATIONAL', 'geometry': {'location': {'lat': 29.981288, 'lng': -90.2571349}, 'viewport': {'northeast': {'lat': 29.9829407302915, 'lng': -90.25613471970848}, 'southwest': {'lat': 29.9802427697085, 'lng': -90.25883268029149}}}, 'icon': 'https://maps.gstatic.com/mapfiles/place_api/icons/v1/png_71/lodging-71.png', 'icon_background_color': '#909CE1', 'icon_mask_base_uri': 'https://maps.gstatic.com/mapfiles/place_api/icons/v2/hotel_pinlet', 'name': 'Hilton New Orleans Airport', 'photos': [{'height': 1314, 'html_attributions': ['<a href=\"https://maps.google.com/maps/contrib/101064331724311545212\">Hilton New Orleans Airport</a>'], 'photo_reference': 'AcYSjRjjB-4LoXcD8Djs5IbL43FN6YI80IXcPbYV2HuPncmFyM6XssEQ4cc69GGnYOHE5wVwujp6tAYtUUjH899BRbGj1onjDYQARffc4ax5rQAdu8wV04-DjTVfSYEEkgi9OAc4xBgJoQuN9D8CS6drZKtT-lDNpif7_4CVCoXKBg73FCzP', 'width': 2048}], 'place_id': 'ChIJm_MQeXm3IIYR0pKegSA2b1g', 'plus_code': {'compound_code': 'XPJV+G4 Kenner, LA, USA', 'global_code': '76XFXPJV+G4'}, 'rating': 4.1, 'reference': 'ChIJm_MQeXm3IIYR0pKegSA2b1g', 'scope': 'GOOGLE', 'types': ['lodging', 'point_of_interest', 'establishment'], 'user_ratings_total': 1488, 'vicinity': '901 Airline Drive, Kenner'}\n",
      "Retrieving results for index 27 : JFK\n"
     ]
    },
    {
     "name": "stderr",
     "output_type": "stream",
     "text": [
      "C:\\Users\\Owner\\AppData\\Local\\Temp\\ipykernel_15040\\3651341654.py:36: FutureWarning: The frame.append method is deprecated and will be removed from pandas in a future version. Use pandas.concat instead.\n",
      "  hotels_df = hotels_df.append({'Hotel Name': name, 'Rating': rating, 'Address': vicinity, 'City Code': city_code, 'Place ID': place_ID}, ignore_index = True)\n",
      "C:\\Users\\Owner\\AppData\\Local\\Temp\\ipykernel_15040\\3651341654.py:36: FutureWarning: The frame.append method is deprecated and will be removed from pandas in a future version. Use pandas.concat instead.\n",
      "  hotels_df = hotels_df.append({'Hotel Name': name, 'Rating': rating, 'Address': vicinity, 'City Code': city_code, 'Place ID': place_ID}, ignore_index = True)\n",
      "C:\\Users\\Owner\\AppData\\Local\\Temp\\ipykernel_15040\\3651341654.py:36: FutureWarning: The frame.append method is deprecated and will be removed from pandas in a future version. Use pandas.concat instead.\n",
      "  hotels_df = hotels_df.append({'Hotel Name': name, 'Rating': rating, 'Address': vicinity, 'City Code': city_code, 'Place ID': place_ID}, ignore_index = True)\n",
      "C:\\Users\\Owner\\AppData\\Local\\Temp\\ipykernel_15040\\3651341654.py:36: FutureWarning: The frame.append method is deprecated and will be removed from pandas in a future version. Use pandas.concat instead.\n",
      "  hotels_df = hotels_df.append({'Hotel Name': name, 'Rating': rating, 'Address': vicinity, 'City Code': city_code, 'Place ID': place_ID}, ignore_index = True)\n",
      "C:\\Users\\Owner\\AppData\\Local\\Temp\\ipykernel_15040\\3651341654.py:36: FutureWarning: The frame.append method is deprecated and will be removed from pandas in a future version. Use pandas.concat instead.\n",
      "  hotels_df = hotels_df.append({'Hotel Name': name, 'Rating': rating, 'Address': vicinity, 'City Code': city_code, 'Place ID': place_ID}, ignore_index = True)\n"
     ]
    },
    {
     "name": "stdout",
     "output_type": "stream",
     "text": [
      "NYC\n",
      "{'business_status': 'OPERATIONAL', 'geometry': {'location': {'lat': 40.64571569999999, 'lng': -73.7776757}, 'viewport': {'northeast': {'lat': 40.6470058302915, 'lng': -73.7764501697085}, 'southwest': {'lat': 40.6443078697085, 'lng': -73.7791481302915}}}, 'icon': 'https://maps.gstatic.com/mapfiles/place_api/icons/v1/png_71/lodging-71.png', 'icon_background_color': '#909CE1', 'icon_mask_base_uri': 'https://maps.gstatic.com/mapfiles/place_api/icons/v2/hotel_pinlet', 'name': 'TWA Hotel', 'opening_hours': {'open_now': True}, 'photos': [{'height': 280, 'html_attributions': ['<a href=\"https://maps.google.com/maps/contrib/116859922396744389555\">TWA HOTEL</a>'], 'photo_reference': 'AcYSjRhXkYeZs3lHsXamxxzKh7tDLpHclOzqyMyPYObrXRfHAzl5fPJKYYSfhLNBM8maIk1QIIPeOmn5UrNW5gE92f6DcuhGGWsIGh8seTXTvmKzPXhECYqD9KFQma0qzBxPjTWjdo-FntFg9A46yCyfgoQjqAzzzhrIWCg5vHMA_R6-9vH0', 'width': 502}], 'place_id': 'ChIJUQfOtlhmwokRWLy40MMrLcQ', 'plus_code': {'compound_code': 'J6WC+7W Queens, NY, USA', 'global_code': '87G8J6WC+7W'}, 'rating': 4.3, 'reference': 'ChIJUQfOtlhmwokRWLy40MMrLcQ', 'scope': 'GOOGLE', 'types': ['lodging', 'restaurant', 'point_of_interest', 'food', 'establishment'], 'user_ratings_total': 4994, 'vicinity': 'John F. Kennedy International Airport, One, JFK Access Road, Idlewild Drive, Queens'}\n",
      "Missing field/result... skipping.\n",
      "-------------\n",
      "Retrieving results for index 28 : EWR\n"
     ]
    },
    {
     "name": "stderr",
     "output_type": "stream",
     "text": [
      "C:\\Users\\Owner\\AppData\\Local\\Temp\\ipykernel_15040\\3651341654.py:36: FutureWarning: The frame.append method is deprecated and will be removed from pandas in a future version. Use pandas.concat instead.\n",
      "  hotels_df = hotels_df.append({'Hotel Name': name, 'Rating': rating, 'Address': vicinity, 'City Code': city_code, 'Place ID': place_ID}, ignore_index = True)\n",
      "C:\\Users\\Owner\\AppData\\Local\\Temp\\ipykernel_15040\\3651341654.py:36: FutureWarning: The frame.append method is deprecated and will be removed from pandas in a future version. Use pandas.concat instead.\n",
      "  hotels_df = hotels_df.append({'Hotel Name': name, 'Rating': rating, 'Address': vicinity, 'City Code': city_code, 'Place ID': place_ID}, ignore_index = True)\n",
      "C:\\Users\\Owner\\AppData\\Local\\Temp\\ipykernel_15040\\3651341654.py:36: FutureWarning: The frame.append method is deprecated and will be removed from pandas in a future version. Use pandas.concat instead.\n",
      "  hotels_df = hotels_df.append({'Hotel Name': name, 'Rating': rating, 'Address': vicinity, 'City Code': city_code, 'Place ID': place_ID}, ignore_index = True)\n"
     ]
    },
    {
     "name": "stdout",
     "output_type": "stream",
     "text": [
      "NYC\n",
      "{'business_status': 'OPERATIONAL', 'geometry': {'location': {'lat': 40.6921206, 'lng': -74.1814103}, 'viewport': {'northeast': {'lat': 40.69341968029151, 'lng': -74.1799671197085}, 'southwest': {'lat': 40.69072171970851, 'lng': -74.18266508029151}}}, 'icon': 'https://maps.gstatic.com/mapfiles/place_api/icons/v1/png_71/lodging-71.png', 'icon_background_color': '#909CE1', 'icon_mask_base_uri': 'https://maps.gstatic.com/mapfiles/place_api/icons/v2/hotel_pinlet', 'name': 'Newark Liberty International Airport Marriott', 'photos': [{'height': 959, 'html_attributions': ['<a href=\"https://maps.google.com/maps/contrib/116481189700041360577\">Newark Liberty International Airport Marriott</a>'], 'photo_reference': 'AcYSjRhJm90klxwx6tkMYyF5fFuEDu9hycYbKAld_dxS01QPf4OkBkb3H_3ToeTbJnjmgbJ_6lGDBbNY5c0VnQc0mixihqOEbi1tmYVsy99ct7e-K-0qHXMVlSdQ665n_a0wZeL1eRPkfGApMmxwhcyABI7Rx7l_KSulNX2Ej5aIvOa0clkD', 'width': 1706}], 'place_id': 'ChIJlXycOvpSwokRRtWN6t7gjJw', 'plus_code': {'compound_code': 'MRR9+RC Newark, NJ, USA', 'global_code': '87G7MRR9+RC'}, 'rating': 4, 'reference': 'ChIJlXycOvpSwokRRtWN6t7gjJw', 'scope': 'GOOGLE', 'types': ['lodging', 'point_of_interest', 'establishment'], 'user_ratings_total': 2869, 'vicinity': 'Newark Liberty International Airport, 1 Hotel Road, Newark'}\n",
      "Retrieving results for index 29 : OKC\n"
     ]
    },
    {
     "name": "stderr",
     "output_type": "stream",
     "text": [
      "C:\\Users\\Owner\\AppData\\Local\\Temp\\ipykernel_15040\\3651341654.py:36: FutureWarning: The frame.append method is deprecated and will be removed from pandas in a future version. Use pandas.concat instead.\n",
      "  hotels_df = hotels_df.append({'Hotel Name': name, 'Rating': rating, 'Address': vicinity, 'City Code': city_code, 'Place ID': place_ID}, ignore_index = True)\n",
      "C:\\Users\\Owner\\AppData\\Local\\Temp\\ipykernel_15040\\3651341654.py:36: FutureWarning: The frame.append method is deprecated and will be removed from pandas in a future version. Use pandas.concat instead.\n",
      "  hotels_df = hotels_df.append({'Hotel Name': name, 'Rating': rating, 'Address': vicinity, 'City Code': city_code, 'Place ID': place_ID}, ignore_index = True)\n",
      "C:\\Users\\Owner\\AppData\\Local\\Temp\\ipykernel_15040\\3651341654.py:36: FutureWarning: The frame.append method is deprecated and will be removed from pandas in a future version. Use pandas.concat instead.\n",
      "  hotels_df = hotels_df.append({'Hotel Name': name, 'Rating': rating, 'Address': vicinity, 'City Code': city_code, 'Place ID': place_ID}, ignore_index = True)\n",
      "C:\\Users\\Owner\\AppData\\Local\\Temp\\ipykernel_15040\\3651341654.py:36: FutureWarning: The frame.append method is deprecated and will be removed from pandas in a future version. Use pandas.concat instead.\n",
      "  hotels_df = hotels_df.append({'Hotel Name': name, 'Rating': rating, 'Address': vicinity, 'City Code': city_code, 'Place ID': place_ID}, ignore_index = True)\n",
      "C:\\Users\\Owner\\AppData\\Local\\Temp\\ipykernel_15040\\3651341654.py:36: FutureWarning: The frame.append method is deprecated and will be removed from pandas in a future version. Use pandas.concat instead.\n",
      "  hotels_df = hotels_df.append({'Hotel Name': name, 'Rating': rating, 'Address': vicinity, 'City Code': city_code, 'Place ID': place_ID}, ignore_index = True)\n"
     ]
    },
    {
     "name": "stdout",
     "output_type": "stream",
     "text": [
      "OKC\n",
      "{'business_status': 'OPERATIONAL', 'geometry': {'location': {'lat': 35.3923574, 'lng': -97.5646118}, 'viewport': {'northeast': {'lat': 35.3936244302915, 'lng': -97.5632635197085}, 'southwest': {'lat': 35.3909264697085, 'lng': -97.5659614802915}}}, 'icon': 'https://maps.gstatic.com/mapfiles/place_api/icons/v1/png_71/lodging-71.png', 'icon_background_color': '#909CE1', 'icon_mask_base_uri': 'https://maps.gstatic.com/mapfiles/place_api/icons/v2/hotel_pinlet', 'name': 'Cambridge Inn', 'photos': [{'height': 1864, 'html_attributions': ['<a href=\"https://maps.google.com/maps/contrib/116576971581984562987\">Jamie</a>'], 'photo_reference': 'AcYSjRi-NoFi0QqD4IdCfa4IkaBmJbOmv72hnGip9KpE7267mrL82pRvrJdkfaDnU7UTSCyO7ZaYtL0JII947JfzUxzRlf-UH7dVVJx16pUH-_LrcLfMDq29--6nNkHde5_EwaQPvpVi7_FgIpFfBabr8F1_1Wix6Mmy6FkFTZOFlk_IUIPy', 'width': 4000}], 'place_id': 'ChIJ36JUdbUTsocRHJPJUcoibq4', 'plus_code': {'compound_code': '9CRP+W5 Hillcrest, Oklahoma City, OK, USA', 'global_code': '86749CRP+W5'}, 'rating': 3.7, 'reference': 'ChIJ36JUdbUTsocRHJPJUcoibq4', 'scope': 'GOOGLE', 'types': ['lodging', 'point_of_interest', 'establishment'], 'user_ratings_total': 10, 'vicinity': '7400 South May Avenue, Oklahoma City'}\n",
      "Missing field/result... skipping.\n",
      "-------------\n",
      "Retrieving results for index 30 : MCO\n"
     ]
    },
    {
     "name": "stderr",
     "output_type": "stream",
     "text": [
      "C:\\Users\\Owner\\AppData\\Local\\Temp\\ipykernel_15040\\3651341654.py:36: FutureWarning: The frame.append method is deprecated and will be removed from pandas in a future version. Use pandas.concat instead.\n",
      "  hotels_df = hotels_df.append({'Hotel Name': name, 'Rating': rating, 'Address': vicinity, 'City Code': city_code, 'Place ID': place_ID}, ignore_index = True)\n",
      "C:\\Users\\Owner\\AppData\\Local\\Temp\\ipykernel_15040\\3651341654.py:36: FutureWarning: The frame.append method is deprecated and will be removed from pandas in a future version. Use pandas.concat instead.\n",
      "  hotels_df = hotels_df.append({'Hotel Name': name, 'Rating': rating, 'Address': vicinity, 'City Code': city_code, 'Place ID': place_ID}, ignore_index = True)\n"
     ]
    },
    {
     "name": "stdout",
     "output_type": "stream",
     "text": [
      "ORL\n",
      "{'business_status': 'OPERATIONAL', 'geometry': {'location': {'lat': 28.43125509999999, 'lng': -81.30520949999999}, 'viewport': {'northeast': {'lat': 28.43949, 'lng': -81.30272179999999}, 'southwest': {'lat': 28.42546680000001, 'lng': -81.3126726}}}, 'icon': 'https://maps.gstatic.com/mapfiles/place_api/icons/v1/png_71/lodging-71.png', 'icon_background_color': '#909CE1', 'icon_mask_base_uri': 'https://maps.gstatic.com/mapfiles/place_api/icons/v2/hotel_pinlet', 'name': 'Hyatt Regency Orlando International Airport', 'opening_hours': {'open_now': True}, 'photos': [{'height': 5304, 'html_attributions': ['<a href=\"https://maps.google.com/maps/contrib/116083721653090490225\">Hyatt Regency Orlando International Airport</a>'], 'photo_reference': 'AcYSjRgy5QsVWbnLs48ffrrhAldPcz9oE5SX_CQ9sYVMHHJdc2cWQLn792Tw91XKABeao9NyCYDlujEkJ2IkaDuKDj9MltWBueoAdZHBZSUl_uHBCNLPrCIi_7hsZvwM8q_Eq-4edxcltQiECsmVQUGleaTvosfNEHMGDHohVmzq438MDC--', 'width': 7952}], 'place_id': 'ChIJ3WB_SuVi54gRBht8RQ7TZeU', 'plus_code': {'compound_code': 'CMJV+GW Orlando, FL, USA', 'global_code': '76WWCMJV+GW'}, 'rating': 4.5, 'reference': 'ChIJ3WB_SuVi54gRBht8RQ7TZeU', 'scope': 'GOOGLE', 'types': ['lodging', 'point_of_interest', 'establishment'], 'user_ratings_total': 4043, 'vicinity': '9300 Jeff Fuqua Boulevard, Orlando'}\n",
      "Retrieving results for index 31 : PHL\n"
     ]
    },
    {
     "name": "stderr",
     "output_type": "stream",
     "text": [
      "C:\\Users\\Owner\\AppData\\Local\\Temp\\ipykernel_15040\\3651341654.py:36: FutureWarning: The frame.append method is deprecated and will be removed from pandas in a future version. Use pandas.concat instead.\n",
      "  hotels_df = hotels_df.append({'Hotel Name': name, 'Rating': rating, 'Address': vicinity, 'City Code': city_code, 'Place ID': place_ID}, ignore_index = True)\n",
      "C:\\Users\\Owner\\AppData\\Local\\Temp\\ipykernel_15040\\3651341654.py:36: FutureWarning: The frame.append method is deprecated and will be removed from pandas in a future version. Use pandas.concat instead.\n",
      "  hotels_df = hotels_df.append({'Hotel Name': name, 'Rating': rating, 'Address': vicinity, 'City Code': city_code, 'Place ID': place_ID}, ignore_index = True)\n",
      "C:\\Users\\Owner\\AppData\\Local\\Temp\\ipykernel_15040\\3651341654.py:36: FutureWarning: The frame.append method is deprecated and will be removed from pandas in a future version. Use pandas.concat instead.\n",
      "  hotels_df = hotels_df.append({'Hotel Name': name, 'Rating': rating, 'Address': vicinity, 'City Code': city_code, 'Place ID': place_ID}, ignore_index = True)\n",
      "C:\\Users\\Owner\\AppData\\Local\\Temp\\ipykernel_15040\\3651341654.py:36: FutureWarning: The frame.append method is deprecated and will be removed from pandas in a future version. Use pandas.concat instead.\n",
      "  hotels_df = hotels_df.append({'Hotel Name': name, 'Rating': rating, 'Address': vicinity, 'City Code': city_code, 'Place ID': place_ID}, ignore_index = True)\n",
      "C:\\Users\\Owner\\AppData\\Local\\Temp\\ipykernel_15040\\3651341654.py:36: FutureWarning: The frame.append method is deprecated and will be removed from pandas in a future version. Use pandas.concat instead.\n",
      "  hotels_df = hotels_df.append({'Hotel Name': name, 'Rating': rating, 'Address': vicinity, 'City Code': city_code, 'Place ID': place_ID}, ignore_index = True)\n"
     ]
    },
    {
     "name": "stdout",
     "output_type": "stream",
     "text": [
      "PHL\n",
      "{'business_status': 'OPERATIONAL', 'geometry': {'location': {'lat': 39.8778434, 'lng': -75.24443330000001}, 'viewport': {'northeast': {'lat': 39.8794003302915, 'lng': -75.24303226970851}, 'southwest': {'lat': 39.8767023697085, 'lng': -75.24573023029153}}}, 'icon': 'https://maps.gstatic.com/mapfiles/place_api/icons/v1/png_71/lodging-71.png', 'icon_background_color': '#909CE1', 'icon_mask_base_uri': 'https://maps.gstatic.com/mapfiles/place_api/icons/v2/hotel_pinlet', 'name': 'Philadelphia Airport Marriott', 'photos': [{'height': 1366, 'html_attributions': ['<a href=\"https://maps.google.com/maps/contrib/110659509249183063262\">Philadelphia Airport Marriott</a>'], 'photo_reference': 'AcYSjRhKkX0nFmpXKSglT1b3YgzttU3a39U_V3h6y3Fx-lVioPVqY4I-5sByzdn3oqh750OgnjPoe7q2uU2Gm1e8HcjbiiINjr3GGM6w5HzaRUu-9K9-SG_POqFQFLMoq51G-bYKV66JDD6cUqCXuzz5NJlYjHYWDcFdfsa2A8zVS4P6CgOc', 'width': 2048}], 'place_id': 'ChIJaQfX4ZzExokRQc3HFJWnlb4', 'plus_code': {'compound_code': 'VQH4+46 Philadelphia, PA, USA', 'global_code': '87F6VQH4+46'}, 'rating': 4.1, 'reference': 'ChIJaQfX4ZzExokRQc3HFJWnlb4', 'scope': 'GOOGLE', 'types': ['lodging', 'point_of_interest', 'establishment'], 'user_ratings_total': 1990, 'vicinity': 'One Arrivals Road Terminal B, Philadelphia'}\n",
      "Retrieving results for index 32 : PHX\n"
     ]
    },
    {
     "name": "stderr",
     "output_type": "stream",
     "text": [
      "C:\\Users\\Owner\\AppData\\Local\\Temp\\ipykernel_15040\\3651341654.py:36: FutureWarning: The frame.append method is deprecated and will be removed from pandas in a future version. Use pandas.concat instead.\n",
      "  hotels_df = hotels_df.append({'Hotel Name': name, 'Rating': rating, 'Address': vicinity, 'City Code': city_code, 'Place ID': place_ID}, ignore_index = True)\n",
      "C:\\Users\\Owner\\AppData\\Local\\Temp\\ipykernel_15040\\3651341654.py:36: FutureWarning: The frame.append method is deprecated and will be removed from pandas in a future version. Use pandas.concat instead.\n",
      "  hotels_df = hotels_df.append({'Hotel Name': name, 'Rating': rating, 'Address': vicinity, 'City Code': city_code, 'Place ID': place_ID}, ignore_index = True)\n",
      "C:\\Users\\Owner\\AppData\\Local\\Temp\\ipykernel_15040\\3651341654.py:36: FutureWarning: The frame.append method is deprecated and will be removed from pandas in a future version. Use pandas.concat instead.\n",
      "  hotels_df = hotels_df.append({'Hotel Name': name, 'Rating': rating, 'Address': vicinity, 'City Code': city_code, 'Place ID': place_ID}, ignore_index = True)\n",
      "C:\\Users\\Owner\\AppData\\Local\\Temp\\ipykernel_15040\\3651341654.py:36: FutureWarning: The frame.append method is deprecated and will be removed from pandas in a future version. Use pandas.concat instead.\n",
      "  hotels_df = hotels_df.append({'Hotel Name': name, 'Rating': rating, 'Address': vicinity, 'City Code': city_code, 'Place ID': place_ID}, ignore_index = True)\n",
      "C:\\Users\\Owner\\AppData\\Local\\Temp\\ipykernel_15040\\3651341654.py:36: FutureWarning: The frame.append method is deprecated and will be removed from pandas in a future version. Use pandas.concat instead.\n",
      "  hotels_df = hotels_df.append({'Hotel Name': name, 'Rating': rating, 'Address': vicinity, 'City Code': city_code, 'Place ID': place_ID}, ignore_index = True)\n"
     ]
    },
    {
     "name": "stdout",
     "output_type": "stream",
     "text": [
      "PHX\n",
      "{'business_status': 'OPERATIONAL', 'geometry': {'location': {'lat': 33.4516586, 'lng': -111.9974634}, 'viewport': {'northeast': {'lat': 33.4528861302915, 'lng': -111.9961258697085}, 'southwest': {'lat': 33.4501881697085, 'lng': -111.9988238302915}}}, 'icon': 'https://maps.gstatic.com/mapfiles/place_api/icons/v1/png_71/lodging-71.png', 'icon_background_color': '#909CE1', 'icon_mask_base_uri': 'https://maps.gstatic.com/mapfiles/place_api/icons/v2/hotel_pinlet', 'name': 'Hilton Garden Inn Phoenix Airport North', 'photos': [{'height': 3000, 'html_attributions': ['<a href=\"https://maps.google.com/maps/contrib/112586118414006788922\">Hilton Garden Inn Phoenix Airport North</a>'], 'photo_reference': 'AcYSjRjWha4IrC-RY1wJ1Xdgye_D5kLQDrenrN0bbwxyYnyUcuanxvLnC1Zy6aSr_xmJar-JalbyGAxh85EQ0YfSli6fsZO9msLHUDJChXpZRWi5zZLsx6JdKOq3AVVKAydRdbxtjNgISi7LRMJIwFKHwfehnd3uHwwf7mbmPQuJepPKZmEQ', 'width': 4500}], 'place_id': 'ChIJH2-KO4cOK4cRdw4y671fEgw', 'plus_code': {'compound_code': 'F223+M2 Phoenix, AZ, USA', 'global_code': '855CF223+M2'}, 'rating': 4.2, 'reference': 'ChIJH2-KO4cOK4cRdw4y671fEgw', 'scope': 'GOOGLE', 'types': ['lodging', 'point_of_interest', 'establishment'], 'user_ratings_total': 1699, 'vicinity': '3838 East Van Buren Street, Phoenix'}\n",
      "Retrieving results for index 33 : SLC\n"
     ]
    },
    {
     "name": "stderr",
     "output_type": "stream",
     "text": [
      "C:\\Users\\Owner\\AppData\\Local\\Temp\\ipykernel_15040\\3651341654.py:36: FutureWarning: The frame.append method is deprecated and will be removed from pandas in a future version. Use pandas.concat instead.\n",
      "  hotels_df = hotels_df.append({'Hotel Name': name, 'Rating': rating, 'Address': vicinity, 'City Code': city_code, 'Place ID': place_ID}, ignore_index = True)\n",
      "C:\\Users\\Owner\\AppData\\Local\\Temp\\ipykernel_15040\\3651341654.py:36: FutureWarning: The frame.append method is deprecated and will be removed from pandas in a future version. Use pandas.concat instead.\n",
      "  hotels_df = hotels_df.append({'Hotel Name': name, 'Rating': rating, 'Address': vicinity, 'City Code': city_code, 'Place ID': place_ID}, ignore_index = True)\n",
      "C:\\Users\\Owner\\AppData\\Local\\Temp\\ipykernel_15040\\3651341654.py:36: FutureWarning: The frame.append method is deprecated and will be removed from pandas in a future version. Use pandas.concat instead.\n",
      "  hotels_df = hotels_df.append({'Hotel Name': name, 'Rating': rating, 'Address': vicinity, 'City Code': city_code, 'Place ID': place_ID}, ignore_index = True)\n",
      "C:\\Users\\Owner\\AppData\\Local\\Temp\\ipykernel_15040\\3651341654.py:36: FutureWarning: The frame.append method is deprecated and will be removed from pandas in a future version. Use pandas.concat instead.\n",
      "  hotels_df = hotels_df.append({'Hotel Name': name, 'Rating': rating, 'Address': vicinity, 'City Code': city_code, 'Place ID': place_ID}, ignore_index = True)\n",
      "C:\\Users\\Owner\\AppData\\Local\\Temp\\ipykernel_15040\\3651341654.py:36: FutureWarning: The frame.append method is deprecated and will be removed from pandas in a future version. Use pandas.concat instead.\n",
      "  hotels_df = hotels_df.append({'Hotel Name': name, 'Rating': rating, 'Address': vicinity, 'City Code': city_code, 'Place ID': place_ID}, ignore_index = True)\n"
     ]
    },
    {
     "name": "stdout",
     "output_type": "stream",
     "text": [
      "SLC\n",
      "{'business_status': 'OPERATIONAL', 'geometry': {'location': {'lat': 40.772638, 'lng': -112.008234}, 'viewport': {'northeast': {'lat': 40.7744297302915, 'lng': -112.0067405697085}, 'southwest': {'lat': 40.7717317697085, 'lng': -112.0094385302915}}}, 'icon': 'https://maps.gstatic.com/mapfiles/place_api/icons/v1/png_71/lodging-71.png', 'icon_background_color': '#909CE1', 'icon_mask_base_uri': 'https://maps.gstatic.com/mapfiles/place_api/icons/v2/hotel_pinlet', 'name': 'La Quinta Inn & Suites by Wyndham Salt Lake City Airport', 'opening_hours': {'open_now': True}, 'photos': [{'height': 400, 'html_attributions': ['<a href=\"https://maps.google.com/maps/contrib/104003977917243289572\">La Quinta Inn &amp; Suites by Wyndham Salt Lake City Airport</a>'], 'photo_reference': 'AcYSjRgUdz4_WSGTWtuvBtUVKqMxyYooizAK21kmlA1zXDsYyycYpGa8qOnhv1VBH_IaxA7Ju98TxazqIsZwZE6uAzIPZz4sG8aniElKWUFajRw2nn4b7QT7NAj3RWIF7CrAWjdEFmZELRTCbE3JoI9nAkbC6oXxe69HNlNE98MGCOoHOcQ5', 'width': 711}], 'place_id': 'ChIJhXlv2jbyUocRrs14OraVwkQ', 'plus_code': {'compound_code': 'QXFR+3P Salt Lake City, UT, USA', 'global_code': '85G9QXFR+3P'}, 'rating': 3.8, 'reference': 'ChIJhXlv2jbyUocRrs14OraVwkQ', 'scope': 'GOOGLE', 'types': ['lodging', 'point_of_interest', 'establishment'], 'user_ratings_total': 1000, 'vicinity': '4905 Wiley Post Way, Salt Lake City'}\n",
      "Retrieving results for index 34 : SAN\n"
     ]
    },
    {
     "name": "stderr",
     "output_type": "stream",
     "text": [
      "C:\\Users\\Owner\\AppData\\Local\\Temp\\ipykernel_15040\\3651341654.py:36: FutureWarning: The frame.append method is deprecated and will be removed from pandas in a future version. Use pandas.concat instead.\n",
      "  hotels_df = hotels_df.append({'Hotel Name': name, 'Rating': rating, 'Address': vicinity, 'City Code': city_code, 'Place ID': place_ID}, ignore_index = True)\n",
      "C:\\Users\\Owner\\AppData\\Local\\Temp\\ipykernel_15040\\3651341654.py:36: FutureWarning: The frame.append method is deprecated and will be removed from pandas in a future version. Use pandas.concat instead.\n",
      "  hotels_df = hotels_df.append({'Hotel Name': name, 'Rating': rating, 'Address': vicinity, 'City Code': city_code, 'Place ID': place_ID}, ignore_index = True)\n",
      "C:\\Users\\Owner\\AppData\\Local\\Temp\\ipykernel_15040\\3651341654.py:36: FutureWarning: The frame.append method is deprecated and will be removed from pandas in a future version. Use pandas.concat instead.\n",
      "  hotels_df = hotels_df.append({'Hotel Name': name, 'Rating': rating, 'Address': vicinity, 'City Code': city_code, 'Place ID': place_ID}, ignore_index = True)\n",
      "C:\\Users\\Owner\\AppData\\Local\\Temp\\ipykernel_15040\\3651341654.py:36: FutureWarning: The frame.append method is deprecated and will be removed from pandas in a future version. Use pandas.concat instead.\n",
      "  hotels_df = hotels_df.append({'Hotel Name': name, 'Rating': rating, 'Address': vicinity, 'City Code': city_code, 'Place ID': place_ID}, ignore_index = True)\n",
      "C:\\Users\\Owner\\AppData\\Local\\Temp\\ipykernel_15040\\3651341654.py:36: FutureWarning: The frame.append method is deprecated and will be removed from pandas in a future version. Use pandas.concat instead.\n",
      "  hotels_df = hotels_df.append({'Hotel Name': name, 'Rating': rating, 'Address': vicinity, 'City Code': city_code, 'Place ID': place_ID}, ignore_index = True)\n"
     ]
    },
    {
     "name": "stdout",
     "output_type": "stream",
     "text": [
      "SAN\n",
      "{'business_status': 'OPERATIONAL', 'geometry': {'location': {'lat': 32.7270687, 'lng': -117.1978609}, 'viewport': {'northeast': {'lat': 32.7283999802915, 'lng': -117.1964153697085}, 'southwest': {'lat': 32.7257020197085, 'lng': -117.1991133302915}}}, 'icon': 'https://maps.gstatic.com/mapfiles/place_api/icons/v1/png_71/lodging-71.png', 'icon_background_color': '#909CE1', 'icon_mask_base_uri': 'https://maps.gstatic.com/mapfiles/place_api/icons/v2/hotel_pinlet', 'name': 'Sheraton San Diego Hotel & Marina', 'photos': [{'height': 1366, 'html_attributions': ['<a href=\"https://maps.google.com/maps/contrib/103600143834607540030\">Sheraton San Diego Hotel &amp; Marina</a>'], 'photo_reference': 'AcYSjRikpFJOSOSCyAiII8upbvb4tZMt1R6nuOKLeKcWMLOZNCF_fYyWCw5Bw09XX7zfx08-qu3tGkVqUsZHtXCg0ENTLLkTYOzCydM6D8LJGlDGMWkgMBv72c8-cJjBCyiOtAqiAGjVoGfroPXroceqjTuwRikHYWyXGdJt2W1rg4hOv2XC', 'width': 2048}], 'place_id': 'ChIJz51XAUCr3oAR6XwxuHXrOUc', 'plus_code': {'compound_code': 'PRG2+RV San Diego, CA, USA', 'global_code': '8544PRG2+RV'}, 'rating': 4.1, 'reference': 'ChIJz51XAUCr3oAR6XwxuHXrOUc', 'scope': 'GOOGLE', 'types': ['lodging', 'point_of_interest', 'establishment'], 'user_ratings_total': 4595, 'vicinity': '1380 Harbor Island Drive, San Diego'}\n",
      "Retrieving results for index 35 : SFO\n"
     ]
    },
    {
     "name": "stderr",
     "output_type": "stream",
     "text": [
      "C:\\Users\\Owner\\AppData\\Local\\Temp\\ipykernel_15040\\3651341654.py:36: FutureWarning: The frame.append method is deprecated and will be removed from pandas in a future version. Use pandas.concat instead.\n",
      "  hotels_df = hotels_df.append({'Hotel Name': name, 'Rating': rating, 'Address': vicinity, 'City Code': city_code, 'Place ID': place_ID}, ignore_index = True)\n",
      "C:\\Users\\Owner\\AppData\\Local\\Temp\\ipykernel_15040\\3651341654.py:36: FutureWarning: The frame.append method is deprecated and will be removed from pandas in a future version. Use pandas.concat instead.\n",
      "  hotels_df = hotels_df.append({'Hotel Name': name, 'Rating': rating, 'Address': vicinity, 'City Code': city_code, 'Place ID': place_ID}, ignore_index = True)\n",
      "C:\\Users\\Owner\\AppData\\Local\\Temp\\ipykernel_15040\\3651341654.py:36: FutureWarning: The frame.append method is deprecated and will be removed from pandas in a future version. Use pandas.concat instead.\n",
      "  hotels_df = hotels_df.append({'Hotel Name': name, 'Rating': rating, 'Address': vicinity, 'City Code': city_code, 'Place ID': place_ID}, ignore_index = True)\n",
      "C:\\Users\\Owner\\AppData\\Local\\Temp\\ipykernel_15040\\3651341654.py:36: FutureWarning: The frame.append method is deprecated and will be removed from pandas in a future version. Use pandas.concat instead.\n",
      "  hotels_df = hotels_df.append({'Hotel Name': name, 'Rating': rating, 'Address': vicinity, 'City Code': city_code, 'Place ID': place_ID}, ignore_index = True)\n",
      "C:\\Users\\Owner\\AppData\\Local\\Temp\\ipykernel_15040\\3651341654.py:36: FutureWarning: The frame.append method is deprecated and will be removed from pandas in a future version. Use pandas.concat instead.\n",
      "  hotels_df = hotels_df.append({'Hotel Name': name, 'Rating': rating, 'Address': vicinity, 'City Code': city_code, 'Place ID': place_ID}, ignore_index = True)\n"
     ]
    },
    {
     "name": "stdout",
     "output_type": "stream",
     "text": [
      "SFO\n",
      "{'business_status': 'OPERATIONAL', 'geometry': {'location': {'lat': 37.6074473, 'lng': -122.3972321}, 'viewport': {'northeast': {'lat': 37.61028504999998, 'lng': -122.3960783}, 'southwest': {'lat': 37.60611125000001, 'lng': -122.3989559}}}, 'icon': 'https://maps.gstatic.com/mapfiles/place_api/icons/v1/png_71/lodging-71.png', 'icon_background_color': '#909CE1', 'icon_mask_base_uri': 'https://maps.gstatic.com/mapfiles/place_api/icons/v2/hotel_pinlet', 'name': 'Sfo Airport Hotel, El Rancho Inn, BW Signature Collection', 'photos': [{'height': 2662, 'html_attributions': ['<a href=\"https://maps.google.com/maps/contrib/106222038989592440673\">Sfo Airport Hotel, El Rancho Inn, BW Signature Collection</a>'], 'photo_reference': 'AcYSjRhjMdgIQQtnC7l7EGhBAfRR-Wd0Gi-9f78Js2t7rZYnGndBrM56J0EAny07xt6LnqcBDKh84nIyGJbeTC4h3-n0JYYUTqZXFcSsYOoaN3vr9ID1j3RgFHmgOGwAcFpxMl5ENWJf1vzcJnk3o3uQcOEnhESKB8XMZl5BrB-qFWYrNvWQ', 'width': 3993}], 'place_id': 'ChIJwf_keZ93j4ARXnyhPd_snMw', 'plus_code': {'compound_code': 'JJ43+X4 Millbrae, CA, USA', 'global_code': '849VJJ43+X4'}, 'rating': 4.1, 'reference': 'ChIJwf_keZ93j4ARXnyhPd_snMw', 'scope': 'GOOGLE', 'types': ['lodging', 'point_of_interest', 'establishment'], 'user_ratings_total': 2193, 'vicinity': '1100 El Camino Real, Millbrae'}\n",
      "Retrieving results for index 36 : SEA\n"
     ]
    },
    {
     "name": "stderr",
     "output_type": "stream",
     "text": [
      "C:\\Users\\Owner\\AppData\\Local\\Temp\\ipykernel_15040\\3651341654.py:36: FutureWarning: The frame.append method is deprecated and will be removed from pandas in a future version. Use pandas.concat instead.\n",
      "  hotels_df = hotels_df.append({'Hotel Name': name, 'Rating': rating, 'Address': vicinity, 'City Code': city_code, 'Place ID': place_ID}, ignore_index = True)\n",
      "C:\\Users\\Owner\\AppData\\Local\\Temp\\ipykernel_15040\\3651341654.py:36: FutureWarning: The frame.append method is deprecated and will be removed from pandas in a future version. Use pandas.concat instead.\n",
      "  hotels_df = hotels_df.append({'Hotel Name': name, 'Rating': rating, 'Address': vicinity, 'City Code': city_code, 'Place ID': place_ID}, ignore_index = True)\n",
      "C:\\Users\\Owner\\AppData\\Local\\Temp\\ipykernel_15040\\3651341654.py:36: FutureWarning: The frame.append method is deprecated and will be removed from pandas in a future version. Use pandas.concat instead.\n",
      "  hotels_df = hotels_df.append({'Hotel Name': name, 'Rating': rating, 'Address': vicinity, 'City Code': city_code, 'Place ID': place_ID}, ignore_index = True)\n",
      "C:\\Users\\Owner\\AppData\\Local\\Temp\\ipykernel_15040\\3651341654.py:36: FutureWarning: The frame.append method is deprecated and will be removed from pandas in a future version. Use pandas.concat instead.\n",
      "  hotels_df = hotels_df.append({'Hotel Name': name, 'Rating': rating, 'Address': vicinity, 'City Code': city_code, 'Place ID': place_ID}, ignore_index = True)\n",
      "C:\\Users\\Owner\\AppData\\Local\\Temp\\ipykernel_15040\\3651341654.py:36: FutureWarning: The frame.append method is deprecated and will be removed from pandas in a future version. Use pandas.concat instead.\n",
      "  hotels_df = hotels_df.append({'Hotel Name': name, 'Rating': rating, 'Address': vicinity, 'City Code': city_code, 'Place ID': place_ID}, ignore_index = True)\n"
     ]
    },
    {
     "name": "stdout",
     "output_type": "stream",
     "text": [
      "SEA\n",
      "{'business_status': 'OPERATIONAL', 'geometry': {'location': {'lat': 47.4447742, 'lng': -122.2956286}, 'viewport': {'northeast': {'lat': 47.44595355000001, 'lng': -122.29170055}, 'southwest': {'lat': 47.44321854999999, 'lng': -122.29754075}}}, 'icon': 'https://maps.gstatic.com/mapfiles/place_api/icons/v1/png_71/lodging-71.png', 'icon_background_color': '#909CE1', 'icon_mask_base_uri': 'https://maps.gstatic.com/mapfiles/place_api/icons/v2/hotel_pinlet', 'name': 'Hilton Seattle Airport & Conference Center', 'photos': [{'height': 2319, 'html_attributions': ['<a href=\"https://maps.google.com/maps/contrib/115284090949917953791\">Hilton Seattle Airport &amp; Conference Center</a>'], 'photo_reference': 'AcYSjRjUHHM1qDWC3o3stb-KLMiTg4wFsfQQbsmJuG0g3R__BkKCoLx_j-nLI4HZ_oBvxSTfaNZ7LLx59R9IE1kNr1uI0HYF7slWSnTzm6PR2MTgyqyIKQkBcAUyGnebWmTg6Lzv88XqjSbh2m9LzQ8BbhBSY_BhkfBD9hMfFYVWrOzDCTSn', 'width': 3478}], 'place_id': 'ChIJvcyZA6xckFQRdOePznHCxns', 'plus_code': {'compound_code': 'CPV3+WP Seattle, WA, USA', 'global_code': '84VVCPV3+WP'}, 'rating': 4, 'reference': 'ChIJvcyZA6xckFQRdOePznHCxns', 'scope': 'GOOGLE', 'types': ['lodging', 'point_of_interest', 'establishment'], 'user_ratings_total': 2437, 'vicinity': '17620 International Boulevard, Seattle'}\n",
      "Retrieving results for index 37 : STL\n"
     ]
    },
    {
     "name": "stderr",
     "output_type": "stream",
     "text": [
      "C:\\Users\\Owner\\AppData\\Local\\Temp\\ipykernel_15040\\3651341654.py:36: FutureWarning: The frame.append method is deprecated and will be removed from pandas in a future version. Use pandas.concat instead.\n",
      "  hotels_df = hotels_df.append({'Hotel Name': name, 'Rating': rating, 'Address': vicinity, 'City Code': city_code, 'Place ID': place_ID}, ignore_index = True)\n",
      "C:\\Users\\Owner\\AppData\\Local\\Temp\\ipykernel_15040\\3651341654.py:36: FutureWarning: The frame.append method is deprecated and will be removed from pandas in a future version. Use pandas.concat instead.\n",
      "  hotels_df = hotels_df.append({'Hotel Name': name, 'Rating': rating, 'Address': vicinity, 'City Code': city_code, 'Place ID': place_ID}, ignore_index = True)\n",
      "C:\\Users\\Owner\\AppData\\Local\\Temp\\ipykernel_15040\\3651341654.py:36: FutureWarning: The frame.append method is deprecated and will be removed from pandas in a future version. Use pandas.concat instead.\n",
      "  hotels_df = hotels_df.append({'Hotel Name': name, 'Rating': rating, 'Address': vicinity, 'City Code': city_code, 'Place ID': place_ID}, ignore_index = True)\n",
      "C:\\Users\\Owner\\AppData\\Local\\Temp\\ipykernel_15040\\3651341654.py:36: FutureWarning: The frame.append method is deprecated and will be removed from pandas in a future version. Use pandas.concat instead.\n",
      "  hotels_df = hotels_df.append({'Hotel Name': name, 'Rating': rating, 'Address': vicinity, 'City Code': city_code, 'Place ID': place_ID}, ignore_index = True)\n",
      "C:\\Users\\Owner\\AppData\\Local\\Temp\\ipykernel_15040\\3651341654.py:36: FutureWarning: The frame.append method is deprecated and will be removed from pandas in a future version. Use pandas.concat instead.\n",
      "  hotels_df = hotels_df.append({'Hotel Name': name, 'Rating': rating, 'Address': vicinity, 'City Code': city_code, 'Place ID': place_ID}, ignore_index = True)\n"
     ]
    },
    {
     "name": "stdout",
     "output_type": "stream",
     "text": [
      "STL\n",
      "{'business_status': 'OPERATIONAL', 'geometry': {'location': {'lat': 38.7377151, 'lng': -90.3637691}, 'viewport': {'northeast': {'lat': 38.7392289302915, 'lng': -90.3625554697085}, 'southwest': {'lat': 38.7365309697085, 'lng': -90.3652534302915}}}, 'icon': 'https://maps.gstatic.com/mapfiles/place_api/icons/v1/png_71/lodging-71.png', 'icon_background_color': '#909CE1', 'icon_mask_base_uri': 'https://maps.gstatic.com/mapfiles/place_api/icons/v2/hotel_pinlet', 'name': 'Drury Inn & Suites St. Louis Airport', 'opening_hours': {'open_now': True}, 'photos': [{'height': 3579, 'html_attributions': ['<a href=\"https://maps.google.com/maps/contrib/101042386400359695031\">Drury Inn &amp; Suites St. Louis Airport</a>'], 'photo_reference': 'AcYSjRgmFzuYU4sDF-F7Wi5BJJzYNG2M5p0zmZ3tAVZHuqDVFJcJeaVePwpLD6UetgYQfwq8DzDwbT9qb-L8AzBFdVje8tC4efElGoNJG4JR8MKmguQFSo26QI6AVj_3YNvvv3ZVQjTwwWGPRqF1wO9ScIWz5dyTKez7mJPp8fLzXBXgl09o', 'width': 5371}], 'place_id': 'ChIJg-2svac234cRfvo0xrYviO0', 'plus_code': {'compound_code': 'PJQP+3F St. Louis, MO, USA', 'global_code': '86CFPJQP+3F'}, 'rating': 4.5, 'reference': 'ChIJg-2svac234cRfvo0xrYviO0', 'scope': 'GOOGLE', 'types': ['lodging', 'point_of_interest', 'establishment'], 'user_ratings_total': 1006, 'vicinity': '10490 Natural Bridge Road, St. Louis'}\n",
      "Retrieving results for index 38 : TPA\n"
     ]
    },
    {
     "name": "stderr",
     "output_type": "stream",
     "text": [
      "C:\\Users\\Owner\\AppData\\Local\\Temp\\ipykernel_15040\\3651341654.py:36: FutureWarning: The frame.append method is deprecated and will be removed from pandas in a future version. Use pandas.concat instead.\n",
      "  hotels_df = hotels_df.append({'Hotel Name': name, 'Rating': rating, 'Address': vicinity, 'City Code': city_code, 'Place ID': place_ID}, ignore_index = True)\n",
      "C:\\Users\\Owner\\AppData\\Local\\Temp\\ipykernel_15040\\3651341654.py:36: FutureWarning: The frame.append method is deprecated and will be removed from pandas in a future version. Use pandas.concat instead.\n",
      "  hotels_df = hotels_df.append({'Hotel Name': name, 'Rating': rating, 'Address': vicinity, 'City Code': city_code, 'Place ID': place_ID}, ignore_index = True)\n",
      "C:\\Users\\Owner\\AppData\\Local\\Temp\\ipykernel_15040\\3651341654.py:36: FutureWarning: The frame.append method is deprecated and will be removed from pandas in a future version. Use pandas.concat instead.\n",
      "  hotels_df = hotels_df.append({'Hotel Name': name, 'Rating': rating, 'Address': vicinity, 'City Code': city_code, 'Place ID': place_ID}, ignore_index = True)\n",
      "C:\\Users\\Owner\\AppData\\Local\\Temp\\ipykernel_15040\\3651341654.py:36: FutureWarning: The frame.append method is deprecated and will be removed from pandas in a future version. Use pandas.concat instead.\n",
      "  hotels_df = hotels_df.append({'Hotel Name': name, 'Rating': rating, 'Address': vicinity, 'City Code': city_code, 'Place ID': place_ID}, ignore_index = True)\n",
      "C:\\Users\\Owner\\AppData\\Local\\Temp\\ipykernel_15040\\3651341654.py:36: FutureWarning: The frame.append method is deprecated and will be removed from pandas in a future version. Use pandas.concat instead.\n",
      "  hotels_df = hotels_df.append({'Hotel Name': name, 'Rating': rating, 'Address': vicinity, 'City Code': city_code, 'Place ID': place_ID}, ignore_index = True)\n"
     ]
    },
    {
     "name": "stdout",
     "output_type": "stream",
     "text": [
      "TPA\n",
      "{'business_status': 'OPERATIONAL', 'geometry': {'location': {'lat': 27.9653244, 'lng': -82.55006279999999}, 'viewport': {'northeast': {'lat': 27.9668229302915, 'lng': -82.54857146970849}, 'southwest': {'lat': 27.9641249697085, 'lng': -82.5512694302915}}}, 'icon': 'https://maps.gstatic.com/mapfiles/place_api/icons/v1/png_71/lodging-71.png', 'icon_background_color': '#909CE1', 'icon_mask_base_uri': 'https://maps.gstatic.com/mapfiles/place_api/icons/v2/hotel_pinlet', 'name': 'Grand Hyatt Tampa Bay', 'opening_hours': {'open_now': True}, 'photos': [{'height': 1920, 'html_attributions': ['<a href=\"https://maps.google.com/maps/contrib/108907126111957423604\">Grand Hyatt Tampa Bay</a>'], 'photo_reference': 'AcYSjRhr13NFLDeSi4movQb_Lq2JcM0HnLQLBnl_SpvySZL2rMEyUW9G5o41YDmZkMk6X-TcinrYiTLF6gut4FkBTdwJNy7W9By3xj62uvmb8RJmgayeJFt1VkiZm6yGOHw60YB4oFMwMaZV-LoB9kCDJfcWmLsL-eYFOxsQbXHwD0EGcdoC', 'width': 2880}], 'place_id': 'ChIJoaNvaGPCwogRa7EVtzV5nd8', 'plus_code': {'compound_code': 'XC8X+4X Tampa, FL, USA', 'global_code': '76VVXC8X+4X'}, 'rating': 4.5, 'reference': 'ChIJoaNvaGPCwogRa7EVtzV5nd8', 'scope': 'GOOGLE', 'types': ['lodging', 'point_of_interest', 'establishment'], 'user_ratings_total': 3162, 'vicinity': '2900 Bayport Drive, Tampa'}\n",
      "Retrieving results for index 39 : IAD\n"
     ]
    },
    {
     "name": "stderr",
     "output_type": "stream",
     "text": [
      "C:\\Users\\Owner\\AppData\\Local\\Temp\\ipykernel_15040\\3651341654.py:36: FutureWarning: The frame.append method is deprecated and will be removed from pandas in a future version. Use pandas.concat instead.\n",
      "  hotels_df = hotels_df.append({'Hotel Name': name, 'Rating': rating, 'Address': vicinity, 'City Code': city_code, 'Place ID': place_ID}, ignore_index = True)\n",
      "C:\\Users\\Owner\\AppData\\Local\\Temp\\ipykernel_15040\\3651341654.py:36: FutureWarning: The frame.append method is deprecated and will be removed from pandas in a future version. Use pandas.concat instead.\n",
      "  hotels_df = hotels_df.append({'Hotel Name': name, 'Rating': rating, 'Address': vicinity, 'City Code': city_code, 'Place ID': place_ID}, ignore_index = True)\n",
      "C:\\Users\\Owner\\AppData\\Local\\Temp\\ipykernel_15040\\3651341654.py:36: FutureWarning: The frame.append method is deprecated and will be removed from pandas in a future version. Use pandas.concat instead.\n",
      "  hotels_df = hotels_df.append({'Hotel Name': name, 'Rating': rating, 'Address': vicinity, 'City Code': city_code, 'Place ID': place_ID}, ignore_index = True)\n",
      "C:\\Users\\Owner\\AppData\\Local\\Temp\\ipykernel_15040\\3651341654.py:36: FutureWarning: The frame.append method is deprecated and will be removed from pandas in a future version. Use pandas.concat instead.\n",
      "  hotels_df = hotels_df.append({'Hotel Name': name, 'Rating': rating, 'Address': vicinity, 'City Code': city_code, 'Place ID': place_ID}, ignore_index = True)\n",
      "C:\\Users\\Owner\\AppData\\Local\\Temp\\ipykernel_15040\\3651341654.py:36: FutureWarning: The frame.append method is deprecated and will be removed from pandas in a future version. Use pandas.concat instead.\n",
      "  hotels_df = hotels_df.append({'Hotel Name': name, 'Rating': rating, 'Address': vicinity, 'City Code': city_code, 'Place ID': place_ID}, ignore_index = True)\n"
     ]
    },
    {
     "name": "stdout",
     "output_type": "stream",
     "text": [
      "WAS\n",
      "{'business_status': 'OPERATIONAL', 'geometry': {'location': {'lat': 38.9593087, 'lng': -77.4484205}, 'viewport': {'northeast': {'lat': 38.9606482802915, 'lng': -77.4470926197085}, 'southwest': {'lat': 38.9579503197085, 'lng': -77.44979058029152}}}, 'icon': 'https://maps.gstatic.com/mapfiles/place_api/icons/v1/png_71/lodging-71.png', 'icon_background_color': '#909CE1', 'icon_mask_base_uri': 'https://maps.gstatic.com/mapfiles/place_api/icons/v2/hotel_pinlet', 'name': 'Washington Dulles Airport Marriott', 'photos': [{'height': 1366, 'html_attributions': ['<a href=\"https://maps.google.com/maps/contrib/111315738971213012679\">Washington Dulles Airport Marriott</a>'], 'photo_reference': 'AcYSjRhf0e2pAazhsbUxBzCIs-Pa84V5H7L9lcvafHpJdyPJoAOwd0LHn0UW4lVe91ZiFXBCYCuTBvC2kvezfp5NaFsepq12qm-y4XVGdUuI4dvF-dXUGIIWtgEuFFaBb6o_hltJW_mFmveWhwVBf4aJqxgcZlT25Gdsr7H0jbikc8KBNKcI', 'width': 2048}], 'place_id': 'ChIJK87f1INHtokR8V-p_sIlSCc', 'plus_code': {'compound_code': 'XH52+PJ Dulles, VA, USA', 'global_code': '87C4XH52+PJ'}, 'rating': 4, 'reference': 'ChIJK87f1INHtokR8V-p_sIlSCc', 'scope': 'GOOGLE', 'types': ['lodging', 'point_of_interest', 'establishment'], 'user_ratings_total': 1290, 'vicinity': '45020 Aviation Drive, Dulles'}\n"
     ]
    },
    {
     "name": "stderr",
     "output_type": "stream",
     "text": [
      "C:\\Users\\Owner\\AppData\\Local\\Temp\\ipykernel_15040\\3651341654.py:36: FutureWarning: The frame.append method is deprecated and will be removed from pandas in a future version. Use pandas.concat instead.\n",
      "  hotels_df = hotels_df.append({'Hotel Name': name, 'Rating': rating, 'Address': vicinity, 'City Code': city_code, 'Place ID': place_ID}, ignore_index = True)\n",
      "C:\\Users\\Owner\\AppData\\Local\\Temp\\ipykernel_15040\\3651341654.py:36: FutureWarning: The frame.append method is deprecated and will be removed from pandas in a future version. Use pandas.concat instead.\n",
      "  hotels_df = hotels_df.append({'Hotel Name': name, 'Rating': rating, 'Address': vicinity, 'City Code': city_code, 'Place ID': place_ID}, ignore_index = True)\n",
      "C:\\Users\\Owner\\AppData\\Local\\Temp\\ipykernel_15040\\3651341654.py:36: FutureWarning: The frame.append method is deprecated and will be removed from pandas in a future version. Use pandas.concat instead.\n",
      "  hotels_df = hotels_df.append({'Hotel Name': name, 'Rating': rating, 'Address': vicinity, 'City Code': city_code, 'Place ID': place_ID}, ignore_index = True)\n",
      "C:\\Users\\Owner\\AppData\\Local\\Temp\\ipykernel_15040\\3651341654.py:36: FutureWarning: The frame.append method is deprecated and will be removed from pandas in a future version. Use pandas.concat instead.\n",
      "  hotels_df = hotels_df.append({'Hotel Name': name, 'Rating': rating, 'Address': vicinity, 'City Code': city_code, 'Place ID': place_ID}, ignore_index = True)\n",
      "C:\\Users\\Owner\\AppData\\Local\\Temp\\ipykernel_15040\\3651341654.py:36: FutureWarning: The frame.append method is deprecated and will be removed from pandas in a future version. Use pandas.concat instead.\n",
      "  hotels_df = hotels_df.append({'Hotel Name': name, 'Rating': rating, 'Address': vicinity, 'City Code': city_code, 'Place ID': place_ID}, ignore_index = True)\n"
     ]
    }
   ],
   "source": [
    "base_url = \"https://maps.googleapis.com/maps/api/place/nearbysearch/json\"\n",
    "params = {\"radius\": 30000,\n",
    "    \"type\": \"lodging\",\n",
    "    \"key\": \"your key here\"}\n",
    "i=0\n",
    "j=0\n",
    "for i in range(len(data)):\n",
    "    \n",
    "    #get coords from df\n",
    "    lat = data[i][0][\"latitudeAirport\"]\n",
    "    lng = data[i][0][\"longitudeAirport\"]\n",
    "    \n",
    "    #puts our lat and lngs into our location parameter, this is inside our loop because it is changing\n",
    "    params[\"location\"] = f\"{lat},{lng}\"\n",
    "    \n",
    "    #get results\n",
    "    print(f\"Retrieving results for index {i} : {data[i][0]['codeIataAirport']}\")\n",
    "    response = requests.get(base_url, params=params).json()\n",
    "    results = response['results']\n",
    "    #city_code = data[i][0]['codeIataCity']\n",
    "    print(data[i][0]['codeIataCity'])\n",
    "    try:\n",
    "        #printing our results\n",
    "        #print(results[0])\n",
    "        #print(f\"The 5 nearest hotels are {results[0]['name']}, {results[1]['name']}, {results[2]['name']}, {results[3]['name']}, {results[4]['name']}\")\n",
    "        for j in range(5):\n",
    "            #print(results[j]['name'])\n",
    "            #print(results[j]['rating'])\n",
    "            #print(results[j]['vicinity'])\n",
    "            name = str(results[j]['name'])\n",
    "            rating = str(results[j]['rating'])\n",
    "            vicinity = str(results[j]['vicinity'])\n",
    "            city_code = data[i][0]['codeIataCity']\n",
    "            place_ID = str(results[j]['place_id'])\n",
    "            #print(city_code)\n",
    "            hotels_df = hotels_df.append({'Hotel Name': name, 'Rating': rating, 'Address': vicinity, 'City Code': city_code, 'Place ID': place_ID}, ignore_index = True)\n",
    "    except (KeyError, IndexError):\n",
    "        #printing our result if we dont have a hotel within 5000m\n",
    "        print(\"Missing field/result... skipping.\")\n",
    "        print(\"-------------\")\n",
    "    \n",
    "    i += 1"
   ]
  },
  {
   "cell_type": "code",
   "execution_count": null,
   "id": "4a099f94",
   "metadata": {},
   "outputs": [],
   "source": [
    "#rating, vicinity"
   ]
  },
  {
   "cell_type": "code",
   "execution_count": 9,
   "id": "2d653747",
   "metadata": {},
   "outputs": [
    {
     "data": {
      "text/html": [
       "<div>\n",
       "<style scoped>\n",
       "    .dataframe tbody tr th:only-of-type {\n",
       "        vertical-align: middle;\n",
       "    }\n",
       "\n",
       "    .dataframe tbody tr th {\n",
       "        vertical-align: top;\n",
       "    }\n",
       "\n",
       "    .dataframe thead th {\n",
       "        text-align: right;\n",
       "    }\n",
       "</style>\n",
       "<table border=\"1\" class=\"dataframe\">\n",
       "  <thead>\n",
       "    <tr style=\"text-align: right;\">\n",
       "      <th></th>\n",
       "      <th>Hotel Name</th>\n",
       "      <th>Rating</th>\n",
       "      <th>Address</th>\n",
       "      <th>City Code</th>\n",
       "      <th>Place ID</th>\n",
       "    </tr>\n",
       "  </thead>\n",
       "  <tbody>\n",
       "    <tr>\n",
       "      <th>0</th>\n",
       "      <td>Holiday Inn &amp; Suites Albuquerque Airport, an I...</td>\n",
       "      <td>3.7</td>\n",
       "      <td>1501 Sunport Place Southeast, Albuquerque</td>\n",
       "      <td>ABQ</td>\n",
       "      <td>ChIJWSNsYHcMIocRAEwTzmc2p4Q</td>\n",
       "    </tr>\n",
       "    <tr>\n",
       "      <th>1</th>\n",
       "      <td>Hilton Garden Inn Albuquerque Airport</td>\n",
       "      <td>3.9</td>\n",
       "      <td>2601 Yale Boulevard Southeast, Albuquerque</td>\n",
       "      <td>ABQ</td>\n",
       "      <td>ChIJ19wg04ULIocRD295rgmyS5o</td>\n",
       "    </tr>\n",
       "    <tr>\n",
       "      <th>2</th>\n",
       "      <td>Holiday Inn Express &amp; Suites Albuquerque Airpo...</td>\n",
       "      <td>4.3</td>\n",
       "      <td>1921 Yale Boulevard Southeast, Albuquerque</td>\n",
       "      <td>ABQ</td>\n",
       "      <td>ChIJKxw9BYILIocRxWmgRIN0608</td>\n",
       "    </tr>\n",
       "    <tr>\n",
       "      <th>3</th>\n",
       "      <td>Sheraton Albuquerque Airport Hotel</td>\n",
       "      <td>4</td>\n",
       "      <td>2910 Yale Boulevard Southeast, Albuquerque</td>\n",
       "      <td>ABQ</td>\n",
       "      <td>ChIJO1Sk9IULIocROm7jBp0RNYQ</td>\n",
       "    </tr>\n",
       "    <tr>\n",
       "      <th>4</th>\n",
       "      <td>Fairfield Inn &amp; Suites by Marriott Albuquerque...</td>\n",
       "      <td>3.9</td>\n",
       "      <td>2300 Centre Avenue Southeast, Albuquerque</td>\n",
       "      <td>ABQ</td>\n",
       "      <td>ChIJ13wBU4ILIocRpT2xkae5lMY</td>\n",
       "    </tr>\n",
       "    <tr>\n",
       "      <th>...</th>\n",
       "      <td>...</td>\n",
       "      <td>...</td>\n",
       "      <td>...</td>\n",
       "      <td>...</td>\n",
       "      <td>...</td>\n",
       "    </tr>\n",
       "    <tr>\n",
       "      <th>182</th>\n",
       "      <td>Washington Dulles Airport Marriott</td>\n",
       "      <td>4</td>\n",
       "      <td>45020 Aviation Drive, Dulles</td>\n",
       "      <td>WAS</td>\n",
       "      <td>ChIJK87f1INHtokR8V-p_sIlSCc</td>\n",
       "    </tr>\n",
       "    <tr>\n",
       "      <th>183</th>\n",
       "      <td>The Westin Washington Dulles Airport</td>\n",
       "      <td>4.2</td>\n",
       "      <td>2520 Wasser Terrace, Herndon</td>\n",
       "      <td>WAS</td>\n",
       "      <td>ChIJ3ZQHkXZHtokR0exa1cY04BY</td>\n",
       "    </tr>\n",
       "    <tr>\n",
       "      <th>184</th>\n",
       "      <td>Candlewood Suites Washington-Dulles Herndon, a...</td>\n",
       "      <td>4</td>\n",
       "      <td>13845 Sunrise Valley Drive, Herndon</td>\n",
       "      <td>WAS</td>\n",
       "      <td>ChIJIY5UmHVHtokRbH1F9nyGPFY</td>\n",
       "    </tr>\n",
       "    <tr>\n",
       "      <th>185</th>\n",
       "      <td>Hyatt Regency Dulles</td>\n",
       "      <td>4.2</td>\n",
       "      <td>2300 Dulles Corner Boulevard, Herndon</td>\n",
       "      <td>WAS</td>\n",
       "      <td>ChIJQUumvYJHtokRz1JgP9NRqWg</td>\n",
       "    </tr>\n",
       "    <tr>\n",
       "      <th>186</th>\n",
       "      <td>Hyatt Place Herndon/Dulles Airport-East</td>\n",
       "      <td>4.1</td>\n",
       "      <td>13711 Sayward Boulevard, Herndon</td>\n",
       "      <td>WAS</td>\n",
       "      <td>ChIJFd4YKZ1HtokRsrQ3BOMseMM</td>\n",
       "    </tr>\n",
       "  </tbody>\n",
       "</table>\n",
       "<p>187 rows × 5 columns</p>\n",
       "</div>"
      ],
      "text/plain": [
       "                                            Hotel Name Rating  \\\n",
       "0    Holiday Inn & Suites Albuquerque Airport, an I...    3.7   \n",
       "1                Hilton Garden Inn Albuquerque Airport    3.9   \n",
       "2    Holiday Inn Express & Suites Albuquerque Airpo...    4.3   \n",
       "3                   Sheraton Albuquerque Airport Hotel      4   \n",
       "4    Fairfield Inn & Suites by Marriott Albuquerque...    3.9   \n",
       "..                                                 ...    ...   \n",
       "182                 Washington Dulles Airport Marriott      4   \n",
       "183               The Westin Washington Dulles Airport    4.2   \n",
       "184  Candlewood Suites Washington-Dulles Herndon, a...      4   \n",
       "185                               Hyatt Regency Dulles    4.2   \n",
       "186            Hyatt Place Herndon/Dulles Airport-East    4.1   \n",
       "\n",
       "                                        Address City Code  \\\n",
       "0     1501 Sunport Place Southeast, Albuquerque       ABQ   \n",
       "1    2601 Yale Boulevard Southeast, Albuquerque       ABQ   \n",
       "2    1921 Yale Boulevard Southeast, Albuquerque       ABQ   \n",
       "3    2910 Yale Boulevard Southeast, Albuquerque       ABQ   \n",
       "4     2300 Centre Avenue Southeast, Albuquerque       ABQ   \n",
       "..                                          ...       ...   \n",
       "182                45020 Aviation Drive, Dulles       WAS   \n",
       "183                2520 Wasser Terrace, Herndon       WAS   \n",
       "184         13845 Sunrise Valley Drive, Herndon       WAS   \n",
       "185       2300 Dulles Corner Boulevard, Herndon       WAS   \n",
       "186            13711 Sayward Boulevard, Herndon       WAS   \n",
       "\n",
       "                        Place ID  \n",
       "0    ChIJWSNsYHcMIocRAEwTzmc2p4Q  \n",
       "1    ChIJ19wg04ULIocRD295rgmyS5o  \n",
       "2    ChIJKxw9BYILIocRxWmgRIN0608  \n",
       "3    ChIJO1Sk9IULIocROm7jBp0RNYQ  \n",
       "4    ChIJ13wBU4ILIocRpT2xkae5lMY  \n",
       "..                           ...  \n",
       "182  ChIJK87f1INHtokR8V-p_sIlSCc  \n",
       "183  ChIJ3ZQHkXZHtokR0exa1cY04BY  \n",
       "184  ChIJIY5UmHVHtokRbH1F9nyGPFY  \n",
       "185  ChIJQUumvYJHtokRz1JgP9NRqWg  \n",
       "186  ChIJFd4YKZ1HtokRsrQ3BOMseMM  \n",
       "\n",
       "[187 rows x 5 columns]"
      ]
     },
     "execution_count": 9,
     "metadata": {},
     "output_type": "execute_result"
    }
   ],
   "source": [
    "hotels_df"
   ]
  },
  {
   "cell_type": "code",
   "execution_count": 10,
   "id": "0a588b8e",
   "metadata": {},
   "outputs": [],
   "source": [
    "hotels_df.to_csv('hotels.csv')"
   ]
  },
  {
   "cell_type": "code",
   "execution_count": null,
   "id": "7f096462",
   "metadata": {},
   "outputs": [],
   "source": []
  },
  {
   "cell_type": "code",
   "execution_count": null,
   "id": "d420d29b",
   "metadata": {},
   "outputs": [],
   "source": []
  }
 ],
 "metadata": {
  "kernelspec": {
   "display_name": "Python 3 (ipykernel)",
   "language": "python",
   "name": "python3"
  },
  "language_info": {
   "codemirror_mode": {
    "name": "ipython",
    "version": 3
   },
   "file_extension": ".py",
   "mimetype": "text/x-python",
   "name": "python",
   "nbconvert_exporter": "python",
   "pygments_lexer": "ipython3",
   "version": "3.9.12"
  }
 },
 "nbformat": 4,
 "nbformat_minor": 5
}
