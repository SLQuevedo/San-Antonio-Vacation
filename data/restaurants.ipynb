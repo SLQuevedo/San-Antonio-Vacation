{
 "cells": [
  {
   "cell_type": "code",
   "execution_count": 1,
   "id": "a8a28985",
   "metadata": {},
   "outputs": [],
   "source": [
    "# Dependencies\n",
    "import requests\n",
    "import json\n",
    "\n",
    "import requests\n",
    "import gmaps\n",
    "import os\n",
    "import pandas as pd"
   ]
  },
  {
   "cell_type": "code",
   "execution_count": 2,
   "id": "074497d8",
   "metadata": {},
   "outputs": [],
   "source": [
    "L = open(\"airports.json\")\n",
    "data = json.load(L)"
   ]
  },
  {
   "cell_type": "code",
   "execution_count": 3,
   "id": "8a2451d0",
   "metadata": {},
   "outputs": [
    {
     "name": "stdout",
     "output_type": "stream",
     "text": [
      "Empty DataFrame\n",
      "Columns: [Restaurant Name, Price Level, Rating, Address, City Code]\n",
      "Index: []\n"
     ]
    }
   ],
   "source": [
    "restaurant_df = pd.DataFrame(columns = ['Restaurant Name', 'Price Level', 'Rating', 'Address', 'City Code'])\n",
    "  \n",
    "print(restaurant_df)"
   ]
  },
  {
   "cell_type": "code",
   "execution_count": 7,
   "id": "d1717717",
   "metadata": {},
   "outputs": [
    {
     "name": "stdout",
     "output_type": "stream",
     "text": [
      "Retrieving results for index 0 : ABQ\n",
      "ABQ\n",
      "{'business_status': 'OPERATIONAL', 'geometry': {'location': {'lat': 35.0589654, 'lng': -106.6284759}, 'viewport': {'northeast': {'lat': 35.0600786302915, 'lng': -106.6271566697085}, 'southwest': {'lat': 35.0573806697085, 'lng': -106.6298546302915}}}, 'icon': 'https://maps.gstatic.com/mapfiles/place_api/icons/v1/png_71/restaurant-71.png', 'icon_background_color': '#FF9E67', 'icon_mask_base_uri': 'https://maps.gstatic.com/mapfiles/place_api/icons/v2/restaurant_pinlet', 'name': 'Buffalo Wild Wings', 'opening_hours': {'open_now': True}, 'photos': [{'height': 612, 'html_attributions': ['<a href=\"https://maps.google.com/maps/contrib/111804943110214171582\">slim pickins</a>'], 'photo_reference': 'AcYSjRhHxL7rTSGWg9ovuhPaSCo4CFPJsYIFUQ3hHOXukufn6fCekcFjI6loFXsFF5jB-9gIYzyu7gcMwhFVvYK_fd40XxxUwXtJyg0tpITEITMjIuTI9yByu_ca_1rVSxjTiMbvLTZQ62SlgiV6VdpRmXc4qk0n8StiR0yDFNT5o9VTIwjG', 'width': 1079}], 'place_id': 'ChIJIZo1cYALIocR_a6__EhqSfQ', 'plus_code': {'compound_code': '395C+HJ Albuquerque, NM, USA', 'global_code': '857M395C+HJ'}, 'price_level': 2, 'rating': 3.6, 'reference': 'ChIJIZo1cYALIocR_a6__EhqSfQ', 'scope': 'GOOGLE', 'types': ['meal_takeaway', 'bar', 'restaurant', 'food', 'point_of_interest', 'establishment'], 'user_ratings_total': 1642, 'vicinity': '1700 Towne Center Lane, Albuquerque'}\n"
     ]
    },
    {
     "name": "stderr",
     "output_type": "stream",
     "text": [
      "C:\\Users\\Owner\\AppData\\Local\\Temp\\ipykernel_7968\\3211776762.py:36: FutureWarning: The frame.append method is deprecated and will be removed from pandas in a future version. Use pandas.concat instead.\n",
      "  restaurant_df = restaurant_df.append({'Restaurant Name': name, 'Price Level': price, 'Rating': rating, 'Address': vicinity, 'City Code': city_code}, ignore_index = True)\n",
      "C:\\Users\\Owner\\AppData\\Local\\Temp\\ipykernel_7968\\3211776762.py:36: FutureWarning: The frame.append method is deprecated and will be removed from pandas in a future version. Use pandas.concat instead.\n",
      "  restaurant_df = restaurant_df.append({'Restaurant Name': name, 'Price Level': price, 'Rating': rating, 'Address': vicinity, 'City Code': city_code}, ignore_index = True)\n",
      "C:\\Users\\Owner\\AppData\\Local\\Temp\\ipykernel_7968\\3211776762.py:36: FutureWarning: The frame.append method is deprecated and will be removed from pandas in a future version. Use pandas.concat instead.\n",
      "  restaurant_df = restaurant_df.append({'Restaurant Name': name, 'Price Level': price, 'Rating': rating, 'Address': vicinity, 'City Code': city_code}, ignore_index = True)\n",
      "C:\\Users\\Owner\\AppData\\Local\\Temp\\ipykernel_7968\\3211776762.py:36: FutureWarning: The frame.append method is deprecated and will be removed from pandas in a future version. Use pandas.concat instead.\n",
      "  restaurant_df = restaurant_df.append({'Restaurant Name': name, 'Price Level': price, 'Rating': rating, 'Address': vicinity, 'City Code': city_code}, ignore_index = True)\n",
      "C:\\Users\\Owner\\AppData\\Local\\Temp\\ipykernel_7968\\3211776762.py:36: FutureWarning: The frame.append method is deprecated and will be removed from pandas in a future version. Use pandas.concat instead.\n",
      "  restaurant_df = restaurant_df.append({'Restaurant Name': name, 'Price Level': price, 'Rating': rating, 'Address': vicinity, 'City Code': city_code}, ignore_index = True)\n",
      "C:\\Users\\Owner\\AppData\\Local\\Temp\\ipykernel_7968\\3211776762.py:36: FutureWarning: The frame.append method is deprecated and will be removed from pandas in a future version. Use pandas.concat instead.\n",
      "  restaurant_df = restaurant_df.append({'Restaurant Name': name, 'Price Level': price, 'Rating': rating, 'Address': vicinity, 'City Code': city_code}, ignore_index = True)\n",
      "C:\\Users\\Owner\\AppData\\Local\\Temp\\ipykernel_7968\\3211776762.py:36: FutureWarning: The frame.append method is deprecated and will be removed from pandas in a future version. Use pandas.concat instead.\n",
      "  restaurant_df = restaurant_df.append({'Restaurant Name': name, 'Price Level': price, 'Rating': rating, 'Address': vicinity, 'City Code': city_code}, ignore_index = True)\n",
      "C:\\Users\\Owner\\AppData\\Local\\Temp\\ipykernel_7968\\3211776762.py:36: FutureWarning: The frame.append method is deprecated and will be removed from pandas in a future version. Use pandas.concat instead.\n",
      "  restaurant_df = restaurant_df.append({'Restaurant Name': name, 'Price Level': price, 'Rating': rating, 'Address': vicinity, 'City Code': city_code}, ignore_index = True)\n",
      "C:\\Users\\Owner\\AppData\\Local\\Temp\\ipykernel_7968\\3211776762.py:36: FutureWarning: The frame.append method is deprecated and will be removed from pandas in a future version. Use pandas.concat instead.\n",
      "  restaurant_df = restaurant_df.append({'Restaurant Name': name, 'Price Level': price, 'Rating': rating, 'Address': vicinity, 'City Code': city_code}, ignore_index = True)\n",
      "C:\\Users\\Owner\\AppData\\Local\\Temp\\ipykernel_7968\\3211776762.py:36: FutureWarning: The frame.append method is deprecated and will be removed from pandas in a future version. Use pandas.concat instead.\n",
      "  restaurant_df = restaurant_df.append({'Restaurant Name': name, 'Price Level': price, 'Rating': rating, 'Address': vicinity, 'City Code': city_code}, ignore_index = True)\n"
     ]
    },
    {
     "name": "stdout",
     "output_type": "stream",
     "text": [
      "Retrieving results for index 1 : ATL\n",
      "ATL\n",
      "{'business_status': 'OPERATIONAL', 'geometry': {'location': {'lat': 33.6585528, 'lng': -84.4300267}, 'viewport': {'northeast': {'lat': 33.6599382302915, 'lng': -84.4286014197085}, 'southwest': {'lat': 33.6572402697085, 'lng': -84.4312993802915}}}, 'icon': 'https://maps.gstatic.com/mapfiles/place_api/icons/v1/png_71/bar-71.png', 'icon_background_color': '#FF9E67', 'icon_mask_base_uri': 'https://maps.gstatic.com/mapfiles/place_api/icons/v2/bar_pinlet', 'name': \"Malone's Steak & Seafood\", 'opening_hours': {'open_now': True}, 'photos': [{'height': 2624, 'html_attributions': ['<a href=\"https://maps.google.com/maps/contrib/106444018652443721661\">Malone&#39;s Steak &amp; Seafood</a>'], 'photo_reference': 'AcYSjRinoaxX06CTI_nRMNucnQMp1JwXJVjA_3Xvk1puOo5ERLfmVvQUPREPY6WpajQ6VSMba9spHV2iB0eF6j1VS-mA4U54OdFVKU31SaUAshBpb1kGqQt54OSTDZnfEzg49qC94cNqYGq3F7qI7MXzy8Z3xoyV3hdr1PM1vcXK0yECSLef', 'width': 3936}], 'place_id': 'ChIJBdV4tk_99IgRhy5pa9RtNHA', 'plus_code': {'compound_code': 'MH59+CX Atlanta, GA, USA', 'global_code': '865QMH59+CX'}, 'price_level': 2, 'rating': 4, 'reference': 'ChIJBdV4tk_99IgRhy5pa9RtNHA', 'scope': 'GOOGLE', 'types': ['bar', 'restaurant', 'food', 'point_of_interest', 'establishment'], 'user_ratings_total': 5236, 'vicinity': '1258 Virginia Avenue, Atlanta'}\n"
     ]
    },
    {
     "name": "stderr",
     "output_type": "stream",
     "text": [
      "C:\\Users\\Owner\\AppData\\Local\\Temp\\ipykernel_7968\\3211776762.py:36: FutureWarning: The frame.append method is deprecated and will be removed from pandas in a future version. Use pandas.concat instead.\n",
      "  restaurant_df = restaurant_df.append({'Restaurant Name': name, 'Price Level': price, 'Rating': rating, 'Address': vicinity, 'City Code': city_code}, ignore_index = True)\n",
      "C:\\Users\\Owner\\AppData\\Local\\Temp\\ipykernel_7968\\3211776762.py:36: FutureWarning: The frame.append method is deprecated and will be removed from pandas in a future version. Use pandas.concat instead.\n",
      "  restaurant_df = restaurant_df.append({'Restaurant Name': name, 'Price Level': price, 'Rating': rating, 'Address': vicinity, 'City Code': city_code}, ignore_index = True)\n",
      "C:\\Users\\Owner\\AppData\\Local\\Temp\\ipykernel_7968\\3211776762.py:36: FutureWarning: The frame.append method is deprecated and will be removed from pandas in a future version. Use pandas.concat instead.\n",
      "  restaurant_df = restaurant_df.append({'Restaurant Name': name, 'Price Level': price, 'Rating': rating, 'Address': vicinity, 'City Code': city_code}, ignore_index = True)\n",
      "C:\\Users\\Owner\\AppData\\Local\\Temp\\ipykernel_7968\\3211776762.py:36: FutureWarning: The frame.append method is deprecated and will be removed from pandas in a future version. Use pandas.concat instead.\n",
      "  restaurant_df = restaurant_df.append({'Restaurant Name': name, 'Price Level': price, 'Rating': rating, 'Address': vicinity, 'City Code': city_code}, ignore_index = True)\n",
      "C:\\Users\\Owner\\AppData\\Local\\Temp\\ipykernel_7968\\3211776762.py:36: FutureWarning: The frame.append method is deprecated and will be removed from pandas in a future version. Use pandas.concat instead.\n",
      "  restaurant_df = restaurant_df.append({'Restaurant Name': name, 'Price Level': price, 'Rating': rating, 'Address': vicinity, 'City Code': city_code}, ignore_index = True)\n",
      "C:\\Users\\Owner\\AppData\\Local\\Temp\\ipykernel_7968\\3211776762.py:36: FutureWarning: The frame.append method is deprecated and will be removed from pandas in a future version. Use pandas.concat instead.\n",
      "  restaurant_df = restaurant_df.append({'Restaurant Name': name, 'Price Level': price, 'Rating': rating, 'Address': vicinity, 'City Code': city_code}, ignore_index = True)\n",
      "C:\\Users\\Owner\\AppData\\Local\\Temp\\ipykernel_7968\\3211776762.py:36: FutureWarning: The frame.append method is deprecated and will be removed from pandas in a future version. Use pandas.concat instead.\n",
      "  restaurant_df = restaurant_df.append({'Restaurant Name': name, 'Price Level': price, 'Rating': rating, 'Address': vicinity, 'City Code': city_code}, ignore_index = True)\n",
      "C:\\Users\\Owner\\AppData\\Local\\Temp\\ipykernel_7968\\3211776762.py:36: FutureWarning: The frame.append method is deprecated and will be removed from pandas in a future version. Use pandas.concat instead.\n",
      "  restaurant_df = restaurant_df.append({'Restaurant Name': name, 'Price Level': price, 'Rating': rating, 'Address': vicinity, 'City Code': city_code}, ignore_index = True)\n"
     ]
    },
    {
     "name": "stdout",
     "output_type": "stream",
     "text": [
      "Missing field/result... skipping.\n",
      "-------------\n",
      "Retrieving results for index 2 : BWI\n",
      "BWI\n",
      "{'business_status': 'OPERATIONAL', 'geometry': {'location': {'lat': 39.20917240000001, 'lng': -76.679982}, 'viewport': {'northeast': {'lat': 39.2106395302915, 'lng': -76.67845701970849}, 'southwest': {'lat': 39.2079415697085, 'lng': -76.68115498029151}}}, 'icon': 'https://maps.gstatic.com/mapfiles/place_api/icons/v1/png_71/restaurant-71.png', 'icon_background_color': '#FF9E67', 'icon_mask_base_uri': 'https://maps.gstatic.com/mapfiles/place_api/icons/v2/restaurant_pinlet', 'name': 'Cracker Barrel Old Country Store', 'opening_hours': {'open_now': True}, 'photos': [{'height': 608, 'html_attributions': ['<a href=\"https://maps.google.com/maps/contrib/100258799277291412240\">Cracker Barrel Old Country Store</a>'], 'photo_reference': 'AcYSjRj7iJDXn55vv6DmyBvcVQrCbCat1_a2xVltfygr57scnquVv1BuLQaXi2RlqHm2iLFavXQ74lu4BgAzDKrquaBnGN2_RjRDtw3s8JMoQwfmR2ihkQCRr_n5FRnfyhqKqp-lR53BJdbkarxjaUnVXqNkH_E0lGosXguV-y8kB9vSFgwo', 'width': 1080}], 'place_id': 'ChIJb7BFm4Pit4kRBbpBo03ec2E', 'plus_code': {'compound_code': '685C+M2 Linthicum Heights, MD, USA', 'global_code': '87F5685C+M2'}, 'price_level': 2, 'rating': 3.9, 'reference': 'ChIJb7BFm4Pit4kRBbpBo03ec2E', 'scope': 'GOOGLE', 'types': ['meal_takeaway', 'store', 'restaurant', 'food', 'point_of_interest', 'establishment'], 'user_ratings_total': 7212, 'vicinity': '1520 West Nursery Road, Linthicum Heights'}\n",
      "Retrieving results for index 3 : BOS\n"
     ]
    },
    {
     "name": "stderr",
     "output_type": "stream",
     "text": [
      "C:\\Users\\Owner\\AppData\\Local\\Temp\\ipykernel_7968\\3211776762.py:36: FutureWarning: The frame.append method is deprecated and will be removed from pandas in a future version. Use pandas.concat instead.\n",
      "  restaurant_df = restaurant_df.append({'Restaurant Name': name, 'Price Level': price, 'Rating': rating, 'Address': vicinity, 'City Code': city_code}, ignore_index = True)\n",
      "C:\\Users\\Owner\\AppData\\Local\\Temp\\ipykernel_7968\\3211776762.py:36: FutureWarning: The frame.append method is deprecated and will be removed from pandas in a future version. Use pandas.concat instead.\n",
      "  restaurant_df = restaurant_df.append({'Restaurant Name': name, 'Price Level': price, 'Rating': rating, 'Address': vicinity, 'City Code': city_code}, ignore_index = True)\n",
      "C:\\Users\\Owner\\AppData\\Local\\Temp\\ipykernel_7968\\3211776762.py:36: FutureWarning: The frame.append method is deprecated and will be removed from pandas in a future version. Use pandas.concat instead.\n",
      "  restaurant_df = restaurant_df.append({'Restaurant Name': name, 'Price Level': price, 'Rating': rating, 'Address': vicinity, 'City Code': city_code}, ignore_index = True)\n",
      "C:\\Users\\Owner\\AppData\\Local\\Temp\\ipykernel_7968\\3211776762.py:36: FutureWarning: The frame.append method is deprecated and will be removed from pandas in a future version. Use pandas.concat instead.\n",
      "  restaurant_df = restaurant_df.append({'Restaurant Name': name, 'Price Level': price, 'Rating': rating, 'Address': vicinity, 'City Code': city_code}, ignore_index = True)\n",
      "C:\\Users\\Owner\\AppData\\Local\\Temp\\ipykernel_7968\\3211776762.py:36: FutureWarning: The frame.append method is deprecated and will be removed from pandas in a future version. Use pandas.concat instead.\n",
      "  restaurant_df = restaurant_df.append({'Restaurant Name': name, 'Price Level': price, 'Rating': rating, 'Address': vicinity, 'City Code': city_code}, ignore_index = True)\n",
      "C:\\Users\\Owner\\AppData\\Local\\Temp\\ipykernel_7968\\3211776762.py:36: FutureWarning: The frame.append method is deprecated and will be removed from pandas in a future version. Use pandas.concat instead.\n",
      "  restaurant_df = restaurant_df.append({'Restaurant Name': name, 'Price Level': price, 'Rating': rating, 'Address': vicinity, 'City Code': city_code}, ignore_index = True)\n",
      "C:\\Users\\Owner\\AppData\\Local\\Temp\\ipykernel_7968\\3211776762.py:36: FutureWarning: The frame.append method is deprecated and will be removed from pandas in a future version. Use pandas.concat instead.\n",
      "  restaurant_df = restaurant_df.append({'Restaurant Name': name, 'Price Level': price, 'Rating': rating, 'Address': vicinity, 'City Code': city_code}, ignore_index = True)\n",
      "C:\\Users\\Owner\\AppData\\Local\\Temp\\ipykernel_7968\\3211776762.py:36: FutureWarning: The frame.append method is deprecated and will be removed from pandas in a future version. Use pandas.concat instead.\n",
      "  restaurant_df = restaurant_df.append({'Restaurant Name': name, 'Price Level': price, 'Rating': rating, 'Address': vicinity, 'City Code': city_code}, ignore_index = True)\n",
      "C:\\Users\\Owner\\AppData\\Local\\Temp\\ipykernel_7968\\3211776762.py:36: FutureWarning: The frame.append method is deprecated and will be removed from pandas in a future version. Use pandas.concat instead.\n",
      "  restaurant_df = restaurant_df.append({'Restaurant Name': name, 'Price Level': price, 'Rating': rating, 'Address': vicinity, 'City Code': city_code}, ignore_index = True)\n",
      "C:\\Users\\Owner\\AppData\\Local\\Temp\\ipykernel_7968\\3211776762.py:36: FutureWarning: The frame.append method is deprecated and will be removed from pandas in a future version. Use pandas.concat instead.\n",
      "  restaurant_df = restaurant_df.append({'Restaurant Name': name, 'Price Level': price, 'Rating': rating, 'Address': vicinity, 'City Code': city_code}, ignore_index = True)\n"
     ]
    },
    {
     "name": "stdout",
     "output_type": "stream",
     "text": [
      "BOS\n",
      "{'business_status': 'OPERATIONAL', 'geometry': {'location': {'lat': 42.3615213, 'lng': -71.01722579999999}, 'viewport': {'northeast': {'lat': 42.3628660302915, 'lng': -71.0159041197085}, 'southwest': {'lat': 42.36016806970851, 'lng': -71.0186020802915}}}, 'icon': 'https://maps.gstatic.com/mapfiles/place_api/icons/v1/png_71/restaurant-71.png', 'icon_background_color': '#FF9E67', 'icon_mask_base_uri': 'https://maps.gstatic.com/mapfiles/place_api/icons/v2/restaurant_pinlet', 'name': 'Legal Sea Foods', 'opening_hours': {'open_now': False}, 'photos': [{'height': 3024, 'html_attributions': ['<a href=\"https://maps.google.com/maps/contrib/108484012362067852034\">Kyle O&#39;Connor</a>'], 'photo_reference': 'AcYSjRj2_qPDAPNdrLLfnYovtzpVZWtd0zHmsK0R88xKqWtmvoKK06AWtpc9jvqW2ym_WKK5nC_zSe9r8pphfbJekJoPS5wEpHgcatgHa-k2hgBezUOWMEEXsiZZ9S-9IfRDVBL57rta4VuVv4VqQtIZQGrLyoQsxKH2GrVBO9IeLNem6ST4', 'width': 4032}], 'place_id': 'ChIJN0na1RRw44kRbX5dJq8b7aE', 'plus_code': {'compound_code': '9X6M+J4 Boston, MA, USA', 'global_code': '87JC9X6M+J4'}, 'price_level': 3, 'rating': 4.2, 'reference': 'ChIJN0na1RRw44kRbX5dJq8b7aE', 'scope': 'GOOGLE', 'types': ['bar', 'restaurant', 'point_of_interest', 'food', 'establishment'], 'user_ratings_total': 1719, 'vicinity': 'Boston Logan International Airport, Terminal A, 1 Harborside Drive, Boston'}\n",
      "Missing field/result... skipping.\n",
      "-------------\n",
      "Retrieving results for index 4 : CUN\n"
     ]
    },
    {
     "name": "stderr",
     "output_type": "stream",
     "text": [
      "C:\\Users\\Owner\\AppData\\Local\\Temp\\ipykernel_7968\\3211776762.py:36: FutureWarning: The frame.append method is deprecated and will be removed from pandas in a future version. Use pandas.concat instead.\n",
      "  restaurant_df = restaurant_df.append({'Restaurant Name': name, 'Price Level': price, 'Rating': rating, 'Address': vicinity, 'City Code': city_code}, ignore_index = True)\n",
      "C:\\Users\\Owner\\AppData\\Local\\Temp\\ipykernel_7968\\3211776762.py:36: FutureWarning: The frame.append method is deprecated and will be removed from pandas in a future version. Use pandas.concat instead.\n",
      "  restaurant_df = restaurant_df.append({'Restaurant Name': name, 'Price Level': price, 'Rating': rating, 'Address': vicinity, 'City Code': city_code}, ignore_index = True)\n",
      "C:\\Users\\Owner\\AppData\\Local\\Temp\\ipykernel_7968\\3211776762.py:36: FutureWarning: The frame.append method is deprecated and will be removed from pandas in a future version. Use pandas.concat instead.\n",
      "  restaurant_df = restaurant_df.append({'Restaurant Name': name, 'Price Level': price, 'Rating': rating, 'Address': vicinity, 'City Code': city_code}, ignore_index = True)\n",
      "C:\\Users\\Owner\\AppData\\Local\\Temp\\ipykernel_7968\\3211776762.py:36: FutureWarning: The frame.append method is deprecated and will be removed from pandas in a future version. Use pandas.concat instead.\n",
      "  restaurant_df = restaurant_df.append({'Restaurant Name': name, 'Price Level': price, 'Rating': rating, 'Address': vicinity, 'City Code': city_code}, ignore_index = True)\n",
      "C:\\Users\\Owner\\AppData\\Local\\Temp\\ipykernel_7968\\3211776762.py:36: FutureWarning: The frame.append method is deprecated and will be removed from pandas in a future version. Use pandas.concat instead.\n",
      "  restaurant_df = restaurant_df.append({'Restaurant Name': name, 'Price Level': price, 'Rating': rating, 'Address': vicinity, 'City Code': city_code}, ignore_index = True)\n",
      "C:\\Users\\Owner\\AppData\\Local\\Temp\\ipykernel_7968\\3211776762.py:36: FutureWarning: The frame.append method is deprecated and will be removed from pandas in a future version. Use pandas.concat instead.\n",
      "  restaurant_df = restaurant_df.append({'Restaurant Name': name, 'Price Level': price, 'Rating': rating, 'Address': vicinity, 'City Code': city_code}, ignore_index = True)\n",
      "C:\\Users\\Owner\\AppData\\Local\\Temp\\ipykernel_7968\\3211776762.py:36: FutureWarning: The frame.append method is deprecated and will be removed from pandas in a future version. Use pandas.concat instead.\n",
      "  restaurant_df = restaurant_df.append({'Restaurant Name': name, 'Price Level': price, 'Rating': rating, 'Address': vicinity, 'City Code': city_code}, ignore_index = True)\n"
     ]
    },
    {
     "name": "stdout",
     "output_type": "stream",
     "text": [
      "CUN\n",
      "{'business_status': 'OPERATIONAL', 'geometry': {'location': {'lat': 21.1307282, 'lng': -86.7491613}, 'viewport': {'northeast': {'lat': 21.1321182302915, 'lng': -86.74786951970849}, 'southwest': {'lat': 21.1294202697085, 'lng': -86.75056748029151}}}, 'icon': 'https://maps.gstatic.com/mapfiles/place_api/icons/v1/png_71/lodging-71.png', 'icon_background_color': '#909CE1', 'icon_mask_base_uri': 'https://maps.gstatic.com/mapfiles/place_api/icons/v2/hotel_pinlet', 'name': 'Ocean Dream Cancun by GuruHotel', 'opening_hours': {'open_now': True}, 'photos': [{'height': 2019, 'html_attributions': ['<a href=\"https://maps.google.com/maps/contrib/104465796360980893853\">Ocean Dream Cancun by GuruHotel</a>'], 'photo_reference': 'AcYSjRgm9fSgoBNUVttnjeYxWnLSL-yf8NPkZpa0_3ohMgx4lv1l3rdVFF5Dpu3mUTnX80F_wha0WqYj_zaIeiZ4lPHUPZFE4IDPA36GYpszWDtn8qkj6YtRK5Fqm7Fg9cswequto4i2VYeN7Ft2P8qqOmM1TgHutct5O0aq1w4s3Iq3MhXT', 'width': 3000}], 'place_id': 'ChIJNUTnrZgoTI8Ro5uAV5JeYpo', 'plus_code': {'compound_code': '47J2+78 Cancún, Quintana Roo, Mexico', 'global_code': '76HM47J2+78'}, 'rating': 4.1, 'reference': 'ChIJNUTnrZgoTI8Ro5uAV5JeYpo', 'scope': 'GOOGLE', 'types': ['lodging', 'restaurant', 'food', 'point_of_interest', 'establishment'], 'user_ratings_total': 1874, 'vicinity': 'Boulevard Kukulcan KM 9.5, Zona Hotelera, Cancún'}\n",
      "Missing field/result... skipping.\n",
      "-------------\n",
      "Retrieving results for index 5 : CLT\n",
      "CLT\n",
      "{'business_status': 'OPERATIONAL', 'geometry': {'location': {'lat': 35.2264451, 'lng': -80.8946184}, 'viewport': {'northeast': {'lat': 35.2278670802915, 'lng': -80.89285201970849}, 'southwest': {'lat': 35.2251691197085, 'lng': -80.89554998029149}}}, 'icon': 'https://maps.gstatic.com/mapfiles/place_api/icons/v1/png_71/restaurant-71.png', 'icon_background_color': '#FF9E67', 'icon_mask_base_uri': 'https://maps.gstatic.com/mapfiles/place_api/icons/v2/restaurant_pinlet', 'name': 'Subway', 'opening_hours': {'open_now': False}, 'photos': [{'height': 4160, 'html_attributions': ['<a href=\"https://maps.google.com/maps/contrib/109600119563796877603\">Alex Rivas</a>'], 'photo_reference': 'AcYSjRi0FaN-eYEqWwAfkWB7_zf0PUXCcheBaH2BYcfh5litfaff5vW2tPHvxiYVex7comVazHayxFIpXnIXp6O_Z2DfuKqgoDriCiar-HRl21CK4XwLHAqXiENPGvpaXOVMM_9ETidr6GkqC_Gkfqwq1ysiQng_ejV-I-kVJoN0fdPLysT-', 'width': 3120}], 'place_id': 'ChIJCf8yb_6hVogRW9e4xDrhQmU', 'plus_code': {'compound_code': '64G4+H5 Charlotte, NC, USA', 'global_code': '867X64G4+H5'}, 'price_level': 1, 'rating': 3, 'reference': 'ChIJCf8yb_6hVogRW9e4xDrhQmU', 'scope': 'GOOGLE', 'types': ['meal_takeaway', 'restaurant', 'food', 'point_of_interest', 'establishment'], 'user_ratings_total': 69, 'vicinity': '3240 Wilkinson Boulevard, Charlotte'}\n"
     ]
    },
    {
     "name": "stderr",
     "output_type": "stream",
     "text": [
      "C:\\Users\\Owner\\AppData\\Local\\Temp\\ipykernel_7968\\3211776762.py:36: FutureWarning: The frame.append method is deprecated and will be removed from pandas in a future version. Use pandas.concat instead.\n",
      "  restaurant_df = restaurant_df.append({'Restaurant Name': name, 'Price Level': price, 'Rating': rating, 'Address': vicinity, 'City Code': city_code}, ignore_index = True)\n",
      "C:\\Users\\Owner\\AppData\\Local\\Temp\\ipykernel_7968\\3211776762.py:36: FutureWarning: The frame.append method is deprecated and will be removed from pandas in a future version. Use pandas.concat instead.\n",
      "  restaurant_df = restaurant_df.append({'Restaurant Name': name, 'Price Level': price, 'Rating': rating, 'Address': vicinity, 'City Code': city_code}, ignore_index = True)\n",
      "C:\\Users\\Owner\\AppData\\Local\\Temp\\ipykernel_7968\\3211776762.py:36: FutureWarning: The frame.append method is deprecated and will be removed from pandas in a future version. Use pandas.concat instead.\n",
      "  restaurant_df = restaurant_df.append({'Restaurant Name': name, 'Price Level': price, 'Rating': rating, 'Address': vicinity, 'City Code': city_code}, ignore_index = True)\n",
      "C:\\Users\\Owner\\AppData\\Local\\Temp\\ipykernel_7968\\3211776762.py:36: FutureWarning: The frame.append method is deprecated and will be removed from pandas in a future version. Use pandas.concat instead.\n",
      "  restaurant_df = restaurant_df.append({'Restaurant Name': name, 'Price Level': price, 'Rating': rating, 'Address': vicinity, 'City Code': city_code}, ignore_index = True)\n",
      "C:\\Users\\Owner\\AppData\\Local\\Temp\\ipykernel_7968\\3211776762.py:36: FutureWarning: The frame.append method is deprecated and will be removed from pandas in a future version. Use pandas.concat instead.\n",
      "  restaurant_df = restaurant_df.append({'Restaurant Name': name, 'Price Level': price, 'Rating': rating, 'Address': vicinity, 'City Code': city_code}, ignore_index = True)\n",
      "C:\\Users\\Owner\\AppData\\Local\\Temp\\ipykernel_7968\\3211776762.py:36: FutureWarning: The frame.append method is deprecated and will be removed from pandas in a future version. Use pandas.concat instead.\n",
      "  restaurant_df = restaurant_df.append({'Restaurant Name': name, 'Price Level': price, 'Rating': rating, 'Address': vicinity, 'City Code': city_code}, ignore_index = True)\n",
      "C:\\Users\\Owner\\AppData\\Local\\Temp\\ipykernel_7968\\3211776762.py:36: FutureWarning: The frame.append method is deprecated and will be removed from pandas in a future version. Use pandas.concat instead.\n",
      "  restaurant_df = restaurant_df.append({'Restaurant Name': name, 'Price Level': price, 'Rating': rating, 'Address': vicinity, 'City Code': city_code}, ignore_index = True)\n",
      "C:\\Users\\Owner\\AppData\\Local\\Temp\\ipykernel_7968\\3211776762.py:36: FutureWarning: The frame.append method is deprecated and will be removed from pandas in a future version. Use pandas.concat instead.\n",
      "  restaurant_df = restaurant_df.append({'Restaurant Name': name, 'Price Level': price, 'Rating': rating, 'Address': vicinity, 'City Code': city_code}, ignore_index = True)\n",
      "C:\\Users\\Owner\\AppData\\Local\\Temp\\ipykernel_7968\\3211776762.py:36: FutureWarning: The frame.append method is deprecated and will be removed from pandas in a future version. Use pandas.concat instead.\n",
      "  restaurant_df = restaurant_df.append({'Restaurant Name': name, 'Price Level': price, 'Rating': rating, 'Address': vicinity, 'City Code': city_code}, ignore_index = True)\n",
      "C:\\Users\\Owner\\AppData\\Local\\Temp\\ipykernel_7968\\3211776762.py:36: FutureWarning: The frame.append method is deprecated and will be removed from pandas in a future version. Use pandas.concat instead.\n",
      "  restaurant_df = restaurant_df.append({'Restaurant Name': name, 'Price Level': price, 'Rating': rating, 'Address': vicinity, 'City Code': city_code}, ignore_index = True)\n"
     ]
    },
    {
     "name": "stdout",
     "output_type": "stream",
     "text": [
      "Retrieving results for index 6 : ORD\n",
      "CHI\n",
      "{'business_status': 'OPERATIONAL', 'geometry': {'location': {'lat': 41.9751235, 'lng': -87.867975}, 'viewport': {'northeast': {'lat': 41.97753660000001, 'lng': -87.86415450000001}, 'southwest': {'lat': 41.972629, 'lng': -87.86974129999999}}}, 'icon': 'https://maps.gstatic.com/mapfiles/place_api/icons/v1/png_71/shopping-71.png', 'icon_background_color': '#4B96F3', 'icon_mask_base_uri': 'https://maps.gstatic.com/mapfiles/place_api/icons/v2/shopping_pinlet', 'name': 'Fashion Outlets of Chicago', 'opening_hours': {'open_now': False}, 'photos': [{'height': 2112, 'html_attributions': ['<a href=\"https://maps.google.com/maps/contrib/108000745920178118547\">Jason Cadell</a>'], 'photo_reference': 'AcYSjRhfaQPR8WErW9wjJXNP9jmGqALByiVfCBNEhg_2jXe6WLtlFI-f8RaJW8TJYNbA1fjowil37pwJ1ZQRNsdfusigQjJK5RxpkE-KC0k2M060RQclvwIs6qSG_g_jzlPi7LDp0HvHBbsqE_XHtDNMmmAw7YRxZ60MIqptfCszGPIDUZtC', 'width': 4608}], 'place_id': 'ChIJrWSxn-O1D4gR1h3BYiybs0k', 'plus_code': {'compound_code': 'X4GJ+2R Rosemont, IL, USA', 'global_code': '86HJX4GJ+2R'}, 'rating': 4.4, 'reference': 'ChIJrWSxn-O1D4gR1h3BYiybs0k', 'scope': 'GOOGLE', 'types': ['shopping_mall', 'clothing_store', 'store', 'restaurant', 'food', 'point_of_interest', 'establishment'], 'user_ratings_total': 16916, 'vicinity': '5220 Fashion Outlets Way, Rosemont'}\n",
      "Missing field/result... skipping.\n",
      "-------------\n",
      "Retrieving results for index 7 : MDW\n",
      "CHI\n",
      "{'business_status': 'OPERATIONAL', 'geometry': {'location': {'lat': 41.7729945, 'lng': -87.7436938}, 'viewport': {'northeast': {'lat': 41.7742191802915, 'lng': -87.7423550697085}, 'southwest': {'lat': 41.7715212197085, 'lng': -87.7450530302915}}}, 'icon': 'https://maps.gstatic.com/mapfiles/place_api/icons/v1/png_71/lodging-71.png', 'icon_background_color': '#909CE1', 'icon_mask_base_uri': 'https://maps.gstatic.com/mapfiles/place_api/icons/v2/hotel_pinlet', 'name': 'Courtyard by Marriott Chicago Midway Airport', 'photos': [{'height': 1366, 'html_attributions': ['<a href=\"https://maps.google.com/maps/contrib/105746262777377486849\">Courtyard by Marriott Chicago Midway Airport</a>'], 'photo_reference': 'AcYSjRhsfuGMqi6Slw0wQI0t-rg10UBC-ZvdBQoak3biS1QmtNLrRhshiCeRf13i9nEz-nkO-H8PpFSGrIB0yVlbx1NXC7_ctGmAmBUsDSPVH7Lq96neHzc9LYp0rbuoLftfcIDgHM9EaPxPOixxMhxodgGhSEVr81w9qema86FIY8xbJpWF', 'width': 2048}], 'place_id': 'ChIJxyoZ4fswDogRR1wA8Y4oOWU', 'plus_code': {'compound_code': 'Q7F4+5G Bedford Park, IL, USA', 'global_code': '86HJQ7F4+5G'}, 'rating': 4.1, 'reference': 'ChIJxyoZ4fswDogRR1wA8Y4oOWU', 'scope': 'GOOGLE', 'types': ['parking', 'bar', 'lodging', 'restaurant', 'food', 'point_of_interest', 'establishment'], 'user_ratings_total': 960, 'vicinity': '6610 South Cicero Avenue, Bedford Park'}\n",
      "Missing field/result... skipping.\n",
      "-------------\n",
      "Retrieving results for index 8 : COS\n",
      "COS\n",
      "{'business_status': 'OPERATIONAL', 'geometry': {'location': {'lat': 38.8239721, 'lng': -104.7275536}, 'viewport': {'northeast': {'lat': 38.8252713802915, 'lng': -104.7261452197085}, 'southwest': {'lat': 38.8225734197085, 'lng': -104.7288431802915}}}, 'icon': 'https://maps.gstatic.com/mapfiles/place_api/icons/v1/png_71/restaurant-71.png', 'icon_background_color': '#FF9E67', 'icon_mask_base_uri': 'https://maps.gstatic.com/mapfiles/place_api/icons/v2/restaurant_pinlet', 'name': \"McDonald's\", 'opening_hours': {'open_now': True}, 'photos': [{'height': 3024, 'html_attributions': ['<a href=\"https://maps.google.com/maps/contrib/116950423767103048501\">Darren Stritzinger</a>'], 'photo_reference': 'AcYSjRjT0e3ll8RKpMgWyfvO8EuFiviuq0Ydxl-MYTBSj4wMiwa9Z1HE0DxqHJ-M6MwtWdJjApouFI9TfjBEayyQG41mBSWgVMz4rpgCsbwZ6KH92itqawH9mk4j5HcnvhQcKAlWvozGQlwjtj-usPINHSVqUH5IoaRWGRh5AEyY4EJytVIc', 'width': 4032}], 'place_id': 'ChIJm0JM3exGE4cRptuAvB0AC4c', 'plus_code': {'compound_code': 'R7FC+HX Colorado Springs, CO, USA', 'global_code': '85CQR7FC+HX'}, 'price_level': 1, 'rating': 3.4, 'reference': 'ChIJm0JM3exGE4cRptuAvB0AC4c', 'scope': 'GOOGLE', 'types': ['cafe', 'restaurant', 'store', 'food', 'point_of_interest', 'establishment'], 'user_ratings_total': 1505, 'vicinity': '535 Airport Creek Point, Colorado Springs'}\n",
      "Retrieving results for index 9 : DAL\n"
     ]
    },
    {
     "name": "stderr",
     "output_type": "stream",
     "text": [
      "C:\\Users\\Owner\\AppData\\Local\\Temp\\ipykernel_7968\\3211776762.py:36: FutureWarning: The frame.append method is deprecated and will be removed from pandas in a future version. Use pandas.concat instead.\n",
      "  restaurant_df = restaurant_df.append({'Restaurant Name': name, 'Price Level': price, 'Rating': rating, 'Address': vicinity, 'City Code': city_code}, ignore_index = True)\n",
      "C:\\Users\\Owner\\AppData\\Local\\Temp\\ipykernel_7968\\3211776762.py:36: FutureWarning: The frame.append method is deprecated and will be removed from pandas in a future version. Use pandas.concat instead.\n",
      "  restaurant_df = restaurant_df.append({'Restaurant Name': name, 'Price Level': price, 'Rating': rating, 'Address': vicinity, 'City Code': city_code}, ignore_index = True)\n",
      "C:\\Users\\Owner\\AppData\\Local\\Temp\\ipykernel_7968\\3211776762.py:36: FutureWarning: The frame.append method is deprecated and will be removed from pandas in a future version. Use pandas.concat instead.\n",
      "  restaurant_df = restaurant_df.append({'Restaurant Name': name, 'Price Level': price, 'Rating': rating, 'Address': vicinity, 'City Code': city_code}, ignore_index = True)\n",
      "C:\\Users\\Owner\\AppData\\Local\\Temp\\ipykernel_7968\\3211776762.py:36: FutureWarning: The frame.append method is deprecated and will be removed from pandas in a future version. Use pandas.concat instead.\n",
      "  restaurant_df = restaurant_df.append({'Restaurant Name': name, 'Price Level': price, 'Rating': rating, 'Address': vicinity, 'City Code': city_code}, ignore_index = True)\n",
      "C:\\Users\\Owner\\AppData\\Local\\Temp\\ipykernel_7968\\3211776762.py:36: FutureWarning: The frame.append method is deprecated and will be removed from pandas in a future version. Use pandas.concat instead.\n",
      "  restaurant_df = restaurant_df.append({'Restaurant Name': name, 'Price Level': price, 'Rating': rating, 'Address': vicinity, 'City Code': city_code}, ignore_index = True)\n",
      "C:\\Users\\Owner\\AppData\\Local\\Temp\\ipykernel_7968\\3211776762.py:36: FutureWarning: The frame.append method is deprecated and will be removed from pandas in a future version. Use pandas.concat instead.\n",
      "  restaurant_df = restaurant_df.append({'Restaurant Name': name, 'Price Level': price, 'Rating': rating, 'Address': vicinity, 'City Code': city_code}, ignore_index = True)\n",
      "C:\\Users\\Owner\\AppData\\Local\\Temp\\ipykernel_7968\\3211776762.py:36: FutureWarning: The frame.append method is deprecated and will be removed from pandas in a future version. Use pandas.concat instead.\n",
      "  restaurant_df = restaurant_df.append({'Restaurant Name': name, 'Price Level': price, 'Rating': rating, 'Address': vicinity, 'City Code': city_code}, ignore_index = True)\n",
      "C:\\Users\\Owner\\AppData\\Local\\Temp\\ipykernel_7968\\3211776762.py:36: FutureWarning: The frame.append method is deprecated and will be removed from pandas in a future version. Use pandas.concat instead.\n",
      "  restaurant_df = restaurant_df.append({'Restaurant Name': name, 'Price Level': price, 'Rating': rating, 'Address': vicinity, 'City Code': city_code}, ignore_index = True)\n",
      "C:\\Users\\Owner\\AppData\\Local\\Temp\\ipykernel_7968\\3211776762.py:36: FutureWarning: The frame.append method is deprecated and will be removed from pandas in a future version. Use pandas.concat instead.\n",
      "  restaurant_df = restaurant_df.append({'Restaurant Name': name, 'Price Level': price, 'Rating': rating, 'Address': vicinity, 'City Code': city_code}, ignore_index = True)\n",
      "C:\\Users\\Owner\\AppData\\Local\\Temp\\ipykernel_7968\\3211776762.py:36: FutureWarning: The frame.append method is deprecated and will be removed from pandas in a future version. Use pandas.concat instead.\n",
      "  restaurant_df = restaurant_df.append({'Restaurant Name': name, 'Price Level': price, 'Rating': rating, 'Address': vicinity, 'City Code': city_code}, ignore_index = True)\n"
     ]
    },
    {
     "name": "stdout",
     "output_type": "stream",
     "text": [
      "DFW\n",
      "{'business_status': 'OPERATIONAL', 'geometry': {'location': {'lat': 32.851409, 'lng': -96.8240466}, 'viewport': {'northeast': {'lat': 32.8526766302915, 'lng': -96.8226914197085}, 'southwest': {'lat': 32.84997866970851, 'lng': -96.82538938029151}}}, 'icon': 'https://maps.gstatic.com/mapfiles/place_api/icons/v1/png_71/restaurant-71.png', 'icon_background_color': '#FF9E67', 'icon_mask_base_uri': 'https://maps.gstatic.com/mapfiles/place_api/icons/v2/restaurant_pinlet', 'name': 'Neighborhood Services', 'opening_hours': {'open_now': True}, 'photos': [{'height': 1356, 'html_attributions': ['<a href=\"https://maps.google.com/maps/contrib/104111246635874032234\">ZAGAT</a>'], 'photo_reference': 'AcYSjRjPksRh9j-QbvqaXR927wpZFe6cQQ3Jw1J0ylpsrNXpikU761XxaDzWj0jtwocR0cS_f50q5htpTJQsPnH_vbahwqfPbGfglDBnwBNdaEWc1nAGMHKzRj49yfGkSwzOlhIbh-nhwHHoDwVsKwJImJUCOyNQ8l4njPMJ6C-9gUmJdMo4', 'width': 2048}], 'place_id': 'ChIJ2xz9MWOeToYRVyuD9egQxvw', 'plus_code': {'compound_code': 'V52G+H9 Dallas, TX, USA', 'global_code': '8645V52G+H9'}, 'price_level': 3, 'rating': 4.5, 'reference': 'ChIJ2xz9MWOeToYRVyuD9egQxvw', 'scope': 'GOOGLE', 'types': ['bar', 'restaurant', 'food', 'point_of_interest', 'establishment'], 'user_ratings_total': 409, 'vicinity': '5027 West Lovers Lane, Dallas'}\n",
      "Missing field/result... skipping.\n",
      "-------------\n",
      "Retrieving results for index 10 : DFW\n"
     ]
    },
    {
     "name": "stderr",
     "output_type": "stream",
     "text": [
      "C:\\Users\\Owner\\AppData\\Local\\Temp\\ipykernel_7968\\3211776762.py:36: FutureWarning: The frame.append method is deprecated and will be removed from pandas in a future version. Use pandas.concat instead.\n",
      "  restaurant_df = restaurant_df.append({'Restaurant Name': name, 'Price Level': price, 'Rating': rating, 'Address': vicinity, 'City Code': city_code}, ignore_index = True)\n"
     ]
    },
    {
     "name": "stdout",
     "output_type": "stream",
     "text": [
      "DFW\n",
      "{'business_status': 'OPERATIONAL', 'geometry': {'location': {'lat': 32.9235014, 'lng': -97.0197936}, 'viewport': {'northeast': {'lat': 32.9248528302915, 'lng': -97.0185555697085}, 'southwest': {'lat': 32.9221548697085, 'lng': -97.0212535302915}}}, 'icon': 'https://maps.gstatic.com/mapfiles/place_api/icons/v1/png_71/restaurant-71.png', 'icon_background_color': '#FF9E67', 'icon_mask_base_uri': 'https://maps.gstatic.com/mapfiles/place_api/icons/v2/restaurant_pinlet', 'name': 'Subway', 'opening_hours': {'open_now': True}, 'photos': [{'height': 3024, 'html_attributions': ['<a href=\"https://maps.google.com/maps/contrib/116895348239680855265\">Brien Baru</a>'], 'photo_reference': 'AcYSjRi9UrDLF2eVc5lpXu3h6XPM2XdP3UnTAIQFURdBUmcHZSEDK-A1xyZPomb8KZYfcq7oQaDKxcC2zaLhVNVZCKDRPSpG3iWjq63lVPd4z5ab0bqkA3xZ1Y1ryQZYAhASqvFrOBSDF4LIZmXWBIIt5aGdv38kSShlQrzL45pX0aQ2XHx6', 'width': 4032}], 'place_id': 'ChIJBQZGWjIqTIYRvlM_cyhSC_g', 'plus_code': {'compound_code': 'WXFJ+C3 Irving, TX, USA', 'global_code': '8644WXFJ+C3'}, 'price_level': 1, 'rating': 3.7, 'reference': 'ChIJBQZGWjIqTIYRvlM_cyhSC_g', 'scope': 'GOOGLE', 'types': ['meal_takeaway', 'restaurant', 'food', 'point_of_interest', 'establishment'], 'user_ratings_total': 224, 'vicinity': '8445 Freeport Parkway, Irving'}\n",
      "Missing field/result... skipping.\n",
      "-------------\n",
      "Retrieving results for index 11 : DEN\n",
      "DEN\n",
      "{'business_status': 'OPERATIONAL', 'geometry': {'location': {'lat': 39.85787129999999, 'lng': -104.6675108}, 'viewport': {'northeast': {'lat': 39.85924458029149, 'lng': -104.6662030697085}, 'southwest': {'lat': 39.8565466197085, 'lng': -104.6689010302915}}}, 'icon': 'https://maps.gstatic.com/mapfiles/place_api/icons/v1/png_71/restaurant-71.png', 'icon_background_color': '#FF9E67', 'icon_mask_base_uri': 'https://maps.gstatic.com/mapfiles/place_api/icons/v2/restaurant_pinlet', 'name': 'Sweetwater Mountain Taphouse', 'opening_hours': {'open_now': True}, 'photos': [{'height': 1669, 'html_attributions': ['<a href=\"https://maps.google.com/maps/contrib/103957332874939930779\">Zach Amar Stritzinger</a>'], 'photo_reference': 'AcYSjRjCWTNVo6WQ4po564iBrnbG0XydnU7nG3JB_FwWJlFqczQXI9LZHBryrJgE-BOfgDfjA6gcntSwak3TwTHv3CsGm7H3E4UXSz9Hb5tgewsbL9rqtGvSLdjQiLyAogWYY6zLzfa27lANsJRF7PsXVWzF7GyrNrtzytaloIFnyCPOjZst', 'width': 2224}], 'place_id': 'ChIJCagCP_tnbIcRj5yPSwnrFio', 'plus_code': {'compound_code': 'V85J+4X Denver, CO, USA', 'global_code': '85FQV85J+4X'}, 'price_level': 2, 'rating': 4, 'reference': 'ChIJCagCP_tnbIcRj5yPSwnrFio', 'scope': 'GOOGLE', 'types': ['restaurant', 'food', 'point_of_interest', 'establishment'], 'user_ratings_total': 1708, 'vicinity': '8500 Peña Boulevard, Denver'}\n"
     ]
    },
    {
     "name": "stderr",
     "output_type": "stream",
     "text": [
      "C:\\Users\\Owner\\AppData\\Local\\Temp\\ipykernel_7968\\3211776762.py:36: FutureWarning: The frame.append method is deprecated and will be removed from pandas in a future version. Use pandas.concat instead.\n",
      "  restaurant_df = restaurant_df.append({'Restaurant Name': name, 'Price Level': price, 'Rating': rating, 'Address': vicinity, 'City Code': city_code}, ignore_index = True)\n",
      "C:\\Users\\Owner\\AppData\\Local\\Temp\\ipykernel_7968\\3211776762.py:36: FutureWarning: The frame.append method is deprecated and will be removed from pandas in a future version. Use pandas.concat instead.\n",
      "  restaurant_df = restaurant_df.append({'Restaurant Name': name, 'Price Level': price, 'Rating': rating, 'Address': vicinity, 'City Code': city_code}, ignore_index = True)\n",
      "C:\\Users\\Owner\\AppData\\Local\\Temp\\ipykernel_7968\\3211776762.py:36: FutureWarning: The frame.append method is deprecated and will be removed from pandas in a future version. Use pandas.concat instead.\n",
      "  restaurant_df = restaurant_df.append({'Restaurant Name': name, 'Price Level': price, 'Rating': rating, 'Address': vicinity, 'City Code': city_code}, ignore_index = True)\n",
      "C:\\Users\\Owner\\AppData\\Local\\Temp\\ipykernel_7968\\3211776762.py:36: FutureWarning: The frame.append method is deprecated and will be removed from pandas in a future version. Use pandas.concat instead.\n",
      "  restaurant_df = restaurant_df.append({'Restaurant Name': name, 'Price Level': price, 'Rating': rating, 'Address': vicinity, 'City Code': city_code}, ignore_index = True)\n",
      "C:\\Users\\Owner\\AppData\\Local\\Temp\\ipykernel_7968\\3211776762.py:36: FutureWarning: The frame.append method is deprecated and will be removed from pandas in a future version. Use pandas.concat instead.\n",
      "  restaurant_df = restaurant_df.append({'Restaurant Name': name, 'Price Level': price, 'Rating': rating, 'Address': vicinity, 'City Code': city_code}, ignore_index = True)\n",
      "C:\\Users\\Owner\\AppData\\Local\\Temp\\ipykernel_7968\\3211776762.py:36: FutureWarning: The frame.append method is deprecated and will be removed from pandas in a future version. Use pandas.concat instead.\n",
      "  restaurant_df = restaurant_df.append({'Restaurant Name': name, 'Price Level': price, 'Rating': rating, 'Address': vicinity, 'City Code': city_code}, ignore_index = True)\n",
      "C:\\Users\\Owner\\AppData\\Local\\Temp\\ipykernel_7968\\3211776762.py:36: FutureWarning: The frame.append method is deprecated and will be removed from pandas in a future version. Use pandas.concat instead.\n",
      "  restaurant_df = restaurant_df.append({'Restaurant Name': name, 'Price Level': price, 'Rating': rating, 'Address': vicinity, 'City Code': city_code}, ignore_index = True)\n",
      "C:\\Users\\Owner\\AppData\\Local\\Temp\\ipykernel_7968\\3211776762.py:36: FutureWarning: The frame.append method is deprecated and will be removed from pandas in a future version. Use pandas.concat instead.\n",
      "  restaurant_df = restaurant_df.append({'Restaurant Name': name, 'Price Level': price, 'Rating': rating, 'Address': vicinity, 'City Code': city_code}, ignore_index = True)\n",
      "C:\\Users\\Owner\\AppData\\Local\\Temp\\ipykernel_7968\\3211776762.py:36: FutureWarning: The frame.append method is deprecated and will be removed from pandas in a future version. Use pandas.concat instead.\n",
      "  restaurant_df = restaurant_df.append({'Restaurant Name': name, 'Price Level': price, 'Rating': rating, 'Address': vicinity, 'City Code': city_code}, ignore_index = True)\n"
     ]
    },
    {
     "name": "stdout",
     "output_type": "stream",
     "text": [
      "Missing field/result... skipping.\n",
      "-------------\n",
      "Retrieving results for index 12 : DTW\n",
      "DTT\n",
      "{'business_status': 'OPERATIONAL', 'geometry': {'location': {'lat': 42.22491229999999, 'lng': -83.3491263}, 'viewport': {'northeast': {'lat': 42.22611063029149, 'lng': -83.34737201970849}, 'southwest': {'lat': 42.22341266970849, 'lng': -83.35006998029151}}}, 'icon': 'https://maps.gstatic.com/mapfiles/place_api/icons/v1/png_71/restaurant-71.png', 'icon_background_color': '#FF9E67', 'icon_mask_base_uri': 'https://maps.gstatic.com/mapfiles/place_api/icons/v2/restaurant_pinlet', 'name': 'National Coney Island', 'opening_hours': {'open_now': False}, 'photos': [{'height': 3024, 'html_attributions': ['<a href=\"https://maps.google.com/maps/contrib/108314497537795232836\">Jeff Stilwell</a>'], 'photo_reference': 'AcYSjRgXBiuQ4BCsZsYEYHjrnUrCSFVG54uqmgZrAvTVXyQmRmiTFzCWe1i1T6LcACsUJzQeQs2pCqfWYxhSgnvzwIJJPtMaz2alBnPN0dCndx7W4nTd5S-rFMriaCmH99QpzUV75DvuC7n7Xk6dNwCapya0nMBWZ2D67CGaxfKgz5v22yh9', 'width': 4032}], 'place_id': 'ChIJbWIrkDlPO4gR_sSgoPM-LlA', 'plus_code': {'compound_code': '6MF2+X8 Detroit, MI, USA', 'global_code': '86JR6MF2+X8'}, 'price_level': 1, 'rating': 3.7, 'reference': 'ChIJbWIrkDlPO4gR_sSgoPM-LlA', 'scope': 'GOOGLE', 'types': ['bar', 'restaurant', 'food', 'point_of_interest', 'establishment'], 'user_ratings_total': 402, 'vicinity': 'North Terminal, across from Gates D15/D16, West G Rogell Drive, Detroit'}\n"
     ]
    },
    {
     "name": "stderr",
     "output_type": "stream",
     "text": [
      "C:\\Users\\Owner\\AppData\\Local\\Temp\\ipykernel_7968\\3211776762.py:36: FutureWarning: The frame.append method is deprecated and will be removed from pandas in a future version. Use pandas.concat instead.\n",
      "  restaurant_df = restaurant_df.append({'Restaurant Name': name, 'Price Level': price, 'Rating': rating, 'Address': vicinity, 'City Code': city_code}, ignore_index = True)\n",
      "C:\\Users\\Owner\\AppData\\Local\\Temp\\ipykernel_7968\\3211776762.py:36: FutureWarning: The frame.append method is deprecated and will be removed from pandas in a future version. Use pandas.concat instead.\n",
      "  restaurant_df = restaurant_df.append({'Restaurant Name': name, 'Price Level': price, 'Rating': rating, 'Address': vicinity, 'City Code': city_code}, ignore_index = True)\n",
      "C:\\Users\\Owner\\AppData\\Local\\Temp\\ipykernel_7968\\3211776762.py:36: FutureWarning: The frame.append method is deprecated and will be removed from pandas in a future version. Use pandas.concat instead.\n",
      "  restaurant_df = restaurant_df.append({'Restaurant Name': name, 'Price Level': price, 'Rating': rating, 'Address': vicinity, 'City Code': city_code}, ignore_index = True)\n"
     ]
    },
    {
     "name": "stdout",
     "output_type": "stream",
     "text": [
      "Missing field/result... skipping.\n",
      "-------------\n",
      "Retrieving results for index 13 : ELP\n",
      "ELP\n",
      "{'business_status': 'CLOSED_TEMPORARILY', 'geometry': {'location': {'lat': 31.7758377, 'lng': -106.3790632}, 'viewport': {'northeast': {'lat': 31.7772104302915, 'lng': -106.3775389197085}, 'southwest': {'lat': 31.7745124697085, 'lng': -106.3802368802915}}}, 'icon': 'https://maps.gstatic.com/mapfiles/place_api/icons/v1/png_71/restaurant-71.png', 'icon_background_color': '#FF9E67', 'icon_mask_base_uri': 'https://maps.gstatic.com/mapfiles/place_api/icons/v2/restaurant_pinlet', 'name': 'Subway', 'permanently_closed': True, 'photos': [{'height': 2048, 'html_attributions': ['<a href=\"https://maps.google.com/maps/contrib/110195572863328491291\">Kathy E. Sanati</a>'], 'photo_reference': 'AcYSjRj9mLCVSg7qpN2Vd4sm-jHbqh1uIjQHgdTDc6qs8aE72WOlyLyEFAtDonGjqVsIarl9vCkno7o2KEJtRRePhdg1RBUxU0Um9gSKW8iv2a5TstttcKLE4RQvaKYaLhe9HNNBVk5w8Q2vvqCI69B5fV8VnVLILAYLwoXCGShjPiPPxAia', 'width': 1536}], 'place_id': 'ChIJX2Zhjxxb54YRKbax-U-ovHc', 'plus_code': {'compound_code': 'QJGC+89 El Paso, TX, USA', 'global_code': '853MQJGC+89'}, 'price_level': 1, 'rating': 4.2, 'reference': 'ChIJX2Zhjxxb54YRKbax-U-ovHc', 'scope': 'GOOGLE', 'types': ['meal_takeaway', 'restaurant', 'food', 'point_of_interest', 'establishment'], 'user_ratings_total': 45, 'vicinity': 'Cielo Vista Mall, Unit M06, El Paso'}\n"
     ]
    },
    {
     "name": "stderr",
     "output_type": "stream",
     "text": [
      "C:\\Users\\Owner\\AppData\\Local\\Temp\\ipykernel_7968\\3211776762.py:36: FutureWarning: The frame.append method is deprecated and will be removed from pandas in a future version. Use pandas.concat instead.\n",
      "  restaurant_df = restaurant_df.append({'Restaurant Name': name, 'Price Level': price, 'Rating': rating, 'Address': vicinity, 'City Code': city_code}, ignore_index = True)\n",
      "C:\\Users\\Owner\\AppData\\Local\\Temp\\ipykernel_7968\\3211776762.py:36: FutureWarning: The frame.append method is deprecated and will be removed from pandas in a future version. Use pandas.concat instead.\n",
      "  restaurant_df = restaurant_df.append({'Restaurant Name': name, 'Price Level': price, 'Rating': rating, 'Address': vicinity, 'City Code': city_code}, ignore_index = True)\n",
      "C:\\Users\\Owner\\AppData\\Local\\Temp\\ipykernel_7968\\3211776762.py:36: FutureWarning: The frame.append method is deprecated and will be removed from pandas in a future version. Use pandas.concat instead.\n",
      "  restaurant_df = restaurant_df.append({'Restaurant Name': name, 'Price Level': price, 'Rating': rating, 'Address': vicinity, 'City Code': city_code}, ignore_index = True)\n",
      "C:\\Users\\Owner\\AppData\\Local\\Temp\\ipykernel_7968\\3211776762.py:36: FutureWarning: The frame.append method is deprecated and will be removed from pandas in a future version. Use pandas.concat instead.\n",
      "  restaurant_df = restaurant_df.append({'Restaurant Name': name, 'Price Level': price, 'Rating': rating, 'Address': vicinity, 'City Code': city_code}, ignore_index = True)\n",
      "C:\\Users\\Owner\\AppData\\Local\\Temp\\ipykernel_7968\\3211776762.py:36: FutureWarning: The frame.append method is deprecated and will be removed from pandas in a future version. Use pandas.concat instead.\n",
      "  restaurant_df = restaurant_df.append({'Restaurant Name': name, 'Price Level': price, 'Rating': rating, 'Address': vicinity, 'City Code': city_code}, ignore_index = True)\n",
      "C:\\Users\\Owner\\AppData\\Local\\Temp\\ipykernel_7968\\3211776762.py:36: FutureWarning: The frame.append method is deprecated and will be removed from pandas in a future version. Use pandas.concat instead.\n",
      "  restaurant_df = restaurant_df.append({'Restaurant Name': name, 'Price Level': price, 'Rating': rating, 'Address': vicinity, 'City Code': city_code}, ignore_index = True)\n",
      "C:\\Users\\Owner\\AppData\\Local\\Temp\\ipykernel_7968\\3211776762.py:36: FutureWarning: The frame.append method is deprecated and will be removed from pandas in a future version. Use pandas.concat instead.\n",
      "  restaurant_df = restaurant_df.append({'Restaurant Name': name, 'Price Level': price, 'Rating': rating, 'Address': vicinity, 'City Code': city_code}, ignore_index = True)\n",
      "C:\\Users\\Owner\\AppData\\Local\\Temp\\ipykernel_7968\\3211776762.py:36: FutureWarning: The frame.append method is deprecated and will be removed from pandas in a future version. Use pandas.concat instead.\n",
      "  restaurant_df = restaurant_df.append({'Restaurant Name': name, 'Price Level': price, 'Rating': rating, 'Address': vicinity, 'City Code': city_code}, ignore_index = True)\n",
      "C:\\Users\\Owner\\AppData\\Local\\Temp\\ipykernel_7968\\3211776762.py:36: FutureWarning: The frame.append method is deprecated and will be removed from pandas in a future version. Use pandas.concat instead.\n",
      "  restaurant_df = restaurant_df.append({'Restaurant Name': name, 'Price Level': price, 'Rating': rating, 'Address': vicinity, 'City Code': city_code}, ignore_index = True)\n",
      "C:\\Users\\Owner\\AppData\\Local\\Temp\\ipykernel_7968\\3211776762.py:36: FutureWarning: The frame.append method is deprecated and will be removed from pandas in a future version. Use pandas.concat instead.\n",
      "  restaurant_df = restaurant_df.append({'Restaurant Name': name, 'Price Level': price, 'Rating': rating, 'Address': vicinity, 'City Code': city_code}, ignore_index = True)\n"
     ]
    },
    {
     "name": "stdout",
     "output_type": "stream",
     "text": [
      "Retrieving results for index 14 : GDL\n",
      "GDL\n",
      "{'business_status': 'OPERATIONAL', 'geometry': {'location': {'lat': 20.5253301, 'lng': -103.3018145}, 'viewport': {'northeast': {'lat': 20.5270255302915, 'lng': -103.3002822197085}, 'southwest': {'lat': 20.5243275697085, 'lng': -103.3029801802915}}}, 'icon': 'https://maps.gstatic.com/mapfiles/place_api/icons/v1/png_71/restaurant-71.png', 'icon_background_color': '#FF9E67', 'icon_mask_base_uri': 'https://maps.gstatic.com/mapfiles/place_api/icons/v2/restaurant_pinlet', 'name': \"Chili's\", 'opening_hours': {'open_now': True}, 'photos': [{'height': 3024, 'html_attributions': ['<a href=\"https://maps.google.com/maps/contrib/117529413579059412622\">Gastõn R. Cervantes</a>'], 'photo_reference': 'AcYSjRg5FFeweM1t9zmhjVAbtqtaOOPmN16SK4ZFrA2DMHUdWeWAYztZCLIWK4-jD9LTvId3trhA8l7JtBR7_K-f6IR9_rsqfsuUQROThKMB1KvToNTIiXR6jlshP9chVvx0TPKSpPAOnwCxSBnBHMtIGEM7CqWIvNRC9Ef_iHNnrFJ5MPXu', 'width': 4032}], 'place_id': 'ChIJOS6USChNL4QRe3wJVmNxlts', 'plus_code': {'compound_code': 'GMGX+47 Zapote del Vallle, Jalisco, Mexico', 'global_code': '75GRGMGX+47'}, 'price_level': 2, 'rating': 3.9, 'reference': 'ChIJOS6USChNL4QRe3wJVmNxlts', 'scope': 'GOOGLE', 'types': ['restaurant', 'food', 'point_of_interest', 'establishment'], 'user_ratings_total': 1742, 'vicinity': 'Local 2 Carretera, Guadalajara - Chapala'}\n"
     ]
    },
    {
     "name": "stderr",
     "output_type": "stream",
     "text": [
      "C:\\Users\\Owner\\AppData\\Local\\Temp\\ipykernel_7968\\3211776762.py:36: FutureWarning: The frame.append method is deprecated and will be removed from pandas in a future version. Use pandas.concat instead.\n",
      "  restaurant_df = restaurant_df.append({'Restaurant Name': name, 'Price Level': price, 'Rating': rating, 'Address': vicinity, 'City Code': city_code}, ignore_index = True)\n",
      "C:\\Users\\Owner\\AppData\\Local\\Temp\\ipykernel_7968\\3211776762.py:36: FutureWarning: The frame.append method is deprecated and will be removed from pandas in a future version. Use pandas.concat instead.\n",
      "  restaurant_df = restaurant_df.append({'Restaurant Name': name, 'Price Level': price, 'Rating': rating, 'Address': vicinity, 'City Code': city_code}, ignore_index = True)\n"
     ]
    },
    {
     "name": "stdout",
     "output_type": "stream",
     "text": [
      "Missing field/result... skipping.\n",
      "-------------\n",
      "Retrieving results for index 15 : IAH\n",
      "HOU\n",
      "{'business_status': 'OPERATIONAL', 'geometry': {'location': {'lat': 29.98474969999999, 'lng': -95.3002351}, 'viewport': {'northeast': {'lat': 29.9860009802915, 'lng': -95.2989937697085}, 'southwest': {'lat': 29.9833030197085, 'lng': -95.30169173029151}}}, 'icon': 'https://maps.gstatic.com/mapfiles/place_api/icons/v1/png_71/restaurant-71.png', 'icon_background_color': '#FF9E67', 'icon_mask_base_uri': 'https://maps.gstatic.com/mapfiles/place_api/icons/v2/restaurant_pinlet', 'name': 'Dolphin Restaurant', 'opening_hours': {'open_now': True}, 'photos': [{'height': 932, 'html_attributions': ['<a href=\"https://maps.google.com/maps/contrib/106897760673751162921\">Dolphin Restaurant</a>'], 'photo_reference': 'AcYSjRhgq0Ml5V5_B2EFX8RwYDhKZvCqs-qxoLhRTYqVmQilX6IoD68sordmfOeQnfRE-Ajejuyqf92XCxHSFMdHZghfOKaud8P9XC9Cuoon-7_7oW9b7SJ42K_r-RN0zF5UlJYvR3OiUeLkjhhfbylqLSYYwDpvcvUoZLnAr6Bqbt0ngBmk', 'width': 3375}], 'place_id': 'ChIJx6erZ42zQIYRxBn316ChwOI', 'plus_code': {'compound_code': 'XMMX+VW Humble, TX, USA', 'global_code': '76X6XMMX+VW'}, 'rating': 4.2, 'reference': 'ChIJx6erZ42zQIYRxBn316ChwOI', 'scope': 'GOOGLE', 'types': ['restaurant', 'food', 'point_of_interest', 'establishment'], 'user_ratings_total': 108, 'vicinity': '6115 Will Clayton Parkway, Humble'}\n",
      "Missing field/result... skipping.\n",
      "-------------\n",
      "Retrieving results for index 16 : HOU\n",
      "HOU\n",
      "{'business_status': 'OPERATIONAL', 'geometry': {'location': {'lat': 29.6543985, 'lng': -95.27648529999999}, 'viewport': {'northeast': {'lat': 29.6557837302915, 'lng': -95.2752453697085}, 'southwest': {'lat': 29.6530857697085, 'lng': -95.2779433302915}}}, 'icon': 'https://maps.gstatic.com/mapfiles/place_api/icons/v1/png_71/restaurant-71.png', 'icon_background_color': '#FF9E67', 'icon_mask_base_uri': 'https://maps.gstatic.com/mapfiles/place_api/icons/v2/restaurant_pinlet', 'name': 'Pappas Bar-B-Q', 'opening_hours': {'open_now': False}, 'photos': [{'height': 3024, 'html_attributions': ['<a href=\"https://maps.google.com/maps/contrib/114434223616130412426\">E Zomb</a>'], 'photo_reference': 'AcYSjRh6ESFONa5q0pnoj96NDl3tNM9wq1l2LmRXGymCkgW_S72AIpurgLDtGnmfu2Y50jpHm6UX2v4K1dXuKfCNiVToI2wS_qkhj7b6UuxACV25UNa3wEfweZoj6y7YlQ0h4sXUWvjcta_apDBHDNg4jug2TwWbJlP3CL-68o3lk8KUp8iU', 'width': 4032}], 'place_id': 'ChIJ7QeonE2WQIYR8ozWz8k0q8M', 'plus_code': {'compound_code': 'MP3F+QC Greater Hobby Area, Houston, TX, USA', 'global_code': '76X6MP3F+QC'}, 'price_level': 2, 'rating': 4.1, 'reference': 'ChIJ7QeonE2WQIYR8ozWz8k0q8M', 'scope': 'GOOGLE', 'types': ['restaurant', 'food', 'point_of_interest', 'establishment'], 'user_ratings_total': 519, 'vicinity': '7800 Airport Boulevard Space T - 01, Houston'}\n",
      "Missing field/result... skipping.\n",
      "-------------\n",
      "Retrieving results for index 17 : MCI\n"
     ]
    },
    {
     "name": "stderr",
     "output_type": "stream",
     "text": [
      "C:\\Users\\Owner\\AppData\\Local\\Temp\\ipykernel_7968\\3211776762.py:36: FutureWarning: The frame.append method is deprecated and will be removed from pandas in a future version. Use pandas.concat instead.\n",
      "  restaurant_df = restaurant_df.append({'Restaurant Name': name, 'Price Level': price, 'Rating': rating, 'Address': vicinity, 'City Code': city_code}, ignore_index = True)\n",
      "C:\\Users\\Owner\\AppData\\Local\\Temp\\ipykernel_7968\\3211776762.py:36: FutureWarning: The frame.append method is deprecated and will be removed from pandas in a future version. Use pandas.concat instead.\n",
      "  restaurant_df = restaurant_df.append({'Restaurant Name': name, 'Price Level': price, 'Rating': rating, 'Address': vicinity, 'City Code': city_code}, ignore_index = True)\n",
      "C:\\Users\\Owner\\AppData\\Local\\Temp\\ipykernel_7968\\3211776762.py:36: FutureWarning: The frame.append method is deprecated and will be removed from pandas in a future version. Use pandas.concat instead.\n",
      "  restaurant_df = restaurant_df.append({'Restaurant Name': name, 'Price Level': price, 'Rating': rating, 'Address': vicinity, 'City Code': city_code}, ignore_index = True)\n"
     ]
    },
    {
     "name": "stdout",
     "output_type": "stream",
     "text": [
      "MKC\n",
      "{'business_status': 'OPERATIONAL', 'geometry': {'location': {'lat': 39.2924825, 'lng': -94.6820485}, 'viewport': {'northeast': {'lat': 39.2939328302915, 'lng': -94.68084311970848}, 'southwest': {'lat': 39.2912348697085, 'lng': -94.68354108029149}}}, 'icon': 'https://maps.gstatic.com/mapfiles/place_api/icons/v1/png_71/lodging-71.png', 'icon_background_color': '#909CE1', 'icon_mask_base_uri': 'https://maps.gstatic.com/mapfiles/place_api/icons/v2/hotel_pinlet', 'name': 'Comfort Inn Kansas City / Airport', 'photos': [{'height': 1795, 'html_attributions': ['<a href=\"https://maps.google.com/maps/contrib/116153564359477814846\">David Simon</a>'], 'photo_reference': 'AcYSjRjPd2JppQkB7fsUpVJeXiw4acxc4aiFb3N5xNyonwwQ8ZZX6yZozW9RsMZS0-IlfWuXnGNb6blD2nc00I87JKwX1AMtOMJEABuEqfAOlx0dxZPneYrVmy1NlpB9wBKn-k3W-sUH9O1ieMen9yKKf_TjkaGfHSmkp3Pne0nOyanRNNj0', 'width': 3872}], 'place_id': 'ChIJzcviUIlewIcRSI-ZZVfZ1Hk', 'plus_code': {'compound_code': '78R9+X5 Kansas City, MO, USA', 'global_code': '86F778R9+X5'}, 'rating': 3.9, 'reference': 'ChIJzcviUIlewIcRSI-ZZVfZ1Hk', 'scope': 'GOOGLE', 'types': ['restaurant', 'food', 'lodging', 'point_of_interest', 'establishment'], 'user_ratings_total': 438, 'vicinity': '11100 North Ambassador Drive, Kansas City'}\n",
      "Missing field/result... skipping.\n",
      "-------------\n",
      "Retrieving results for index 18 : LAS\n",
      "LAS\n",
      "{'business_status': 'OPERATIONAL', 'geometry': {'location': {'lat': 36.10766600000001, 'lng': -115.151348}, 'viewport': {'northeast': {'lat': 36.10909823029151, 'lng': -115.1499674197085}, 'southwest': {'lat': 36.10640026970851, 'lng': -115.1526653802915}}}, 'icon': 'https://maps.gstatic.com/mapfiles/place_api/icons/v1/png_71/restaurant-71.png', 'icon_background_color': '#FF9E67', 'icon_mask_base_uri': 'https://maps.gstatic.com/mapfiles/place_api/icons/v2/restaurant_pinlet', 'name': 'Hofbrauhaus - Las Vegas Nevada', 'opening_hours': {'open_now': True}, 'photos': [{'height': 6656, 'html_attributions': ['<a href=\"https://maps.google.com/maps/contrib/102631850669418313560\">Hofbrauhaus - Las Vegas Nevada</a>'], 'photo_reference': 'AcYSjRgbNnGqaTsYAdTVzxi1zd5LrHlelFnxjcuc_tTF55eIENKMhWWmf5IhuGKXKjCtbZml8m0E3O8SVnNyo7iVEp-VQZTH-rVIHvSwG27Gj6z2eKDE8Hl_21UrJCW5jCWgNROzGEnjoA_5qUQ4XqJQ8LNhDa831EIjf0O_7po-6MS9g40s', 'width': 13312}], 'place_id': 'ChIJcUf7yVLEyIARfMKFu_oijC0', 'plus_code': {'compound_code': '4R5X+3F Las Vegas, NV, USA', 'global_code': '85864R5X+3F'}, 'price_level': 2, 'rating': 4.4, 'reference': 'ChIJcUf7yVLEyIARfMKFu_oijC0', 'scope': 'GOOGLE', 'types': ['bar', 'restaurant', 'food', 'point_of_interest', 'establishment'], 'user_ratings_total': 2649, 'vicinity': '4510 Paradise Road, Las Vegas'}\n"
     ]
    },
    {
     "name": "stderr",
     "output_type": "stream",
     "text": [
      "C:\\Users\\Owner\\AppData\\Local\\Temp\\ipykernel_7968\\3211776762.py:36: FutureWarning: The frame.append method is deprecated and will be removed from pandas in a future version. Use pandas.concat instead.\n",
      "  restaurant_df = restaurant_df.append({'Restaurant Name': name, 'Price Level': price, 'Rating': rating, 'Address': vicinity, 'City Code': city_code}, ignore_index = True)\n",
      "C:\\Users\\Owner\\AppData\\Local\\Temp\\ipykernel_7968\\3211776762.py:36: FutureWarning: The frame.append method is deprecated and will be removed from pandas in a future version. Use pandas.concat instead.\n",
      "  restaurant_df = restaurant_df.append({'Restaurant Name': name, 'Price Level': price, 'Rating': rating, 'Address': vicinity, 'City Code': city_code}, ignore_index = True)\n",
      "C:\\Users\\Owner\\AppData\\Local\\Temp\\ipykernel_7968\\3211776762.py:36: FutureWarning: The frame.append method is deprecated and will be removed from pandas in a future version. Use pandas.concat instead.\n",
      "  restaurant_df = restaurant_df.append({'Restaurant Name': name, 'Price Level': price, 'Rating': rating, 'Address': vicinity, 'City Code': city_code}, ignore_index = True)\n",
      "C:\\Users\\Owner\\AppData\\Local\\Temp\\ipykernel_7968\\3211776762.py:36: FutureWarning: The frame.append method is deprecated and will be removed from pandas in a future version. Use pandas.concat instead.\n",
      "  restaurant_df = restaurant_df.append({'Restaurant Name': name, 'Price Level': price, 'Rating': rating, 'Address': vicinity, 'City Code': city_code}, ignore_index = True)\n",
      "C:\\Users\\Owner\\AppData\\Local\\Temp\\ipykernel_7968\\3211776762.py:36: FutureWarning: The frame.append method is deprecated and will be removed from pandas in a future version. Use pandas.concat instead.\n",
      "  restaurant_df = restaurant_df.append({'Restaurant Name': name, 'Price Level': price, 'Rating': rating, 'Address': vicinity, 'City Code': city_code}, ignore_index = True)\n"
     ]
    },
    {
     "name": "stdout",
     "output_type": "stream",
     "text": [
      "Missing field/result... skipping.\n",
      "-------------\n",
      "Retrieving results for index 19 : BJX\n",
      "BJX\n",
      "{'business_status': 'OPERATIONAL', 'geometry': {'location': {'lat': 21.0829281, 'lng': -101.4728504}, 'viewport': {'northeast': {'lat': 21.08431418029151, 'lng': -101.4712696197085}, 'southwest': {'lat': 21.0816162197085, 'lng': -101.4739675802915}}}, 'icon': 'https://maps.gstatic.com/mapfiles/place_api/icons/v1/png_71/lodging-71.png', 'icon_background_color': '#909CE1', 'icon_mask_base_uri': 'https://maps.gstatic.com/mapfiles/place_api/icons/v2/hotel_pinlet', 'name': 'Hotel Mision Comanjilla', 'opening_hours': {'open_now': True}, 'photos': [{'height': 1536, 'html_attributions': ['<a href=\"https://maps.google.com/maps/contrib/104602469797158341930\">Hotel Misión Comanjilla</a>'], 'photo_reference': 'AcYSjRiIsyqYjCLqXTItr4a8xoHElkW5gToF5_nIUg-mniwFATJQoQVxl4HEonGzUccvbkqqzOK28eYMQ_zzFnGLgkqC8-rjTRgZgS0FoxYsBauUmiwk0SDVxdBU0J4yt_iP3cu5UTGuR_UAM6mGlFcoGNWl35EfAmlASAEpVwMfY7mYBS4B', 'width': 2048}], 'place_id': 'ChIJiQd-TIKYK4QR0COom6F-ZU4', 'plus_code': {'compound_code': '3GMG+5V San Francisco, Gto., Mexico', 'global_code': '75HW3GMG+5V'}, 'rating': 4.2, 'reference': 'ChIJiQd-TIKYK4QR0COom6F-ZU4', 'scope': 'GOOGLE', 'types': ['lodging', 'restaurant', 'food', 'spa', 'point_of_interest', 'establishment'], 'user_ratings_total': 2858, 'vicinity': 'Congregación Comanjilla, S/N Rancho Agua Caliente, Silao'}\n",
      "Missing field/result... skipping.\n",
      "-------------\n",
      "Retrieving results for index 20 : LAX\n",
      "LAX\n",
      "{'business_status': 'OPERATIONAL', 'geometry': {'location': {'lat': 33.9537066, 'lng': -118.3967839}, 'viewport': {'northeast': {'lat': 33.9549871802915, 'lng': -118.3955647697085}, 'southwest': {'lat': 33.9522892197085, 'lng': -118.3982627302915}}}, 'icon': 'https://maps.gstatic.com/mapfiles/place_api/icons/v1/png_71/restaurant-71.png', 'icon_background_color': '#FF9E67', 'icon_mask_base_uri': 'https://maps.gstatic.com/mapfiles/place_api/icons/v2/restaurant_pinlet', 'name': 'In-N-Out Burger', 'opening_hours': {'open_now': True}, 'photos': [{'height': 752, 'html_attributions': ['<a href=\"https://maps.google.com/maps/contrib/100872796869920924496\">In-N-Out Burger</a>'], 'photo_reference': 'AcYSjRgdE-dEKSr4Xs2krsz0DrHOnnyZ6PS-7pRrpBBSjQmMjMroc4cRYk1A19brYXjBARbBM8U-uA18oCsAJ5aWWToz-nM4hxN-LWnIvbTotpDi166Ux5k3VZbU10FhtQ0hRup6zVUtoO6pXse85zFTxKxmHm1QsSAKF6gsCh5ERKPw9Dbb', 'width': 1337}], 'place_id': 'ChIJ5xHkkNOwwoARfN2_9LZe2qc', 'plus_code': {'compound_code': 'XJ33+F7 Los Angeles, CA, USA', 'global_code': '8553XJ33+F7'}, 'price_level': 1, 'rating': 4.6, 'reference': 'ChIJ5xHkkNOwwoARfN2_9LZe2qc', 'scope': 'GOOGLE', 'types': ['restaurant', 'food', 'point_of_interest', 'establishment'], 'user_ratings_total': 14935, 'vicinity': '9149 South Sepulveda Boulevard, Los Angeles'}\n",
      "Missing field/result... skipping.\n",
      "-------------\n",
      "Retrieving results for index 21 : MEX\n"
     ]
    },
    {
     "name": "stderr",
     "output_type": "stream",
     "text": [
      "C:\\Users\\Owner\\AppData\\Local\\Temp\\ipykernel_7968\\3211776762.py:36: FutureWarning: The frame.append method is deprecated and will be removed from pandas in a future version. Use pandas.concat instead.\n",
      "  restaurant_df = restaurant_df.append({'Restaurant Name': name, 'Price Level': price, 'Rating': rating, 'Address': vicinity, 'City Code': city_code}, ignore_index = True)\n",
      "C:\\Users\\Owner\\AppData\\Local\\Temp\\ipykernel_7968\\3211776762.py:36: FutureWarning: The frame.append method is deprecated and will be removed from pandas in a future version. Use pandas.concat instead.\n",
      "  restaurant_df = restaurant_df.append({'Restaurant Name': name, 'Price Level': price, 'Rating': rating, 'Address': vicinity, 'City Code': city_code}, ignore_index = True)\n",
      "C:\\Users\\Owner\\AppData\\Local\\Temp\\ipykernel_7968\\3211776762.py:36: FutureWarning: The frame.append method is deprecated and will be removed from pandas in a future version. Use pandas.concat instead.\n",
      "  restaurant_df = restaurant_df.append({'Restaurant Name': name, 'Price Level': price, 'Rating': rating, 'Address': vicinity, 'City Code': city_code}, ignore_index = True)\n"
     ]
    },
    {
     "name": "stdout",
     "output_type": "stream",
     "text": [
      "MEX\n",
      "{'business_status': 'OPERATIONAL', 'geometry': {'location': {'lat': 19.4242124, 'lng': -99.0945809}, 'viewport': {'northeast': {'lat': 19.4252494302915, 'lng': -99.0930725697085}, 'southwest': {'lat': 19.42255146970849, 'lng': -99.0957705302915}}}, 'icon': 'https://maps.gstatic.com/mapfiles/place_api/icons/v1/png_71/restaurant-71.png', 'icon_background_color': '#FF9E67', 'icon_mask_base_uri': 'https://maps.gstatic.com/mapfiles/place_api/icons/v2/restaurant_pinlet', 'name': 'Sanborns Aéropuerto', 'opening_hours': {'open_now': True}, 'photos': [{'height': 1080, 'html_attributions': ['<a href=\"https://maps.google.com/maps/contrib/106912243479290561224\">Nayely Armenta</a>'], 'photo_reference': 'AcYSjRh0Pl05xPbRRoZruhZSbpE3kRsrVVZrrxDgJLkE9RWtoGfm9qX0HwooCa6H6TU3KMBz8yipe_c7Mf37BhGtMLb_vMhsQgLE0eXEd7G01FUjIRuFU_MCP4bIJ0U5dJ0CTaZYCGgssVU4fRDUtTeSKM3rRxSri4xtM9GUIwyblGKmJW6P', 'width': 1920}], 'place_id': 'ChIJY9Rc0x380YUR_ECoHHuETkQ', 'plus_code': {'compound_code': 'CWF4+M5 Mexico City, CDMX, Mexico', 'global_code': '76F2CWF4+M5'}, 'price_level': 2, 'rating': 4.2, 'reference': 'ChIJY9Rc0x380YUR_ECoHHuETkQ', 'scope': 'GOOGLE', 'types': ['restaurant', 'bakery', 'bar', 'store', 'food', 'point_of_interest', 'establishment'], 'user_ratings_total': 8594, 'vicinity': 'Boulevard Puerto Aéreo 123, Moctezuma 2da Sección, Ciudad de México'}\n",
      "Missing field/result... skipping.\n",
      "-------------\n",
      "Retrieving results for index 22 : MIA\n"
     ]
    },
    {
     "name": "stderr",
     "output_type": "stream",
     "text": [
      "C:\\Users\\Owner\\AppData\\Local\\Temp\\ipykernel_7968\\3211776762.py:36: FutureWarning: The frame.append method is deprecated and will be removed from pandas in a future version. Use pandas.concat instead.\n",
      "  restaurant_df = restaurant_df.append({'Restaurant Name': name, 'Price Level': price, 'Rating': rating, 'Address': vicinity, 'City Code': city_code}, ignore_index = True)\n",
      "C:\\Users\\Owner\\AppData\\Local\\Temp\\ipykernel_7968\\3211776762.py:36: FutureWarning: The frame.append method is deprecated and will be removed from pandas in a future version. Use pandas.concat instead.\n",
      "  restaurant_df = restaurant_df.append({'Restaurant Name': name, 'Price Level': price, 'Rating': rating, 'Address': vicinity, 'City Code': city_code}, ignore_index = True)\n"
     ]
    },
    {
     "name": "stdout",
     "output_type": "stream",
     "text": [
      "MIA\n",
      "{'business_status': 'OPERATIONAL', 'geometry': {'location': {'lat': 25.78506729999999, 'lng': -80.2875746}, 'viewport': {'northeast': {'lat': 25.7863647802915, 'lng': -80.28592851970849}, 'southwest': {'lat': 25.78366681970849, 'lng': -80.2886264802915}}}, 'icon': 'https://maps.gstatic.com/mapfiles/place_api/icons/v1/png_71/restaurant-71.png', 'icon_background_color': '#FF9E67', 'icon_mask_base_uri': 'https://maps.gstatic.com/mapfiles/place_api/icons/v2/restaurant_pinlet', 'name': '94th Aero Squadron Restaurant', 'opening_hours': {'open_now': True}, 'photos': [{'height': 3456, 'html_attributions': ['<a href=\"https://maps.google.com/maps/contrib/101261460834581666909\">94th Aero Squadron Restaurant</a>'], 'photo_reference': 'AcYSjRjDxR3WIcaxj6DKXoF30YPNMNqqvOGVKb5jA5DSzF5pv9Ft0dxTOPkG2A84Wy1tsoy9AGEPoVuEiAQ_YMri_SZRIB5-OKZgTWILrINNUgNjXXcMwlZMWS0mNJ7WzuTOMl-MJzehJr700fFb5Ub22wNw6F6dOME12WsNzSuh1pB1lflO', 'width': 5184}], 'place_id': 'ChIJ5cFNMd252YgRHPzCPF8oYeo', 'plus_code': {'compound_code': 'QPP6+2X Miami, FL, USA', 'global_code': '76QXQPP6+2X'}, 'price_level': 2, 'rating': 4.4, 'reference': 'ChIJ5cFNMd252YgRHPzCPF8oYeo', 'scope': 'GOOGLE', 'types': ['restaurant', 'food', 'point_of_interest', 'establishment'], 'user_ratings_total': 3508, 'vicinity': '1395 Northwest 57th Avenue, Miami'}\n",
      "Missing field/result... skipping.\n",
      "-------------\n",
      "Retrieving results for index 23 : MSP\n"
     ]
    },
    {
     "name": "stderr",
     "output_type": "stream",
     "text": [
      "C:\\Users\\Owner\\AppData\\Local\\Temp\\ipykernel_7968\\3211776762.py:36: FutureWarning: The frame.append method is deprecated and will be removed from pandas in a future version. Use pandas.concat instead.\n",
      "  restaurant_df = restaurant_df.append({'Restaurant Name': name, 'Price Level': price, 'Rating': rating, 'Address': vicinity, 'City Code': city_code}, ignore_index = True)\n",
      "C:\\Users\\Owner\\AppData\\Local\\Temp\\ipykernel_7968\\3211776762.py:36: FutureWarning: The frame.append method is deprecated and will be removed from pandas in a future version. Use pandas.concat instead.\n",
      "  restaurant_df = restaurant_df.append({'Restaurant Name': name, 'Price Level': price, 'Rating': rating, 'Address': vicinity, 'City Code': city_code}, ignore_index = True)\n",
      "C:\\Users\\Owner\\AppData\\Local\\Temp\\ipykernel_7968\\3211776762.py:36: FutureWarning: The frame.append method is deprecated and will be removed from pandas in a future version. Use pandas.concat instead.\n",
      "  restaurant_df = restaurant_df.append({'Restaurant Name': name, 'Price Level': price, 'Rating': rating, 'Address': vicinity, 'City Code': city_code}, ignore_index = True)\n",
      "C:\\Users\\Owner\\AppData\\Local\\Temp\\ipykernel_7968\\3211776762.py:36: FutureWarning: The frame.append method is deprecated and will be removed from pandas in a future version. Use pandas.concat instead.\n",
      "  restaurant_df = restaurant_df.append({'Restaurant Name': name, 'Price Level': price, 'Rating': rating, 'Address': vicinity, 'City Code': city_code}, ignore_index = True)\n"
     ]
    },
    {
     "name": "stdout",
     "output_type": "stream",
     "text": [
      "MSP\n",
      "{'business_status': 'OPERATIONAL', 'geometry': {'location': {'lat': 44.8973551, 'lng': -93.17681569999999}, 'viewport': {'northeast': {'lat': 44.89871563029149, 'lng': -93.1755877697085}, 'southwest': {'lat': 44.89601766970849, 'lng': -93.1782857302915}}}, 'icon': 'https://maps.gstatic.com/mapfiles/place_api/icons/v1/png_71/restaurant-71.png', 'icon_background_color': '#FF9E67', 'icon_mask_base_uri': 'https://maps.gstatic.com/mapfiles/place_api/icons/v2/restaurant_pinlet', 'name': 'Buca di Beppo Italian Restaurant', 'opening_hours': {'open_now': True}, 'photos': [{'height': 3000, 'html_attributions': ['<a href=\"https://maps.google.com/maps/contrib/111890390250762804550\">Peter Lamm</a>'], 'photo_reference': 'AcYSjRjBavR1ZX636HXIWq9-VFoitSXDWYyw8U7fPluReYgkhNiWDqYKCAgJcLtLEKyz6MrJ7VGJdiWt1WyOMdaEJ7nSEt6-KVzdEaIcOV4hphW_B99BxchWsI9D3yRJFW5wAcYJcy75O1wWEm0pZBMk95cZJ1-WS3KOG2g9rIRDBWwg7To1', 'width': 4000}], 'place_id': 'ChIJr6v2yeEr9ocRqPCZvwRlMDU', 'plus_code': {'compound_code': 'VRWF+W7 Saint Paul, MN, USA', 'global_code': '86P8VRWF+W7'}, 'price_level': 2, 'rating': 4.2, 'reference': 'ChIJr6v2yeEr9ocRqPCZvwRlMDU', 'scope': 'GOOGLE', 'types': ['restaurant', 'food', 'point_of_interest', 'establishment'], 'user_ratings_total': 1921, 'vicinity': '2728 Gannon Road, Saint Paul'}\n",
      "Missing field/result... skipping.\n",
      "-------------\n",
      "Retrieving results for index 24 : MTY\n",
      "MTY\n",
      "{'business_status': 'CLOSED_TEMPORARILY', 'geometry': {'location': {'lat': 25.7774258, 'lng': -100.1154967}, 'viewport': {'northeast': {'lat': 25.77859878029151, 'lng': -100.1141352197085}, 'southwest': {'lat': 25.7759008197085, 'lng': -100.1168331802915}}}, 'icon': 'https://maps.gstatic.com/mapfiles/place_api/icons/v1/png_71/restaurant-71.png', 'icon_background_color': '#FF9E67', 'icon_mask_base_uri': 'https://maps.gstatic.com/mapfiles/place_api/icons/v2/restaurant_pinlet', 'name': \"Green Leaf's\", 'permanently_closed': True, 'photos': [{'height': 582, 'html_attributions': ['<a href=\"https://maps.google.com/maps/contrib/115334622145511657790\">Green Leaf&#39;s</a>'], 'photo_reference': 'AcYSjRjz4Ju77JtAEi3oE9kUBPV5FrhaNDd5xxLZnswBtdfBBVwfCHKIsqf22vUOdWfEe_L4KuNR8HLReXJuYXsxqtViWtjPW58lSQSENhBvqlkLhxSn_DEiZjUNBTUL7dV0FPYTa3Ju8YfYnzNtppaxwWySRTvO2b0FJFQlhUSQbGYsKdh9', 'width': 683}], 'place_id': 'ChIJydjB-M7oYoYRmrs2Rm2n4IU', 'plus_code': {'compound_code': 'QVGM+XR Ciudad Apodaca, Nuevo Leon, Mexico', 'global_code': '75QXQVGM+XR'}, 'rating': 2.8, 'reference': 'ChIJydjB-M7oYoYRmrs2Rm2n4IU', 'scope': 'GOOGLE', 'types': ['restaurant', 'food', 'point_of_interest', 'establishment'], 'user_ratings_total': 4, 'vicinity': 'Eje Metropolitano 30 Km 24-Local A1, Ciudad Apodaca'}\n",
      "Missing field/result... skipping.\n",
      "-------------\n",
      "Retrieving results for index 25 : BNA\n"
     ]
    },
    {
     "name": "stderr",
     "output_type": "stream",
     "text": [
      "C:\\Users\\Owner\\AppData\\Local\\Temp\\ipykernel_7968\\3211776762.py:36: FutureWarning: The frame.append method is deprecated and will be removed from pandas in a future version. Use pandas.concat instead.\n",
      "  restaurant_df = restaurant_df.append({'Restaurant Name': name, 'Price Level': price, 'Rating': rating, 'Address': vicinity, 'City Code': city_code}, ignore_index = True)\n",
      "C:\\Users\\Owner\\AppData\\Local\\Temp\\ipykernel_7968\\3211776762.py:36: FutureWarning: The frame.append method is deprecated and will be removed from pandas in a future version. Use pandas.concat instead.\n",
      "  restaurant_df = restaurant_df.append({'Restaurant Name': name, 'Price Level': price, 'Rating': rating, 'Address': vicinity, 'City Code': city_code}, ignore_index = True)\n"
     ]
    },
    {
     "name": "stdout",
     "output_type": "stream",
     "text": [
      "BNA\n",
      "{'business_status': 'OPERATIONAL', 'geometry': {'location': {'lat': 36.148909, 'lng': -86.664924}, 'viewport': {'northeast': {'lat': 36.1501487802915, 'lng': -86.66362631970848}, 'southwest': {'lat': 36.1474508197085, 'lng': -86.66632428029149}}}, 'icon': 'https://maps.gstatic.com/mapfiles/place_api/icons/v1/png_71/restaurant-71.png', 'icon_background_color': '#FF9E67', 'icon_mask_base_uri': 'https://maps.gstatic.com/mapfiles/place_api/icons/v2/restaurant_pinlet', 'name': 'Darfons Restaurant + Bar', 'opening_hours': {'open_now': True}, 'photos': [{'height': 1360, 'html_attributions': ['<a href=\"https://maps.google.com/maps/contrib/116339426836718449229\">Darfons Restaurant + Bar</a>'], 'photo_reference': 'AcYSjRjiGo4Yq4NCTHHPn-syKHAROVeF4zIlMQAsbyv85v4JAYjDrfF-53oqFi7DxxGta20olMFMrHpDIxuKfPzGmKaSGtyy9ifEj22vyU0WhikECsVNW69AVaxEpmM6XkN7HetYHtp51angjBDoy56l2xUfwN_2Q3NebH9D6aPIdLm0jMTS', 'width': 2048}], 'place_id': 'ChIJlY6Uil5pZIgRF2aDe5dcDjk', 'plus_code': {'compound_code': '48XP+H2 Nashville, TN, USA', 'global_code': '868M48XP+H2'}, 'price_level': 2, 'rating': 4.6, 'reference': 'ChIJlY6Uil5pZIgRF2aDe5dcDjk', 'scope': 'GOOGLE', 'types': ['bar', 'restaurant', 'food', 'point_of_interest', 'establishment'], 'user_ratings_total': 3224, 'vicinity': '2810 Elm Hill Pike, Nashville'}\n",
      "Retrieving results for index 26 : MSY\n"
     ]
    },
    {
     "name": "stderr",
     "output_type": "stream",
     "text": [
      "C:\\Users\\Owner\\AppData\\Local\\Temp\\ipykernel_7968\\3211776762.py:36: FutureWarning: The frame.append method is deprecated and will be removed from pandas in a future version. Use pandas.concat instead.\n",
      "  restaurant_df = restaurant_df.append({'Restaurant Name': name, 'Price Level': price, 'Rating': rating, 'Address': vicinity, 'City Code': city_code}, ignore_index = True)\n",
      "C:\\Users\\Owner\\AppData\\Local\\Temp\\ipykernel_7968\\3211776762.py:36: FutureWarning: The frame.append method is deprecated and will be removed from pandas in a future version. Use pandas.concat instead.\n",
      "  restaurant_df = restaurant_df.append({'Restaurant Name': name, 'Price Level': price, 'Rating': rating, 'Address': vicinity, 'City Code': city_code}, ignore_index = True)\n",
      "C:\\Users\\Owner\\AppData\\Local\\Temp\\ipykernel_7968\\3211776762.py:36: FutureWarning: The frame.append method is deprecated and will be removed from pandas in a future version. Use pandas.concat instead.\n",
      "  restaurant_df = restaurant_df.append({'Restaurant Name': name, 'Price Level': price, 'Rating': rating, 'Address': vicinity, 'City Code': city_code}, ignore_index = True)\n",
      "C:\\Users\\Owner\\AppData\\Local\\Temp\\ipykernel_7968\\3211776762.py:36: FutureWarning: The frame.append method is deprecated and will be removed from pandas in a future version. Use pandas.concat instead.\n",
      "  restaurant_df = restaurant_df.append({'Restaurant Name': name, 'Price Level': price, 'Rating': rating, 'Address': vicinity, 'City Code': city_code}, ignore_index = True)\n",
      "C:\\Users\\Owner\\AppData\\Local\\Temp\\ipykernel_7968\\3211776762.py:36: FutureWarning: The frame.append method is deprecated and will be removed from pandas in a future version. Use pandas.concat instead.\n",
      "  restaurant_df = restaurant_df.append({'Restaurant Name': name, 'Price Level': price, 'Rating': rating, 'Address': vicinity, 'City Code': city_code}, ignore_index = True)\n",
      "C:\\Users\\Owner\\AppData\\Local\\Temp\\ipykernel_7968\\3211776762.py:36: FutureWarning: The frame.append method is deprecated and will be removed from pandas in a future version. Use pandas.concat instead.\n",
      "  restaurant_df = restaurant_df.append({'Restaurant Name': name, 'Price Level': price, 'Rating': rating, 'Address': vicinity, 'City Code': city_code}, ignore_index = True)\n",
      "C:\\Users\\Owner\\AppData\\Local\\Temp\\ipykernel_7968\\3211776762.py:36: FutureWarning: The frame.append method is deprecated and will be removed from pandas in a future version. Use pandas.concat instead.\n",
      "  restaurant_df = restaurant_df.append({'Restaurant Name': name, 'Price Level': price, 'Rating': rating, 'Address': vicinity, 'City Code': city_code}, ignore_index = True)\n",
      "C:\\Users\\Owner\\AppData\\Local\\Temp\\ipykernel_7968\\3211776762.py:36: FutureWarning: The frame.append method is deprecated and will be removed from pandas in a future version. Use pandas.concat instead.\n",
      "  restaurant_df = restaurant_df.append({'Restaurant Name': name, 'Price Level': price, 'Rating': rating, 'Address': vicinity, 'City Code': city_code}, ignore_index = True)\n",
      "C:\\Users\\Owner\\AppData\\Local\\Temp\\ipykernel_7968\\3211776762.py:36: FutureWarning: The frame.append method is deprecated and will be removed from pandas in a future version. Use pandas.concat instead.\n",
      "  restaurant_df = restaurant_df.append({'Restaurant Name': name, 'Price Level': price, 'Rating': rating, 'Address': vicinity, 'City Code': city_code}, ignore_index = True)\n",
      "C:\\Users\\Owner\\AppData\\Local\\Temp\\ipykernel_7968\\3211776762.py:36: FutureWarning: The frame.append method is deprecated and will be removed from pandas in a future version. Use pandas.concat instead.\n",
      "  restaurant_df = restaurant_df.append({'Restaurant Name': name, 'Price Level': price, 'Rating': rating, 'Address': vicinity, 'City Code': city_code}, ignore_index = True)\n"
     ]
    },
    {
     "name": "stdout",
     "output_type": "stream",
     "text": [
      "MSY\n",
      "{'business_status': 'OPERATIONAL', 'geometry': {'location': {'lat': 30.0200051, 'lng': -90.2493556}, 'viewport': {'northeast': {'lat': 30.0212030802915, 'lng': -90.2481539697085}, 'southwest': {'lat': 30.0185051197085, 'lng': -90.2508519302915}}}, 'icon': 'https://maps.gstatic.com/mapfiles/place_api/icons/v1/png_71/restaurant-71.png', 'icon_background_color': '#FF9E67', 'icon_mask_base_uri': 'https://maps.gstatic.com/mapfiles/place_api/icons/v2/restaurant_pinlet', 'name': 'Olive Garden Italian Restaurant', 'opening_hours': {'open_now': True}, 'photos': [{'height': 3006, 'html_attributions': ['<a href=\"https://maps.google.com/maps/contrib/106641916799264332446\">Shashikanth Akula</a>'], 'photo_reference': 'AcYSjRjfywD9W3BNPftgo8f-8qbVF3LUs23Ekt-oEPC0Qloe3ihN_mfXP9tVEQsIdBkHD2XLs2YCXaAswusM2OEHyJ2aIYiZIWDdMVCKKLRzqton2-5hezUJkDY2EAizYH7b_uljaTIUVGfe9FywCBAmJT0so0YfhGWP4Lckk0LJuQsI6eDH', 'width': 5344}], 'place_id': 'ChIJ3dcO_eG2IIYR13hn7Vn5RQs', 'plus_code': {'compound_code': '2QC2+27 Kenner, LA, USA', 'global_code': '862F2QC2+27'}, 'price_level': 2, 'rating': 4.2, 'reference': 'ChIJ3dcO_eG2IIYR13hn7Vn5RQs', 'scope': 'GOOGLE', 'types': ['bar', 'meal_takeaway', 'restaurant', 'food', 'point_of_interest', 'establishment'], 'user_ratings_total': 2759, 'vicinity': '1315 West Esplanade Avenue, Kenner'}\n",
      "Retrieving results for index 27 : JFK\n"
     ]
    },
    {
     "name": "stderr",
     "output_type": "stream",
     "text": [
      "C:\\Users\\Owner\\AppData\\Local\\Temp\\ipykernel_7968\\3211776762.py:36: FutureWarning: The frame.append method is deprecated and will be removed from pandas in a future version. Use pandas.concat instead.\n",
      "  restaurant_df = restaurant_df.append({'Restaurant Name': name, 'Price Level': price, 'Rating': rating, 'Address': vicinity, 'City Code': city_code}, ignore_index = True)\n",
      "C:\\Users\\Owner\\AppData\\Local\\Temp\\ipykernel_7968\\3211776762.py:36: FutureWarning: The frame.append method is deprecated and will be removed from pandas in a future version. Use pandas.concat instead.\n",
      "  restaurant_df = restaurant_df.append({'Restaurant Name': name, 'Price Level': price, 'Rating': rating, 'Address': vicinity, 'City Code': city_code}, ignore_index = True)\n",
      "C:\\Users\\Owner\\AppData\\Local\\Temp\\ipykernel_7968\\3211776762.py:36: FutureWarning: The frame.append method is deprecated and will be removed from pandas in a future version. Use pandas.concat instead.\n",
      "  restaurant_df = restaurant_df.append({'Restaurant Name': name, 'Price Level': price, 'Rating': rating, 'Address': vicinity, 'City Code': city_code}, ignore_index = True)\n",
      "C:\\Users\\Owner\\AppData\\Local\\Temp\\ipykernel_7968\\3211776762.py:36: FutureWarning: The frame.append method is deprecated and will be removed from pandas in a future version. Use pandas.concat instead.\n",
      "  restaurant_df = restaurant_df.append({'Restaurant Name': name, 'Price Level': price, 'Rating': rating, 'Address': vicinity, 'City Code': city_code}, ignore_index = True)\n",
      "C:\\Users\\Owner\\AppData\\Local\\Temp\\ipykernel_7968\\3211776762.py:36: FutureWarning: The frame.append method is deprecated and will be removed from pandas in a future version. Use pandas.concat instead.\n",
      "  restaurant_df = restaurant_df.append({'Restaurant Name': name, 'Price Level': price, 'Rating': rating, 'Address': vicinity, 'City Code': city_code}, ignore_index = True)\n",
      "C:\\Users\\Owner\\AppData\\Local\\Temp\\ipykernel_7968\\3211776762.py:36: FutureWarning: The frame.append method is deprecated and will be removed from pandas in a future version. Use pandas.concat instead.\n",
      "  restaurant_df = restaurant_df.append({'Restaurant Name': name, 'Price Level': price, 'Rating': rating, 'Address': vicinity, 'City Code': city_code}, ignore_index = True)\n",
      "C:\\Users\\Owner\\AppData\\Local\\Temp\\ipykernel_7968\\3211776762.py:36: FutureWarning: The frame.append method is deprecated and will be removed from pandas in a future version. Use pandas.concat instead.\n",
      "  restaurant_df = restaurant_df.append({'Restaurant Name': name, 'Price Level': price, 'Rating': rating, 'Address': vicinity, 'City Code': city_code}, ignore_index = True)\n",
      "C:\\Users\\Owner\\AppData\\Local\\Temp\\ipykernel_7968\\3211776762.py:36: FutureWarning: The frame.append method is deprecated and will be removed from pandas in a future version. Use pandas.concat instead.\n",
      "  restaurant_df = restaurant_df.append({'Restaurant Name': name, 'Price Level': price, 'Rating': rating, 'Address': vicinity, 'City Code': city_code}, ignore_index = True)\n",
      "C:\\Users\\Owner\\AppData\\Local\\Temp\\ipykernel_7968\\3211776762.py:36: FutureWarning: The frame.append method is deprecated and will be removed from pandas in a future version. Use pandas.concat instead.\n",
      "  restaurant_df = restaurant_df.append({'Restaurant Name': name, 'Price Level': price, 'Rating': rating, 'Address': vicinity, 'City Code': city_code}, ignore_index = True)\n",
      "C:\\Users\\Owner\\AppData\\Local\\Temp\\ipykernel_7968\\3211776762.py:36: FutureWarning: The frame.append method is deprecated and will be removed from pandas in a future version. Use pandas.concat instead.\n",
      "  restaurant_df = restaurant_df.append({'Restaurant Name': name, 'Price Level': price, 'Rating': rating, 'Address': vicinity, 'City Code': city_code}, ignore_index = True)\n"
     ]
    },
    {
     "name": "stdout",
     "output_type": "stream",
     "text": [
      "NYC\n",
      "{'business_status': 'OPERATIONAL', 'geometry': {'location': {'lat': 40.6410754, 'lng': -73.782511}, 'viewport': {'northeast': {'lat': 40.644117, 'lng': -73.78168715}, 'southwest': {'lat': 40.64005219999999, 'lng': -73.78475895000001}}}, 'icon': 'https://maps.gstatic.com/mapfiles/place_api/icons/v1/png_71/restaurant-71.png', 'icon_background_color': '#FF9E67', 'icon_mask_base_uri': 'https://maps.gstatic.com/mapfiles/place_api/icons/v2/restaurant_pinlet', 'name': 'Buffalo Wild Wings', 'opening_hours': {'open_now': True}, 'photos': [{'height': 3024, 'html_attributions': ['<a href=\"https://maps.google.com/maps/contrib/117946042256456717136\">Ali A.</a>'], 'photo_reference': 'AcYSjRhGXh86LIW5uu2hOXmNdiqcuQdEVvBuS6IxQ0OX1OUNHH96BgI0iGWZ8sJ25cP6MOuSj2i8coxqL0hzs3jM4K3gYtVYEJaPQh58HlB2ey_CzYNB25eNbJzO0BGFGj-_RCVtzRLiVgq-FixnydEcjOy09Ru7lecMtQ89d1NZsYoukYF5', 'width': 4032}], 'place_id': 'ChIJw43VpFlmwokR-MaI3lri55c', 'plus_code': {'compound_code': 'J6R8+CX New York, NY, USA', 'global_code': '87G8J6R8+CX'}, 'price_level': 2, 'rating': 2.9, 'reference': 'ChIJw43VpFlmwokR-MaI3lri55c', 'scope': 'GOOGLE', 'types': ['bar', 'meal_takeaway', 'restaurant', 'food', 'point_of_interest', 'establishment'], 'user_ratings_total': 798, 'vicinity': 'John F. Kennedy International Airport, Terminal 4, Queens'}\n",
      "Missing field/result... skipping.\n",
      "-------------\n",
      "Retrieving results for index 28 : EWR\n"
     ]
    },
    {
     "name": "stderr",
     "output_type": "stream",
     "text": [
      "C:\\Users\\Owner\\AppData\\Local\\Temp\\ipykernel_7968\\3211776762.py:36: FutureWarning: The frame.append method is deprecated and will be removed from pandas in a future version. Use pandas.concat instead.\n",
      "  restaurant_df = restaurant_df.append({'Restaurant Name': name, 'Price Level': price, 'Rating': rating, 'Address': vicinity, 'City Code': city_code}, ignore_index = True)\n",
      "C:\\Users\\Owner\\AppData\\Local\\Temp\\ipykernel_7968\\3211776762.py:36: FutureWarning: The frame.append method is deprecated and will be removed from pandas in a future version. Use pandas.concat instead.\n",
      "  restaurant_df = restaurant_df.append({'Restaurant Name': name, 'Price Level': price, 'Rating': rating, 'Address': vicinity, 'City Code': city_code}, ignore_index = True)\n",
      "C:\\Users\\Owner\\AppData\\Local\\Temp\\ipykernel_7968\\3211776762.py:36: FutureWarning: The frame.append method is deprecated and will be removed from pandas in a future version. Use pandas.concat instead.\n",
      "  restaurant_df = restaurant_df.append({'Restaurant Name': name, 'Price Level': price, 'Rating': rating, 'Address': vicinity, 'City Code': city_code}, ignore_index = True)\n",
      "C:\\Users\\Owner\\AppData\\Local\\Temp\\ipykernel_7968\\3211776762.py:36: FutureWarning: The frame.append method is deprecated and will be removed from pandas in a future version. Use pandas.concat instead.\n",
      "  restaurant_df = restaurant_df.append({'Restaurant Name': name, 'Price Level': price, 'Rating': rating, 'Address': vicinity, 'City Code': city_code}, ignore_index = True)\n",
      "C:\\Users\\Owner\\AppData\\Local\\Temp\\ipykernel_7968\\3211776762.py:36: FutureWarning: The frame.append method is deprecated and will be removed from pandas in a future version. Use pandas.concat instead.\n",
      "  restaurant_df = restaurant_df.append({'Restaurant Name': name, 'Price Level': price, 'Rating': rating, 'Address': vicinity, 'City Code': city_code}, ignore_index = True)\n"
     ]
    },
    {
     "name": "stdout",
     "output_type": "stream",
     "text": [
      "NYC\n",
      "{'business_status': 'OPERATIONAL', 'geometry': {'location': {'lat': 40.6769993, 'lng': -74.20340709999999}, 'viewport': {'northeast': {'lat': 40.6784111802915, 'lng': -74.2019625197085}, 'southwest': {'lat': 40.67571321970851, 'lng': -74.20466048029151}}}, 'icon': 'https://maps.gstatic.com/mapfiles/place_api/icons/v1/png_71/restaurant-71.png', 'icon_background_color': '#FF9E67', 'icon_mask_base_uri': 'https://maps.gstatic.com/mapfiles/place_api/icons/v2/restaurant_pinlet', 'name': 'Valenca', 'opening_hours': {'open_now': True}, 'photos': [{'height': 2448, 'html_attributions': ['<a href=\"https://maps.google.com/maps/contrib/117568027906148192761\">Valenca</a>'], 'photo_reference': 'AcYSjRgTyvZ2Uf8_0uZlSwJqOzG33g_F8lSFBBZ6D7HUS2uIeeRZFafjLMjI137O38BnTp-9Ge4S-KqJLyFnOPM8yC1l1hL8yGSK_5bCAiORTkILirb47LZyi6pIS9HpygoOkcZ6Eoq92_lf9w8sbFipK40N_YWCTeUycLLKLDeOGoZqAcTp', 'width': 3264}], 'place_id': 'ChIJvS-5J7tSwokRQvSoqhgeJYI', 'plus_code': {'compound_code': 'MQGW+QJ Elizabeth, NJ, USA', 'global_code': '87G7MQGW+QJ'}, 'price_level': 2, 'rating': 4.5, 'reference': 'ChIJvS-5J7tSwokRQvSoqhgeJYI', 'scope': 'GOOGLE', 'types': ['restaurant', 'food', 'point_of_interest', 'establishment'], 'user_ratings_total': 5072, 'vicinity': '665 Monroe Avenue, Elizabeth'}\n",
      "Missing field/result... skipping.\n",
      "-------------\n",
      "Retrieving results for index 29 : OKC\n"
     ]
    },
    {
     "name": "stderr",
     "output_type": "stream",
     "text": [
      "C:\\Users\\Owner\\AppData\\Local\\Temp\\ipykernel_7968\\3211776762.py:36: FutureWarning: The frame.append method is deprecated and will be removed from pandas in a future version. Use pandas.concat instead.\n",
      "  restaurant_df = restaurant_df.append({'Restaurant Name': name, 'Price Level': price, 'Rating': rating, 'Address': vicinity, 'City Code': city_code}, ignore_index = True)\n",
      "C:\\Users\\Owner\\AppData\\Local\\Temp\\ipykernel_7968\\3211776762.py:36: FutureWarning: The frame.append method is deprecated and will be removed from pandas in a future version. Use pandas.concat instead.\n",
      "  restaurant_df = restaurant_df.append({'Restaurant Name': name, 'Price Level': price, 'Rating': rating, 'Address': vicinity, 'City Code': city_code}, ignore_index = True)\n",
      "C:\\Users\\Owner\\AppData\\Local\\Temp\\ipykernel_7968\\3211776762.py:36: FutureWarning: The frame.append method is deprecated and will be removed from pandas in a future version. Use pandas.concat instead.\n",
      "  restaurant_df = restaurant_df.append({'Restaurant Name': name, 'Price Level': price, 'Rating': rating, 'Address': vicinity, 'City Code': city_code}, ignore_index = True)\n",
      "C:\\Users\\Owner\\AppData\\Local\\Temp\\ipykernel_7968\\3211776762.py:36: FutureWarning: The frame.append method is deprecated and will be removed from pandas in a future version. Use pandas.concat instead.\n",
      "  restaurant_df = restaurant_df.append({'Restaurant Name': name, 'Price Level': price, 'Rating': rating, 'Address': vicinity, 'City Code': city_code}, ignore_index = True)\n",
      "C:\\Users\\Owner\\AppData\\Local\\Temp\\ipykernel_7968\\3211776762.py:36: FutureWarning: The frame.append method is deprecated and will be removed from pandas in a future version. Use pandas.concat instead.\n",
      "  restaurant_df = restaurant_df.append({'Restaurant Name': name, 'Price Level': price, 'Rating': rating, 'Address': vicinity, 'City Code': city_code}, ignore_index = True)\n",
      "C:\\Users\\Owner\\AppData\\Local\\Temp\\ipykernel_7968\\3211776762.py:36: FutureWarning: The frame.append method is deprecated and will be removed from pandas in a future version. Use pandas.concat instead.\n",
      "  restaurant_df = restaurant_df.append({'Restaurant Name': name, 'Price Level': price, 'Rating': rating, 'Address': vicinity, 'City Code': city_code}, ignore_index = True)\n",
      "C:\\Users\\Owner\\AppData\\Local\\Temp\\ipykernel_7968\\3211776762.py:36: FutureWarning: The frame.append method is deprecated and will be removed from pandas in a future version. Use pandas.concat instead.\n",
      "  restaurant_df = restaurant_df.append({'Restaurant Name': name, 'Price Level': price, 'Rating': rating, 'Address': vicinity, 'City Code': city_code}, ignore_index = True)\n"
     ]
    },
    {
     "name": "stdout",
     "output_type": "stream",
     "text": [
      "OKC\n",
      "{'business_status': 'OPERATIONAL', 'geometry': {'location': {'lat': 35.3921919, 'lng': -97.5533351}, 'viewport': {'northeast': {'lat': 35.3933566302915, 'lng': -97.5518651697085}, 'southwest': {'lat': 35.3906586697085, 'lng': -97.55456313029151}}}, 'icon': 'https://maps.gstatic.com/mapfiles/place_api/icons/v1/png_71/restaurant-71.png', 'icon_background_color': '#FF9E67', 'icon_mask_base_uri': 'https://maps.gstatic.com/mapfiles/place_api/icons/v2/restaurant_pinlet', 'name': 'Olive Garden Italian Restaurant', 'opening_hours': {'open_now': True}, 'photos': [{'height': 1800, 'html_attributions': ['<a href=\"https://maps.google.com/maps/contrib/108446568210059506795\">Jamie Johnson</a>'], 'photo_reference': 'AcYSjRgtYhIkW2y_0WmY9nUt1vnosB6V7jcNcdwNR3vm2uLJrE_fRteRGZwcqb7y9yX9iCJoup_OLDGKgQcudyxcBfIE0Qf2k4XNxf4Zig3buAWYJ8LwQ8zyDH1RfF840YDrbmq-MjiKf8AOnlurBhYzPmrtk3OLLlSSdKSQGr-mfS32hMGc', 'width': 4000}], 'place_id': 'ChIJX9CsO7kTsocR9qHTPj1cpJI', 'plus_code': {'compound_code': '9CRW+VM Central Oklahoma City, Oklahoma City, OK, USA', 'global_code': '86749CRW+VM'}, 'price_level': 2, 'rating': 4.1, 'reference': 'ChIJX9CsO7kTsocR9qHTPj1cpJI', 'scope': 'GOOGLE', 'types': ['meal_takeaway', 'bar', 'restaurant', 'food', 'point_of_interest', 'establishment'], 'user_ratings_total': 2986, 'vicinity': '2321 West Interstate 240 Service Road, Oklahoma City'}\n",
      "Retrieving results for index 30 : MCO\n"
     ]
    },
    {
     "name": "stderr",
     "output_type": "stream",
     "text": [
      "C:\\Users\\Owner\\AppData\\Local\\Temp\\ipykernel_7968\\3211776762.py:36: FutureWarning: The frame.append method is deprecated and will be removed from pandas in a future version. Use pandas.concat instead.\n",
      "  restaurant_df = restaurant_df.append({'Restaurant Name': name, 'Price Level': price, 'Rating': rating, 'Address': vicinity, 'City Code': city_code}, ignore_index = True)\n",
      "C:\\Users\\Owner\\AppData\\Local\\Temp\\ipykernel_7968\\3211776762.py:36: FutureWarning: The frame.append method is deprecated and will be removed from pandas in a future version. Use pandas.concat instead.\n",
      "  restaurant_df = restaurant_df.append({'Restaurant Name': name, 'Price Level': price, 'Rating': rating, 'Address': vicinity, 'City Code': city_code}, ignore_index = True)\n",
      "C:\\Users\\Owner\\AppData\\Local\\Temp\\ipykernel_7968\\3211776762.py:36: FutureWarning: The frame.append method is deprecated and will be removed from pandas in a future version. Use pandas.concat instead.\n",
      "  restaurant_df = restaurant_df.append({'Restaurant Name': name, 'Price Level': price, 'Rating': rating, 'Address': vicinity, 'City Code': city_code}, ignore_index = True)\n",
      "C:\\Users\\Owner\\AppData\\Local\\Temp\\ipykernel_7968\\3211776762.py:36: FutureWarning: The frame.append method is deprecated and will be removed from pandas in a future version. Use pandas.concat instead.\n",
      "  restaurant_df = restaurant_df.append({'Restaurant Name': name, 'Price Level': price, 'Rating': rating, 'Address': vicinity, 'City Code': city_code}, ignore_index = True)\n",
      "C:\\Users\\Owner\\AppData\\Local\\Temp\\ipykernel_7968\\3211776762.py:36: FutureWarning: The frame.append method is deprecated and will be removed from pandas in a future version. Use pandas.concat instead.\n",
      "  restaurant_df = restaurant_df.append({'Restaurant Name': name, 'Price Level': price, 'Rating': rating, 'Address': vicinity, 'City Code': city_code}, ignore_index = True)\n",
      "C:\\Users\\Owner\\AppData\\Local\\Temp\\ipykernel_7968\\3211776762.py:36: FutureWarning: The frame.append method is deprecated and will be removed from pandas in a future version. Use pandas.concat instead.\n",
      "  restaurant_df = restaurant_df.append({'Restaurant Name': name, 'Price Level': price, 'Rating': rating, 'Address': vicinity, 'City Code': city_code}, ignore_index = True)\n",
      "C:\\Users\\Owner\\AppData\\Local\\Temp\\ipykernel_7968\\3211776762.py:36: FutureWarning: The frame.append method is deprecated and will be removed from pandas in a future version. Use pandas.concat instead.\n",
      "  restaurant_df = restaurant_df.append({'Restaurant Name': name, 'Price Level': price, 'Rating': rating, 'Address': vicinity, 'City Code': city_code}, ignore_index = True)\n",
      "C:\\Users\\Owner\\AppData\\Local\\Temp\\ipykernel_7968\\3211776762.py:36: FutureWarning: The frame.append method is deprecated and will be removed from pandas in a future version. Use pandas.concat instead.\n",
      "  restaurant_df = restaurant_df.append({'Restaurant Name': name, 'Price Level': price, 'Rating': rating, 'Address': vicinity, 'City Code': city_code}, ignore_index = True)\n",
      "C:\\Users\\Owner\\AppData\\Local\\Temp\\ipykernel_7968\\3211776762.py:36: FutureWarning: The frame.append method is deprecated and will be removed from pandas in a future version. Use pandas.concat instead.\n",
      "  restaurant_df = restaurant_df.append({'Restaurant Name': name, 'Price Level': price, 'Rating': rating, 'Address': vicinity, 'City Code': city_code}, ignore_index = True)\n",
      "C:\\Users\\Owner\\AppData\\Local\\Temp\\ipykernel_7968\\3211776762.py:36: FutureWarning: The frame.append method is deprecated and will be removed from pandas in a future version. Use pandas.concat instead.\n",
      "  restaurant_df = restaurant_df.append({'Restaurant Name': name, 'Price Level': price, 'Rating': rating, 'Address': vicinity, 'City Code': city_code}, ignore_index = True)\n"
     ]
    },
    {
     "name": "stdout",
     "output_type": "stream",
     "text": [
      "ORL\n",
      "{'business_status': 'OPERATIONAL', 'geometry': {'location': {'lat': 28.456017, 'lng': -81.30770489999999}, 'viewport': {'northeast': {'lat': 28.4574479802915, 'lng': -81.30633501970848}, 'southwest': {'lat': 28.4547500197085, 'lng': -81.3090329802915}}}, 'icon': 'https://maps.gstatic.com/mapfiles/place_api/icons/v1/png_71/lodging-71.png', 'icon_background_color': '#909CE1', 'icon_mask_base_uri': 'https://maps.gstatic.com/mapfiles/place_api/icons/v2/hotel_pinlet', 'name': 'Sheraton Suites Orlando Airport', 'opening_hours': {'open_now': True}, 'photos': [{'height': 1000, 'html_attributions': ['<a href=\"https://maps.google.com/maps/contrib/117323388380720429373\">Sheraton Suites Orlando Airport</a>'], 'photo_reference': 'AcYSjRhraySQ4zP5ttXANQZ2TSeNbVq0KsDFLcLVnmhru8cos_8SEri1oxXf2WwsbDCsF8s-_yXrBv3dIkEEkdaq5jKtRhGs1d220z0l4OIfmrF7y9SlWzKTJNLzsMbdD9MmpUufX9bePebZgxxiQXL4kYF0LozoLlWxZ53rKNT-6PkQcxqj', 'width': 1500}], 'place_id': 'ChIJu1zSMBBj54gRSSKBwt5HWWg', 'plus_code': {'compound_code': 'FM4R+CW Orlando, FL, USA', 'global_code': '76WWFM4R+CW'}, 'rating': 4.2, 'reference': 'ChIJu1zSMBBj54gRSSKBwt5HWWg', 'scope': 'GOOGLE', 'types': ['cafe', 'lodging', 'bar', 'store', 'restaurant', 'point_of_interest', 'food', 'establishment'], 'user_ratings_total': 1348, 'vicinity': '7550 Augusta National Drive, Orlando'}\n",
      "Missing field/result... skipping.\n",
      "-------------\n",
      "Retrieving results for index 31 : PHL\n",
      "PHL\n",
      "{'business_status': 'OPERATIONAL', 'geometry': {'location': {'lat': 39.8619306, 'lng': -75.2082389}, 'viewport': {'northeast': {'lat': 39.86301133029149, 'lng': -75.20682261970849}, 'southwest': {'lat': 39.86031336970849, 'lng': -75.2095205802915}}}, 'icon': 'https://maps.gstatic.com/mapfiles/place_api/icons/v1/png_71/restaurant-71.png', 'icon_background_color': '#FF9E67', 'icon_mask_base_uri': 'https://maps.gstatic.com/mapfiles/place_api/icons/v2/restaurant_pinlet', 'name': 'Riverwinds Restaurant', 'opening_hours': {'open_now': True}, 'photos': [{'height': 3024, 'html_attributions': ['<a href=\"https://maps.google.com/maps/contrib/113623269304881270546\">G C</a>'], 'photo_reference': 'AcYSjRj4BMjJnL3JPUxCwoV-B6UU4FA1gYf8wVxhI8BATn6LeGXrKOfvlV55kg6VZiKFIxp6_-ufwWvyBI-req_AsNDm7TRnl0MHSMCLUeWY2J7EXcB5x8fDViSGNg-y3lRBq9fZH4ESvqrnvVEVjQc4GcIlj5MYc1zan8OkLQGmsE74g09N', 'width': 4032}], 'place_id': 'ChIJU1e9zN7ExokR-nMNQk5x8Qk', 'plus_code': {'compound_code': 'VQ6R+QP West Deptford, NJ, USA', 'global_code': '87F6VQ6R+QP'}, 'price_level': 3, 'rating': 4.4, 'reference': 'ChIJU1e9zN7ExokR-nMNQk5x8Qk', 'scope': 'GOOGLE', 'types': ['restaurant', 'night_club', 'bar', 'food', 'point_of_interest', 'establishment'], 'user_ratings_total': 3088, 'vicinity': '1075 Riverwinds Drive, West Deptford'}\n"
     ]
    },
    {
     "name": "stderr",
     "output_type": "stream",
     "text": [
      "C:\\Users\\Owner\\AppData\\Local\\Temp\\ipykernel_7968\\3211776762.py:36: FutureWarning: The frame.append method is deprecated and will be removed from pandas in a future version. Use pandas.concat instead.\n",
      "  restaurant_df = restaurant_df.append({'Restaurant Name': name, 'Price Level': price, 'Rating': rating, 'Address': vicinity, 'City Code': city_code}, ignore_index = True)\n",
      "C:\\Users\\Owner\\AppData\\Local\\Temp\\ipykernel_7968\\3211776762.py:36: FutureWarning: The frame.append method is deprecated and will be removed from pandas in a future version. Use pandas.concat instead.\n",
      "  restaurant_df = restaurant_df.append({'Restaurant Name': name, 'Price Level': price, 'Rating': rating, 'Address': vicinity, 'City Code': city_code}, ignore_index = True)\n",
      "C:\\Users\\Owner\\AppData\\Local\\Temp\\ipykernel_7968\\3211776762.py:36: FutureWarning: The frame.append method is deprecated and will be removed from pandas in a future version. Use pandas.concat instead.\n",
      "  restaurant_df = restaurant_df.append({'Restaurant Name': name, 'Price Level': price, 'Rating': rating, 'Address': vicinity, 'City Code': city_code}, ignore_index = True)\n",
      "C:\\Users\\Owner\\AppData\\Local\\Temp\\ipykernel_7968\\3211776762.py:36: FutureWarning: The frame.append method is deprecated and will be removed from pandas in a future version. Use pandas.concat instead.\n",
      "  restaurant_df = restaurant_df.append({'Restaurant Name': name, 'Price Level': price, 'Rating': rating, 'Address': vicinity, 'City Code': city_code}, ignore_index = True)\n"
     ]
    },
    {
     "name": "stdout",
     "output_type": "stream",
     "text": [
      "Missing field/result... skipping.\n",
      "-------------\n",
      "Retrieving results for index 32 : PHX\n",
      "PHX\n",
      "{'business_status': 'OPERATIONAL', 'geometry': {'location': {'lat': 33.4341532, 'lng': -111.9993395}, 'viewport': {'northeast': {'lat': 33.43552828029149, 'lng': -111.9979908697085}, 'southwest': {'lat': 33.43283031970849, 'lng': -112.0006888302915}}}, 'icon': 'https://maps.gstatic.com/mapfiles/place_api/icons/v1/png_71/restaurant-71.png', 'icon_background_color': '#FF9E67', 'icon_mask_base_uri': 'https://maps.gstatic.com/mapfiles/place_api/icons/v2/restaurant_pinlet', 'name': 'Barrio Cafe', 'opening_hours': {'open_now': True}, 'photos': [{'height': 3024, 'html_attributions': ['<a href=\"https://maps.google.com/maps/contrib/105550680013351864432\">Angela Beck</a>'], 'photo_reference': 'AcYSjRhMUzz_jbMi21gKGc9rk0_XQbPYBHxGHBAyuvU88UWSTFHp_JRB9bUD_A3hHysE_A88H4M36khRASnkutk8eZdffwQTA8HVvLY6ziviUfdwzUWCHMl73a6iv30HCuaYJp18zbYzFRcvZl0xjW5MI0gz3IhftWu2Y6zWSKb_etXAsiMR', 'width': 4032}], 'place_id': 'ChIJT4F4W2cOK4cRxsv08COXCHQ', 'plus_code': {'compound_code': 'C2M2+M7 Phoenix, AZ, USA', 'global_code': '855CC2M2+M7'}, 'price_level': 2, 'rating': 2.8, 'reference': 'ChIJT4F4W2cOK4cRxsv08COXCHQ', 'scope': 'GOOGLE', 'types': ['restaurant', 'food', 'point_of_interest', 'establishment'], 'user_ratings_total': 392, 'vicinity': '3400 East Sky Harbor Boulevard Terminal 4, Phoenix'}\n",
      "Missing field/result... skipping.\n",
      "-------------\n",
      "Retrieving results for index 33 : SLC\n"
     ]
    },
    {
     "name": "stderr",
     "output_type": "stream",
     "text": [
      "C:\\Users\\Owner\\AppData\\Local\\Temp\\ipykernel_7968\\3211776762.py:36: FutureWarning: The frame.append method is deprecated and will be removed from pandas in a future version. Use pandas.concat instead.\n",
      "  restaurant_df = restaurant_df.append({'Restaurant Name': name, 'Price Level': price, 'Rating': rating, 'Address': vicinity, 'City Code': city_code}, ignore_index = True)\n",
      "C:\\Users\\Owner\\AppData\\Local\\Temp\\ipykernel_7968\\3211776762.py:36: FutureWarning: The frame.append method is deprecated and will be removed from pandas in a future version. Use pandas.concat instead.\n",
      "  restaurant_df = restaurant_df.append({'Restaurant Name': name, 'Price Level': price, 'Rating': rating, 'Address': vicinity, 'City Code': city_code}, ignore_index = True)\n",
      "C:\\Users\\Owner\\AppData\\Local\\Temp\\ipykernel_7968\\3211776762.py:36: FutureWarning: The frame.append method is deprecated and will be removed from pandas in a future version. Use pandas.concat instead.\n",
      "  restaurant_df = restaurant_df.append({'Restaurant Name': name, 'Price Level': price, 'Rating': rating, 'Address': vicinity, 'City Code': city_code}, ignore_index = True)\n"
     ]
    },
    {
     "name": "stdout",
     "output_type": "stream",
     "text": [
      "SLC\n",
      "{'business_status': 'OPERATIONAL', 'geometry': {'location': {'lat': 40.7853197, 'lng': -111.9874785}, 'viewport': {'northeast': {'lat': 40.7860702, 'lng': -111.9858784697085}, 'southwest': {'lat': 40.7830682, 'lng': -111.9885764302915}}}, 'icon': 'https://maps.gstatic.com/mapfiles/place_api/icons/v1/png_71/bar-71.png', 'icon_background_color': '#FF9E67', 'icon_mask_base_uri': 'https://maps.gstatic.com/mapfiles/place_api/icons/v2/bar_pinlet', 'name': 'Squatters Pub Brewery SLC Airport', 'opening_hours': {'open_now': True}, 'photos': [{'height': 3024, 'html_attributions': ['<a href=\"https://maps.google.com/maps/contrib/107392764407726010859\">Chef Bored</a>'], 'photo_reference': 'AcYSjRhK4JEEOWVzz-UCGsZIwVdMKWkt-YWeaXaN5YCtgktIhZq5jMvAK33Jvw5Xg7jChFrOTjczCeGgORWLZZDa9v4lCikm3ziJw2VAMpq2y-crZBqchsxNU-En4Sex67ccQ5BzYdUiiAquj3oRVoAfl5cbBbFjV-3OjukL4jtdOAh0Ev1w', 'width': 4032}], 'place_id': 'ChIJN76KitvzUocR-3maN-pnu5M', 'plus_code': {'compound_code': 'Q2P7+42 Salt Lake City, UT, USA', 'global_code': '85GCQ2P7+42'}, 'price_level': 2, 'rating': 4.2, 'reference': 'ChIJN76KitvzUocR-3maN-pnu5M', 'scope': 'GOOGLE', 'types': ['liquor_store', 'bar', 'restaurant', 'food', 'store', 'point_of_interest', 'establishment'], 'user_ratings_total': 2776, 'vicinity': '776 N Terminal Dr Terminal A, Salt Lake City'}\n",
      "Missing field/result... skipping.\n",
      "-------------\n",
      "Retrieving results for index 34 : SAN\n"
     ]
    },
    {
     "name": "stderr",
     "output_type": "stream",
     "text": [
      "C:\\Users\\Owner\\AppData\\Local\\Temp\\ipykernel_7968\\3211776762.py:36: FutureWarning: The frame.append method is deprecated and will be removed from pandas in a future version. Use pandas.concat instead.\n",
      "  restaurant_df = restaurant_df.append({'Restaurant Name': name, 'Price Level': price, 'Rating': rating, 'Address': vicinity, 'City Code': city_code}, ignore_index = True)\n",
      "C:\\Users\\Owner\\AppData\\Local\\Temp\\ipykernel_7968\\3211776762.py:36: FutureWarning: The frame.append method is deprecated and will be removed from pandas in a future version. Use pandas.concat instead.\n",
      "  restaurant_df = restaurant_df.append({'Restaurant Name': name, 'Price Level': price, 'Rating': rating, 'Address': vicinity, 'City Code': city_code}, ignore_index = True)\n",
      "C:\\Users\\Owner\\AppData\\Local\\Temp\\ipykernel_7968\\3211776762.py:36: FutureWarning: The frame.append method is deprecated and will be removed from pandas in a future version. Use pandas.concat instead.\n",
      "  restaurant_df = restaurant_df.append({'Restaurant Name': name, 'Price Level': price, 'Rating': rating, 'Address': vicinity, 'City Code': city_code}, ignore_index = True)\n",
      "C:\\Users\\Owner\\AppData\\Local\\Temp\\ipykernel_7968\\3211776762.py:36: FutureWarning: The frame.append method is deprecated and will be removed from pandas in a future version. Use pandas.concat instead.\n",
      "  restaurant_df = restaurant_df.append({'Restaurant Name': name, 'Price Level': price, 'Rating': rating, 'Address': vicinity, 'City Code': city_code}, ignore_index = True)\n",
      "C:\\Users\\Owner\\AppData\\Local\\Temp\\ipykernel_7968\\3211776762.py:36: FutureWarning: The frame.append method is deprecated and will be removed from pandas in a future version. Use pandas.concat instead.\n",
      "  restaurant_df = restaurant_df.append({'Restaurant Name': name, 'Price Level': price, 'Rating': rating, 'Address': vicinity, 'City Code': city_code}, ignore_index = True)\n",
      "C:\\Users\\Owner\\AppData\\Local\\Temp\\ipykernel_7968\\3211776762.py:36: FutureWarning: The frame.append method is deprecated and will be removed from pandas in a future version. Use pandas.concat instead.\n",
      "  restaurant_df = restaurant_df.append({'Restaurant Name': name, 'Price Level': price, 'Rating': rating, 'Address': vicinity, 'City Code': city_code}, ignore_index = True)\n"
     ]
    },
    {
     "name": "stdout",
     "output_type": "stream",
     "text": [
      "SAN\n",
      "{'business_status': 'OPERATIONAL', 'geometry': {'location': {'lat': 32.7252556, 'lng': -117.2289111}, 'viewport': {'northeast': {'lat': 32.7266036302915, 'lng': -117.2274526197085}, 'southwest': {'lat': 32.7239056697085, 'lng': -117.2301505802915}}}, 'icon': 'https://maps.gstatic.com/mapfiles/place_api/icons/v1/png_71/lodging-71.png', 'icon_background_color': '#909CE1', 'icon_mask_base_uri': 'https://maps.gstatic.com/mapfiles/place_api/icons/v2/hotel_pinlet', 'name': 'The Pearl Hotel', 'opening_hours': {'open_now': True}, 'photos': [{'height': 2666, 'html_attributions': ['<a href=\"https://maps.google.com/maps/contrib/112317557241892537313\">The Pearl Hotel</a>'], 'photo_reference': 'AcYSjRhQfx_nXzgNqra6GN_q7mnR8-u5HKQ45V0PbKTMTIw_bNuOlJfWF91OWmkDx34AaKbZH0Y_VMOjXsdSzgIycwbhulqH5z5dl2Y2lJVeTT321RJ0yY9q7ghUAb4Y8w0vcmPCZWEHqV6wC9GmJo-L8SsplpoZckn9wYRMwNDbkyVhz5tI', 'width': 4000}], 'place_id': 'ChIJHZAVeaSr3oARK55s7-mXOnU', 'plus_code': {'compound_code': 'PQGC+4C San Diego, CA, USA', 'global_code': '8544PQGC+4C'}, 'price_level': 2, 'rating': 4.5, 'reference': 'ChIJHZAVeaSr3oARK55s7-mXOnU', 'scope': 'GOOGLE', 'types': ['restaurant', 'lodging', 'food', 'point_of_interest', 'establishment'], 'user_ratings_total': 422, 'vicinity': '1410 Rosecrans Street, San Diego'}\n",
      "Missing field/result... skipping.\n",
      "-------------\n",
      "Retrieving results for index 35 : SFO\n"
     ]
    },
    {
     "name": "stderr",
     "output_type": "stream",
     "text": [
      "C:\\Users\\Owner\\AppData\\Local\\Temp\\ipykernel_7968\\3211776762.py:36: FutureWarning: The frame.append method is deprecated and will be removed from pandas in a future version. Use pandas.concat instead.\n",
      "  restaurant_df = restaurant_df.append({'Restaurant Name': name, 'Price Level': price, 'Rating': rating, 'Address': vicinity, 'City Code': city_code}, ignore_index = True)\n",
      "C:\\Users\\Owner\\AppData\\Local\\Temp\\ipykernel_7968\\3211776762.py:36: FutureWarning: The frame.append method is deprecated and will be removed from pandas in a future version. Use pandas.concat instead.\n",
      "  restaurant_df = restaurant_df.append({'Restaurant Name': name, 'Price Level': price, 'Rating': rating, 'Address': vicinity, 'City Code': city_code}, ignore_index = True)\n",
      "C:\\Users\\Owner\\AppData\\Local\\Temp\\ipykernel_7968\\3211776762.py:36: FutureWarning: The frame.append method is deprecated and will be removed from pandas in a future version. Use pandas.concat instead.\n",
      "  restaurant_df = restaurant_df.append({'Restaurant Name': name, 'Price Level': price, 'Rating': rating, 'Address': vicinity, 'City Code': city_code}, ignore_index = True)\n",
      "C:\\Users\\Owner\\AppData\\Local\\Temp\\ipykernel_7968\\3211776762.py:36: FutureWarning: The frame.append method is deprecated and will be removed from pandas in a future version. Use pandas.concat instead.\n",
      "  restaurant_df = restaurant_df.append({'Restaurant Name': name, 'Price Level': price, 'Rating': rating, 'Address': vicinity, 'City Code': city_code}, ignore_index = True)\n",
      "C:\\Users\\Owner\\AppData\\Local\\Temp\\ipykernel_7968\\3211776762.py:36: FutureWarning: The frame.append method is deprecated and will be removed from pandas in a future version. Use pandas.concat instead.\n",
      "  restaurant_df = restaurant_df.append({'Restaurant Name': name, 'Price Level': price, 'Rating': rating, 'Address': vicinity, 'City Code': city_code}, ignore_index = True)\n",
      "C:\\Users\\Owner\\AppData\\Local\\Temp\\ipykernel_7968\\3211776762.py:36: FutureWarning: The frame.append method is deprecated and will be removed from pandas in a future version. Use pandas.concat instead.\n",
      "  restaurant_df = restaurant_df.append({'Restaurant Name': name, 'Price Level': price, 'Rating': rating, 'Address': vicinity, 'City Code': city_code}, ignore_index = True)\n",
      "C:\\Users\\Owner\\AppData\\Local\\Temp\\ipykernel_7968\\3211776762.py:36: FutureWarning: The frame.append method is deprecated and will be removed from pandas in a future version. Use pandas.concat instead.\n",
      "  restaurant_df = restaurant_df.append({'Restaurant Name': name, 'Price Level': price, 'Rating': rating, 'Address': vicinity, 'City Code': city_code}, ignore_index = True)\n",
      "C:\\Users\\Owner\\AppData\\Local\\Temp\\ipykernel_7968\\3211776762.py:36: FutureWarning: The frame.append method is deprecated and will be removed from pandas in a future version. Use pandas.concat instead.\n",
      "  restaurant_df = restaurant_df.append({'Restaurant Name': name, 'Price Level': price, 'Rating': rating, 'Address': vicinity, 'City Code': city_code}, ignore_index = True)\n"
     ]
    },
    {
     "name": "stdout",
     "output_type": "stream",
     "text": [
      "SFO\n",
      "{'business_status': 'OPERATIONAL', 'geometry': {'location': {'lat': 37.579933, 'lng': -122.347116}, 'viewport': {'northeast': {'lat': 37.58124893029149, 'lng': -122.3456721697085}, 'southwest': {'lat': 37.57855096970849, 'lng': -122.3483701302915}}}, 'icon': 'https://maps.gstatic.com/mapfiles/place_api/icons/v1/png_71/restaurant-71.png', 'icon_background_color': '#FF9E67', 'icon_mask_base_uri': 'https://maps.gstatic.com/mapfiles/place_api/icons/v2/restaurant_pinlet', 'name': 'Il Fornaio Burlingame', 'opening_hours': {'open_now': True}, 'photos': [{'height': 1304, 'html_attributions': ['<a href=\"https://maps.google.com/maps/contrib/113993062242972751699\">Il Fornaio Burlingame</a>'], 'photo_reference': 'AcYSjRiEMt9IoGHBxtPGoovG_Io4fqBSue1w6EwzWzfPka_F2apL1QyeIPuaDHZB5Ns4J20253p4MFZAMaXCumBG8aXCNvn8y5zfYmMEBGnMHqOS532h-aLjPuUWShs3RXx8S2bgyGeLiUOzen0I8Csw5Xhg9EPtDNiDnSQrMB0eXPAu8f7M', 'width': 1684}], 'place_id': 'ChIJxyMCLPKdj4ARCOZkwvPLG1c', 'plus_code': {'compound_code': 'HMH3+X5 Burlingame, CA, USA', 'global_code': '849VHMH3+X5'}, 'price_level': 2, 'rating': 4.2, 'reference': 'ChIJxyMCLPKdj4ARCOZkwvPLG1c', 'scope': 'GOOGLE', 'types': ['restaurant', 'food', 'point_of_interest', 'establishment'], 'user_ratings_total': 937, 'vicinity': '327 Lorton Avenue, Burlingame'}\n",
      "Missing field/result... skipping.\n",
      "-------------\n",
      "Retrieving results for index 36 : SEA\n"
     ]
    },
    {
     "name": "stderr",
     "output_type": "stream",
     "text": [
      "C:\\Users\\Owner\\AppData\\Local\\Temp\\ipykernel_7968\\3211776762.py:36: FutureWarning: The frame.append method is deprecated and will be removed from pandas in a future version. Use pandas.concat instead.\n",
      "  restaurant_df = restaurant_df.append({'Restaurant Name': name, 'Price Level': price, 'Rating': rating, 'Address': vicinity, 'City Code': city_code}, ignore_index = True)\n",
      "C:\\Users\\Owner\\AppData\\Local\\Temp\\ipykernel_7968\\3211776762.py:36: FutureWarning: The frame.append method is deprecated and will be removed from pandas in a future version. Use pandas.concat instead.\n",
      "  restaurant_df = restaurant_df.append({'Restaurant Name': name, 'Price Level': price, 'Rating': rating, 'Address': vicinity, 'City Code': city_code}, ignore_index = True)\n",
      "C:\\Users\\Owner\\AppData\\Local\\Temp\\ipykernel_7968\\3211776762.py:36: FutureWarning: The frame.append method is deprecated and will be removed from pandas in a future version. Use pandas.concat instead.\n",
      "  restaurant_df = restaurant_df.append({'Restaurant Name': name, 'Price Level': price, 'Rating': rating, 'Address': vicinity, 'City Code': city_code}, ignore_index = True)\n",
      "C:\\Users\\Owner\\AppData\\Local\\Temp\\ipykernel_7968\\3211776762.py:36: FutureWarning: The frame.append method is deprecated and will be removed from pandas in a future version. Use pandas.concat instead.\n",
      "  restaurant_df = restaurant_df.append({'Restaurant Name': name, 'Price Level': price, 'Rating': rating, 'Address': vicinity, 'City Code': city_code}, ignore_index = True)\n",
      "C:\\Users\\Owner\\AppData\\Local\\Temp\\ipykernel_7968\\3211776762.py:36: FutureWarning: The frame.append method is deprecated and will be removed from pandas in a future version. Use pandas.concat instead.\n",
      "  restaurant_df = restaurant_df.append({'Restaurant Name': name, 'Price Level': price, 'Rating': rating, 'Address': vicinity, 'City Code': city_code}, ignore_index = True)\n"
     ]
    },
    {
     "name": "stdout",
     "output_type": "stream",
     "text": [
      "SEA\n",
      "{'business_status': 'OPERATIONAL', 'geometry': {'location': {'lat': 47.4373164, 'lng': -122.2874999}, 'viewport': {'northeast': {'lat': 47.4385394302915, 'lng': -122.2861528697085}, 'southwest': {'lat': 47.4358414697085, 'lng': -122.2888508302915}}}, 'icon': 'https://maps.gstatic.com/mapfiles/place_api/icons/v1/png_71/lodging-71.png', 'icon_background_color': '#909CE1', 'icon_mask_base_uri': 'https://maps.gstatic.com/mapfiles/place_api/icons/v2/hotel_pinlet', 'name': 'Cedarbrook Lodge', 'opening_hours': {'open_now': True}, 'photos': [{'height': 3334, 'html_attributions': ['<a href=\"https://maps.google.com/maps/contrib/101431992207614408973\">Cedarbrook Lodge</a>'], 'photo_reference': 'AcYSjRh5lqnPCGVSc0kOW0Zt0JII674bGnxGXCnr_bHZhitm7P_bYj7-5HAY1UtLmTj__Vh3GnJ3ZCqzTnSs_PxQYgpBdlOPe92q9qECWeB3hQuB94CDrT_ozoaZEupzYI1FsUu-3i93VnrDAiR7AxV3M6KXEHWb6oVTt_ZBuoeEQw6tIuLr', 'width': 5000}], 'place_id': 'ChIJO0gcqaZckFQRH-GoCnJ01mk', 'plus_code': {'compound_code': 'CPP7+W2 Seattle, WA, USA', 'global_code': '84VVCPP7+W2'}, 'price_level': 4, 'rating': 4.7, 'reference': 'ChIJO0gcqaZckFQRH-GoCnJ01mk', 'scope': 'GOOGLE', 'types': ['lodging', 'restaurant', 'food', 'point_of_interest', 'establishment'], 'user_ratings_total': 2060, 'vicinity': '18525 36th Avenue South, Seattle'}\n",
      "Missing field/result... skipping.\n",
      "-------------\n",
      "Retrieving results for index 37 : STL\n",
      "STL\n",
      "{'business_status': 'OPERATIONAL', 'geometry': {'location': {'lat': 38.73040509999999, 'lng': -90.34473539999999}, 'viewport': {'northeast': {'lat': 38.73160988029151, 'lng': -90.34341091970849}, 'southwest': {'lat': 38.72891191970851, 'lng': -90.34610888029151}}}, 'icon': 'https://maps.gstatic.com/mapfiles/place_api/icons/v1/png_71/restaurant-71.png', 'icon_background_color': '#FF9E67', 'icon_mask_base_uri': 'https://maps.gstatic.com/mapfiles/place_api/icons/v2/restaurant_pinlet', 'name': 'Waffle House', 'opening_hours': {'open_now': True}, 'photos': [{'height': 3024, 'html_attributions': ['<a href=\"https://maps.google.com/maps/contrib/116843696288450331507\">Ahmadreza Jalali</a>'], 'photo_reference': 'AcYSjRg3rpbnCzG6kKFTt_hzShfOO-LyI6DWfopveydKV16C065OjfxDebYiRaK-3HQLSN7_3lu7awiOaqdgTi3ksJleBVaxy_sZiMyOvI_H0qh0X4xhtx7A0IFGJffanw3LVprrYVSCUWHaGC14R3G1adHWp7BnJqHEK7KqMLT9MNw_niOU', 'width': 4032}], 'place_id': 'ChIJecKpJy8034cRHi-B6s378ew', 'plus_code': {'compound_code': 'PMJ4+54 Berkeley, MO, USA', 'global_code': '86CFPMJ4+54'}, 'price_level': 1, 'rating': 4.2, 'reference': 'ChIJecKpJy8034cRHi-B6s378ew', 'scope': 'GOOGLE', 'types': ['meal_takeaway', 'restaurant', 'point_of_interest', 'food', 'establishment'], 'user_ratings_total': 1292, 'vicinity': '4525 James S. McDonnell Boulevard, Berkeley'}\n"
     ]
    },
    {
     "name": "stderr",
     "output_type": "stream",
     "text": [
      "C:\\Users\\Owner\\AppData\\Local\\Temp\\ipykernel_7968\\3211776762.py:36: FutureWarning: The frame.append method is deprecated and will be removed from pandas in a future version. Use pandas.concat instead.\n",
      "  restaurant_df = restaurant_df.append({'Restaurant Name': name, 'Price Level': price, 'Rating': rating, 'Address': vicinity, 'City Code': city_code}, ignore_index = True)\n",
      "C:\\Users\\Owner\\AppData\\Local\\Temp\\ipykernel_7968\\3211776762.py:36: FutureWarning: The frame.append method is deprecated and will be removed from pandas in a future version. Use pandas.concat instead.\n",
      "  restaurant_df = restaurant_df.append({'Restaurant Name': name, 'Price Level': price, 'Rating': rating, 'Address': vicinity, 'City Code': city_code}, ignore_index = True)\n",
      "C:\\Users\\Owner\\AppData\\Local\\Temp\\ipykernel_7968\\3211776762.py:36: FutureWarning: The frame.append method is deprecated and will be removed from pandas in a future version. Use pandas.concat instead.\n",
      "  restaurant_df = restaurant_df.append({'Restaurant Name': name, 'Price Level': price, 'Rating': rating, 'Address': vicinity, 'City Code': city_code}, ignore_index = True)\n"
     ]
    },
    {
     "name": "stdout",
     "output_type": "stream",
     "text": [
      "Missing field/result... skipping.\n",
      "-------------\n",
      "Retrieving results for index 38 : TPA\n",
      "TPA\n",
      "{'business_status': 'OPERATIONAL', 'geometry': {'location': {'lat': 27.9663422, 'lng': -82.5210942}, 'viewport': {'northeast': {'lat': 27.9675665302915, 'lng': -82.51986626970849}, 'southwest': {'lat': 27.9648685697085, 'lng': -82.52256423029151}}}, 'icon': 'https://maps.gstatic.com/mapfiles/place_api/icons/v1/png_71/restaurant-71.png', 'icon_background_color': '#FF9E67', 'icon_mask_base_uri': 'https://maps.gstatic.com/mapfiles/place_api/icons/v2/restaurant_pinlet', 'name': 'The Cheesecake Factory', 'opening_hours': {'open_now': True}, 'photos': [{'height': 1208, 'html_attributions': ['<a href=\"https://maps.google.com/maps/contrib/109729949646977526302\">Tony L</a>'], 'photo_reference': 'AcYSjRjHQDUW8hYdC46NuWsdx5gpmSFeEoOFsZisxYIOaBxrjMW55JhUCQQpUEI5beT-G6jIEPa7RK5G8ZcMaxfr8mUw2rs2i5kYTQSSJOhW974WJCEorKBiQeuabJiM21ZtAaqFT9yp3q0zHy4adOb4rTo8wPGJ9mlgFb4YVhVrgmf7DiuP', 'width': 1608}], 'place_id': 'ChIJraVcblPCwogRguC8g6FyGBQ', 'plus_code': {'compound_code': 'XF8H+GH Tampa, FL, USA', 'global_code': '76VVXF8H+GH'}, 'price_level': 2, 'rating': 4.3, 'reference': 'ChIJraVcblPCwogRguC8g6FyGBQ', 'scope': 'GOOGLE', 'types': ['restaurant', 'meal_takeaway', 'point_of_interest', 'food', 'establishment'], 'user_ratings_total': 6867, 'vicinity': '2223 North Westshore Boulevard, Tampa'}\n",
      "Missing field/result... skipping.\n",
      "-------------\n",
      "Retrieving results for index 39 : IAD\n"
     ]
    },
    {
     "name": "stderr",
     "output_type": "stream",
     "text": [
      "C:\\Users\\Owner\\AppData\\Local\\Temp\\ipykernel_7968\\3211776762.py:36: FutureWarning: The frame.append method is deprecated and will be removed from pandas in a future version. Use pandas.concat instead.\n",
      "  restaurant_df = restaurant_df.append({'Restaurant Name': name, 'Price Level': price, 'Rating': rating, 'Address': vicinity, 'City Code': city_code}, ignore_index = True)\n",
      "C:\\Users\\Owner\\AppData\\Local\\Temp\\ipykernel_7968\\3211776762.py:36: FutureWarning: The frame.append method is deprecated and will be removed from pandas in a future version. Use pandas.concat instead.\n",
      "  restaurant_df = restaurant_df.append({'Restaurant Name': name, 'Price Level': price, 'Rating': rating, 'Address': vicinity, 'City Code': city_code}, ignore_index = True)\n"
     ]
    },
    {
     "name": "stdout",
     "output_type": "stream",
     "text": [
      "WAS\n",
      "{'business_status': 'OPERATIONAL', 'geometry': {'location': {'lat': 38.9516461, 'lng': -77.40930279999999}, 'viewport': {'northeast': {'lat': 38.9528946302915, 'lng': -77.4078238697085}, 'southwest': {'lat': 38.9501966697085, 'lng': -77.4105218302915}}}, 'icon': 'https://maps.gstatic.com/mapfiles/place_api/icons/v1/png_71/bar-71.png', 'icon_background_color': '#FF9E67', 'icon_mask_base_uri': 'https://maps.gstatic.com/mapfiles/place_api/icons/v2/bar_pinlet', 'name': \"Stone's Cove Kitbar\", 'opening_hours': {'open_now': False}, 'photos': [{'height': 713, 'html_attributions': ['<a href=\"https://maps.google.com/maps/contrib/116776365491513997344\">Stone&#39;s Cove Kitbar</a>'], 'photo_reference': 'AcYSjRjUXnybl35VmFIifXn4SrPg8qTcIzyZM9r3ST43nvcVWCdILpJUo1V_l0INEs7U8YDzPr7YfYVqLJYhPxA5Bfqji2faYkAbh8P8SwjSGJ7jG6csv5tOA4C0NXVtcn_Q1cAQpPwx1BTsxS6Cx78bNdniBgZ5luDCLp8uGkDp9WfVAoMq', 'width': 1000}], 'place_id': 'ChIJ12VH3ZZHtokR-8N2xTFZAFI', 'plus_code': {'compound_code': 'XH2R+M7 Herndon, VA, USA', 'global_code': '87C4XH2R+M7'}, 'price_level': 2, 'rating': 4.4, 'reference': 'ChIJ12VH3ZZHtokR-8N2xTFZAFI', 'scope': 'GOOGLE', 'types': ['bar', 'restaurant', 'food', 'point_of_interest', 'establishment'], 'user_ratings_total': 1165, 'vicinity': '2403 Centreville Road, Herndon'}\n"
     ]
    },
    {
     "name": "stderr",
     "output_type": "stream",
     "text": [
      "C:\\Users\\Owner\\AppData\\Local\\Temp\\ipykernel_7968\\3211776762.py:36: FutureWarning: The frame.append method is deprecated and will be removed from pandas in a future version. Use pandas.concat instead.\n",
      "  restaurant_df = restaurant_df.append({'Restaurant Name': name, 'Price Level': price, 'Rating': rating, 'Address': vicinity, 'City Code': city_code}, ignore_index = True)\n",
      "C:\\Users\\Owner\\AppData\\Local\\Temp\\ipykernel_7968\\3211776762.py:36: FutureWarning: The frame.append method is deprecated and will be removed from pandas in a future version. Use pandas.concat instead.\n",
      "  restaurant_df = restaurant_df.append({'Restaurant Name': name, 'Price Level': price, 'Rating': rating, 'Address': vicinity, 'City Code': city_code}, ignore_index = True)\n",
      "C:\\Users\\Owner\\AppData\\Local\\Temp\\ipykernel_7968\\3211776762.py:36: FutureWarning: The frame.append method is deprecated and will be removed from pandas in a future version. Use pandas.concat instead.\n",
      "  restaurant_df = restaurant_df.append({'Restaurant Name': name, 'Price Level': price, 'Rating': rating, 'Address': vicinity, 'City Code': city_code}, ignore_index = True)\n",
      "C:\\Users\\Owner\\AppData\\Local\\Temp\\ipykernel_7968\\3211776762.py:36: FutureWarning: The frame.append method is deprecated and will be removed from pandas in a future version. Use pandas.concat instead.\n",
      "  restaurant_df = restaurant_df.append({'Restaurant Name': name, 'Price Level': price, 'Rating': rating, 'Address': vicinity, 'City Code': city_code}, ignore_index = True)\n",
      "C:\\Users\\Owner\\AppData\\Local\\Temp\\ipykernel_7968\\3211776762.py:36: FutureWarning: The frame.append method is deprecated and will be removed from pandas in a future version. Use pandas.concat instead.\n",
      "  restaurant_df = restaurant_df.append({'Restaurant Name': name, 'Price Level': price, 'Rating': rating, 'Address': vicinity, 'City Code': city_code}, ignore_index = True)\n",
      "C:\\Users\\Owner\\AppData\\Local\\Temp\\ipykernel_7968\\3211776762.py:36: FutureWarning: The frame.append method is deprecated and will be removed from pandas in a future version. Use pandas.concat instead.\n",
      "  restaurant_df = restaurant_df.append({'Restaurant Name': name, 'Price Level': price, 'Rating': rating, 'Address': vicinity, 'City Code': city_code}, ignore_index = True)\n",
      "C:\\Users\\Owner\\AppData\\Local\\Temp\\ipykernel_7968\\3211776762.py:36: FutureWarning: The frame.append method is deprecated and will be removed from pandas in a future version. Use pandas.concat instead.\n",
      "  restaurant_df = restaurant_df.append({'Restaurant Name': name, 'Price Level': price, 'Rating': rating, 'Address': vicinity, 'City Code': city_code}, ignore_index = True)\n",
      "C:\\Users\\Owner\\AppData\\Local\\Temp\\ipykernel_7968\\3211776762.py:36: FutureWarning: The frame.append method is deprecated and will be removed from pandas in a future version. Use pandas.concat instead.\n",
      "  restaurant_df = restaurant_df.append({'Restaurant Name': name, 'Price Level': price, 'Rating': rating, 'Address': vicinity, 'City Code': city_code}, ignore_index = True)\n",
      "C:\\Users\\Owner\\AppData\\Local\\Temp\\ipykernel_7968\\3211776762.py:36: FutureWarning: The frame.append method is deprecated and will be removed from pandas in a future version. Use pandas.concat instead.\n",
      "  restaurant_df = restaurant_df.append({'Restaurant Name': name, 'Price Level': price, 'Rating': rating, 'Address': vicinity, 'City Code': city_code}, ignore_index = True)\n",
      "C:\\Users\\Owner\\AppData\\Local\\Temp\\ipykernel_7968\\3211776762.py:36: FutureWarning: The frame.append method is deprecated and will be removed from pandas in a future version. Use pandas.concat instead.\n",
      "  restaurant_df = restaurant_df.append({'Restaurant Name': name, 'Price Level': price, 'Rating': rating, 'Address': vicinity, 'City Code': city_code}, ignore_index = True)\n"
     ]
    }
   ],
   "source": [
    "base_url = \"https://maps.googleapis.com/maps/api/place/nearbysearch/json\"\n",
    "params = {\"radius\": 50000,\n",
    "    \"type\": \"restaurant\",\n",
    "    \"price_level\": ,\n",
    "    \"key\": \"your key here\"}\n",
    "i=0\n",
    "j=0\n",
    "for i in range(len(data)):\n",
    "    \n",
    "    #get coords from df\n",
    "    lat = data[i][0][\"latitudeAirport\"]\n",
    "    lng = data[i][0][\"longitudeAirport\"]\n",
    "    \n",
    "    #puts our lat and lngs into our location parameter, this is inside our loop because it is changing\n",
    "    params[\"location\"] = f\"{lat},{lng}\"\n",
    "    \n",
    "    #get results\n",
    "    print(f\"Retrieving results for index {i} : {data[i][0]['codeIataAirport']}\")\n",
    "    response = requests.get(base_url, params=params).json()\n",
    "    results = response['results']\n",
    "    #city_code = data[i][0]['codeIataCity']\n",
    "    print(data[i][0]['codeIataCity'])\n",
    "    try:\n",
    "        #printing our results\n",
    "        print(results[0])\n",
    "        for j in range(10):\n",
    "            #print(results[j]['name'])\n",
    "            #print(results[j]['rating'])\n",
    "            #print(results[j]['vicinity'])\n",
    "            name = str(results[j]['name'])\n",
    "            rating = str(results[j]['rating'])\n",
    "            vicinity = str(results[j]['vicinity'])\n",
    "            price = str(results[j]['price_level'])\n",
    "            city_code = data[i][0]['codeIataCity']\n",
    "            #print(city_code)\n",
    "            restaurant_df = restaurant_df.append({'Restaurant Name': name, 'Price Level': price, 'Rating': rating, 'Address': vicinity, 'City Code': city_code}, ignore_index = True)\n",
    "    except (KeyError, IndexError):\n",
    "        #printing our result if we dont have a hotel within 5000m\n",
    "        print(\"Missing field/result... skipping.\")\n",
    "        print(\"-------------\")\n",
    "    \n",
    "    i += 1"
   ]
  },
  {
   "cell_type": "code",
   "execution_count": 8,
   "id": "2ae22aba",
   "metadata": {},
   "outputs": [
    {
     "data": {
      "text/html": [
       "<div>\n",
       "<style scoped>\n",
       "    .dataframe tbody tr th:only-of-type {\n",
       "        vertical-align: middle;\n",
       "    }\n",
       "\n",
       "    .dataframe tbody tr th {\n",
       "        vertical-align: top;\n",
       "    }\n",
       "\n",
       "    .dataframe thead th {\n",
       "        text-align: right;\n",
       "    }\n",
       "</style>\n",
       "<table border=\"1\" class=\"dataframe\">\n",
       "  <thead>\n",
       "    <tr style=\"text-align: right;\">\n",
       "      <th></th>\n",
       "      <th>Restaurant Name</th>\n",
       "      <th>Price Level</th>\n",
       "      <th>Rating</th>\n",
       "      <th>Address</th>\n",
       "      <th>City Code</th>\n",
       "    </tr>\n",
       "  </thead>\n",
       "  <tbody>\n",
       "    <tr>\n",
       "      <th>0</th>\n",
       "      <td>Buffalo Wild Wings</td>\n",
       "      <td>2</td>\n",
       "      <td>3.6</td>\n",
       "      <td>1700 Towne Center Lane, Albuquerque</td>\n",
       "      <td>ABQ</td>\n",
       "    </tr>\n",
       "    <tr>\n",
       "      <th>1</th>\n",
       "      <td>Subway</td>\n",
       "      <td>1</td>\n",
       "      <td>4</td>\n",
       "      <td>1306 Gibson Boulevard Southeast, Albuquerque</td>\n",
       "      <td>ABQ</td>\n",
       "    </tr>\n",
       "    <tr>\n",
       "      <th>2</th>\n",
       "      <td>Dion's</td>\n",
       "      <td>1</td>\n",
       "      <td>4.5</td>\n",
       "      <td>1600 Towne Center Lane, Albuquerque</td>\n",
       "      <td>ABQ</td>\n",
       "    </tr>\n",
       "    <tr>\n",
       "      <th>3</th>\n",
       "      <td>Applebee's Grill + Bar</td>\n",
       "      <td>2</td>\n",
       "      <td>4</td>\n",
       "      <td>2000 Yale Boulevard Southeast, Albuquerque</td>\n",
       "      <td>ABQ</td>\n",
       "    </tr>\n",
       "    <tr>\n",
       "      <th>4</th>\n",
       "      <td>Subway</td>\n",
       "      <td>1</td>\n",
       "      <td>3.9</td>\n",
       "      <td>4503 Biggs Avenue Southeast Building 944, Kirt...</td>\n",
       "      <td>ABQ</td>\n",
       "    </tr>\n",
       "    <tr>\n",
       "      <th>...</th>\n",
       "      <td>...</td>\n",
       "      <td>...</td>\n",
       "      <td>...</td>\n",
       "      <td>...</td>\n",
       "      <td>...</td>\n",
       "    </tr>\n",
       "    <tr>\n",
       "      <th>359</th>\n",
       "      <td>Punjabi Junction</td>\n",
       "      <td>2</td>\n",
       "      <td>4.1</td>\n",
       "      <td>23520 Overland Drive Ste 122, Sterling</td>\n",
       "      <td>WAS</td>\n",
       "    </tr>\n",
       "    <tr>\n",
       "      <th>360</th>\n",
       "      <td>Subway</td>\n",
       "      <td>1</td>\n",
       "      <td>4.1</td>\n",
       "      <td>23050 Pacific Boulevard, Sterling</td>\n",
       "      <td>WAS</td>\n",
       "    </tr>\n",
       "    <tr>\n",
       "      <th>361</th>\n",
       "      <td>TGI Fridays</td>\n",
       "      <td>2</td>\n",
       "      <td>3.7</td>\n",
       "      <td>13071 Worldgate Drive, Herndon</td>\n",
       "      <td>WAS</td>\n",
       "    </tr>\n",
       "    <tr>\n",
       "      <th>362</th>\n",
       "      <td>Subway</td>\n",
       "      <td>1</td>\n",
       "      <td>3.7</td>\n",
       "      <td>13053 Worldgate Drive Unit 14, Herndon</td>\n",
       "      <td>WAS</td>\n",
       "    </tr>\n",
       "    <tr>\n",
       "      <th>363</th>\n",
       "      <td>Mellow Mushroom Herndon</td>\n",
       "      <td>2</td>\n",
       "      <td>4.2</td>\n",
       "      <td>1030 Elden Street, Herndon</td>\n",
       "      <td>WAS</td>\n",
       "    </tr>\n",
       "  </tbody>\n",
       "</table>\n",
       "<p>364 rows × 5 columns</p>\n",
       "</div>"
      ],
      "text/plain": [
       "             Restaurant Name Price Level Rating  \\\n",
       "0         Buffalo Wild Wings           2    3.6   \n",
       "1                     Subway           1      4   \n",
       "2                     Dion's           1    4.5   \n",
       "3     Applebee's Grill + Bar           2      4   \n",
       "4                     Subway           1    3.9   \n",
       "..                       ...         ...    ...   \n",
       "359         Punjabi Junction           2    4.1   \n",
       "360                   Subway           1    4.1   \n",
       "361              TGI Fridays           2    3.7   \n",
       "362                   Subway           1    3.7   \n",
       "363  Mellow Mushroom Herndon           2    4.2   \n",
       "\n",
       "                                               Address City Code  \n",
       "0                  1700 Towne Center Lane, Albuquerque       ABQ  \n",
       "1         1306 Gibson Boulevard Southeast, Albuquerque       ABQ  \n",
       "2                  1600 Towne Center Lane, Albuquerque       ABQ  \n",
       "3           2000 Yale Boulevard Southeast, Albuquerque       ABQ  \n",
       "4    4503 Biggs Avenue Southeast Building 944, Kirt...       ABQ  \n",
       "..                                                 ...       ...  \n",
       "359             23520 Overland Drive Ste 122, Sterling       WAS  \n",
       "360                  23050 Pacific Boulevard, Sterling       WAS  \n",
       "361                     13071 Worldgate Drive, Herndon       WAS  \n",
       "362             13053 Worldgate Drive Unit 14, Herndon       WAS  \n",
       "363                         1030 Elden Street, Herndon       WAS  \n",
       "\n",
       "[364 rows x 5 columns]"
      ]
     },
     "execution_count": 8,
     "metadata": {},
     "output_type": "execute_result"
    }
   ],
   "source": [
    "restaurant_df"
   ]
  },
  {
   "cell_type": "code",
   "execution_count": 6,
   "id": "a12ad6f4",
   "metadata": {},
   "outputs": [],
   "source": [
    "restaurant_df.to_csv('restaurant.csv')"
   ]
  },
  {
   "cell_type": "code",
   "execution_count": null,
   "id": "ee172fe1",
   "metadata": {},
   "outputs": [],
   "source": []
  }
 ],
 "metadata": {
  "kernelspec": {
   "display_name": "Python 3 (ipykernel)",
   "language": "python",
   "name": "python3"
  },
  "language_info": {
   "codemirror_mode": {
    "name": "ipython",
    "version": 3
   },
   "file_extension": ".py",
   "mimetype": "text/x-python",
   "name": "python",
   "nbconvert_exporter": "python",
   "pygments_lexer": "ipython3",
   "version": "3.9.12"
  }
 },
 "nbformat": 4,
 "nbformat_minor": 5
}
